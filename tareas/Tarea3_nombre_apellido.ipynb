{
 "cells": [
  {
   "cell_type": "markdown",
   "id": "84464b84",
   "metadata": {},
   "source": [
    "# Tarea 3:\n",
    "\n",
    "## Regresión Lineal"
   ]
  },
  {
   "cell_type": "markdown",
   "id": "eef2c107",
   "metadata": {},
   "source": [
    "Crear una clase python llamada RegresionLineal que contenga los siguientes métodos:\n",
    "\n",
    "- Un método para generar el intercepto y la pendiente de la línea de mínimos cuadrados. (Método `fit` del modelo)\n",
    "\n",
    "- Un método para realizar la predicción. (Método `predict` del modelo)\n",
    "\n",
    "- Un método para calcular el R-cuadrado. (Método `score` del modelo)\n",
    "\n",
    "Probar los métodos de la clase usando los datos del archivo `Advertising.csv`\n",
    "\n",
    "Envie la tarea colocando su nombre en el nombre del notebook. Ejemplo: Tarea2_wladimir_rodriguez.ipynb\n",
    "\n",
    "No es necesario enviar el archivo `Advertising.csv`\n",
    "\n",
    "Fecha de entrega: Jueves 6 de Julio (antes de la hora de clase)"
   ]
  },
  {
   "cell_type": "code",
   "execution_count": null,
   "id": "35f64ba3",
   "metadata": {},
   "outputs": [],
   "source": [
    "# Implementación de la clase RegresionLineal\n",
    "\n",
    "\n"
   ]
  }
 ],
 "metadata": {
  "kernelspec": {
   "display_name": "Python 3 (ipykernel)",
   "language": "python",
   "name": "python3"
  },
  "language_info": {
   "codemirror_mode": {
    "name": "ipython",
    "version": 3
   },
   "file_extension": ".py",
   "mimetype": "text/x-python",
   "name": "python",
   "nbconvert_exporter": "python",
   "pygments_lexer": "ipython3",
   "version": "3.8.13"
  }
 },
 "nbformat": 4,
 "nbformat_minor": 5
}
