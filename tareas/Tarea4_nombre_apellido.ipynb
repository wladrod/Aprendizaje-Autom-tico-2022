{
 "cells": [
  {
   "cell_type": "markdown",
   "metadata": {},
   "source": [
    "# Tarea 4:\n",
    "\n",
    "## Regresión Lineal 2"
   ]
  },
  {
   "cell_type": "markdown",
   "metadata": {},
   "source": [
    "Predecir el precio de las casas usando el conjunto de datos *Boston Housing Data Set* el cual viene incluido en `sklearn`.\n",
    "\n",
    "Envie la tarea colocando su nombre en el nombre del notebook. Ejemplo: Tarea4_wladimir_rodriguez.ipynb\n",
    "\n",
    "Fecha de entrega: Jueves 14 de Julio (antes de la hora de clase)"
   ]
  },
  {
   "cell_type": "code",
   "execution_count": null,
   "metadata": {
    "collapsed": true
   },
   "outputs": [],
   "source": [
    "# Importar las librerías necesarias\n",
    "from sklearn.linear_model import LinearRegression, Lasso, Ridge\n",
    "from sklearn.model_selection import train_test_split\n",
    "from sklearn.datasets import load_boston\n",
    "import numpy as np\n",
    "import pandas as pd\n",
    "from sklearn.metrics import mean_squared_error\n",
    "from matplotlib import pyplot as plt\n",
    "%matplotlib inline"
   ]
  },
  {
   "cell_type": "code",
   "execution_count": null,
   "metadata": {},
   "outputs": [],
   "source": [
    "# 1. Leer el conjunto de datos a un dataframe de Pandas\n",
    "datos = load_boston()\n",
    "df = pd.DataFrame(datos.data, columns=datos.feature_names)\n",
    "df['target'] = dataset.target\n",
    "df.head()"
   ]
  },
  {
   "cell_type": "markdown",
   "metadata": {},
   "source": [
    "El resultado de load_boston () es un objeto similar a un diccionario con cuatro componentes: ['target', 'data', 'DESCR', 'feature_names']:\n",
    "\n",
    "- datos['target'] - 1D matriz numpy de valores de atributo destino (objetivo)\n",
    "- datos['data'] - 2D numpy array de valores de los atributos\n",
    "- datos['feature_names'] - 1D numpy array de nombres de los atributos\n",
    "- datos['DESCR'] - descripción del conjunto de datos\n",
    "\n",
    "Así que es fácil convertirlo en un pandas DataFrame."
   ]
  },
  {
   "cell_type": "code",
   "execution_count": null,
   "metadata": {
    "collapsed": true
   },
   "outputs": [],
   "source": [
    "# 2. Imprimir la descripción del conjunto de datos\n"
   ]
  },
  {
   "cell_type": "code",
   "execution_count": null,
   "metadata": {
    "collapsed": true
   },
   "outputs": [],
   "source": [
    "# 3. Imprimir el tamaño del conjunto de datos (shape)\n"
   ]
  },
  {
   "cell_type": "code",
   "execution_count": null,
   "metadata": {
    "collapsed": true
   },
   "outputs": [],
   "source": [
    "# 4. Graficar alguno de los atributos contra la variable objetivo (target)\n"
   ]
  },
  {
   "cell_type": "code",
   "execution_count": null,
   "metadata": {
    "collapsed": true
   },
   "outputs": [],
   "source": [
    "# 5. Dividir el conjunto de datos en un conjunto de entrenamiento y uno de prueba. Usar random_state=0\n"
   ]
  },
  {
   "cell_type": "code",
   "execution_count": null,
   "metadata": {
    "collapsed": true
   },
   "outputs": [],
   "source": [
    "# 6. Crear un objeto LinearRegression y entrenarlo con el conjunto de entrenamiento\n"
   ]
  },
  {
   "cell_type": "code",
   "execution_count": null,
   "metadata": {
    "collapsed": true
   },
   "outputs": [],
   "source": [
    "# 7. Calcular RMSE sobre el conjunto de prueba. (RMSE = sqrt(MSE)) y (MSE = mean_square_error)\n"
   ]
  },
  {
   "cell_type": "code",
   "execution_count": null,
   "metadata": {
    "collapsed": true
   },
   "outputs": [],
   "source": [
    "# 8. Seleccionar el atributo RM y repetir preguntas 5, 6 y 7\n"
   ]
  },
  {
   "cell_type": "code",
   "execution_count": null,
   "metadata": {
    "collapsed": true
   },
   "outputs": [],
   "source": [
    "# 9. Con el atributo RM realizar regresion polinomial con grados = 2,4,8 y 16. Repetir preguntas 5, 6 y 7 \n",
    "# para cada uno de los grados del polinomio.\n"
   ]
  },
  {
   "cell_type": "code",
   "execution_count": null,
   "metadata": {
    "collapsed": true
   },
   "outputs": [],
   "source": [
    "# 10. Realizar Regresion Lineal Ridge. Usando un alfa = 0.5. Calcular el RMSE sobre el conjunto de prueba\n"
   ]
  },
  {
   "cell_type": "code",
   "execution_count": null,
   "metadata": {
    "collapsed": true
   },
   "outputs": [],
   "source": [
    "# 11. Realizar validacion cruzada 10_fold. Calcular el RMSE promedio.\n"
   ]
  },
  {
   "cell_type": "code",
   "execution_count": null,
   "metadata": {
    "collapsed": true
   },
   "outputs": [],
   "source": [
    "# 12. Encontra el mejor valor de alfa. Usando Para alfa = np.linspace(.01,20,50). \n"
   ]
  },
  {
   "cell_type": "code",
   "execution_count": null,
   "metadata": {
    "collapsed": true
   },
   "outputs": [],
   "source": [
    "# 13. Graficar el error de validación con respecto al valor de la penalización\n"
   ]
  },
  {
   "cell_type": "code",
   "execution_count": null,
   "metadata": {
    "collapsed": true
   },
   "outputs": [],
   "source": [
    "# 14. Con el mejor valor de alfa. Calcular el RMSE sobre el conjunto de prueba\n"
   ]
  },
  {
   "cell_type": "code",
   "execution_count": null,
   "metadata": {
    "collapsed": true
   },
   "outputs": [],
   "source": [
    "# 15. Encontrar los dos atributos más importantes usando Regresion Lineal Lasso. \n",
    "# Probar con diferentes valores de alfa hasta que solo haya dos coefficientes diferentes a cero\n"
   ]
  }
 ],
 "metadata": {
  "anaconda-cloud": {},
  "kernelspec": {
   "display_name": "Python 3 (ipykernel)",
   "language": "python",
   "name": "python3"
  },
  "language_info": {
   "codemirror_mode": {
    "name": "ipython",
    "version": 3
   },
   "file_extension": ".py",
   "mimetype": "text/x-python",
   "name": "python",
   "nbconvert_exporter": "python",
   "pygments_lexer": "ipython3",
   "version": "3.8.13"
  }
 },
 "nbformat": 4,
 "nbformat_minor": 2
}
