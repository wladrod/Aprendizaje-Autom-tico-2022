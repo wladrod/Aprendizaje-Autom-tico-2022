{
 "cells": [
  {
   "cell_type": "markdown",
   "metadata": {
    "slideshow": {
     "slide_type": "slide"
    }
   },
   "source": [
    "<center>\n",
    "    <h1>Aprendizaje Automático</h1>\n",
    "    <h1>Introducción al Aprendizaje Automático</h1>\n",
    "    <h1></h1>\n",
    "    <h5>Prof. Wladimir Rodríguez</h5>\n",
    "    <h5>wladimir.rodriguez@outlook.com</h5>\n",
    "    <h5>Departamento de Computación</h5>\n",
    "</center>"
   ]
  },
  {
   "cell_type": "markdown",
   "metadata": {
    "slideshow": {
     "slide_type": "slide"
    }
   },
   "source": [
    "# Información General\n",
    "\n",
    "- **Profesor:**\n",
    "    - Dr. Wladimir Rodriguez\n",
    "- **Horario:**\n",
    "    - Lunes de 8:00 a 10:00 y Jueves de 10:00 a 12:00, Salón: Postgrado de Computación\n",
    "- **Horas de Oficina:**\n",
    "    - Martes y Miércoles de 10:00 a 12:00, Salón: Postgrado de Computación\n",
    "- **Material:**\n",
    "    - https://github.com/wladrod/Aprendizaje-Automatico-2022"
   ]
  },
  {
   "cell_type": "markdown",
   "metadata": {
    "slideshow": {
     "slide_type": "slide"
    }
   },
   "source": [
    "# Descripción\n",
    "\n",
    "- El Aprendizaje Automático (o Machine Learning) es una rama de la Inteligencia Artificial que se dedica al estudio de los programas que aprenden a realizar una tarea en base a la experiencia.\n",
    "\n",
    "- Esta asignatura presenta una visión general del aprendizaje automático. Durante el curso, se estudian los principales métodos, incluyendo aprendizaje supervisado, no supervisado y aprendizaje por refuerzo. Además, se incluyen ejercicios y ejemplos prácticas que permiten afianzar los conocimientos"
   ]
  },
  {
   "cell_type": "markdown",
   "metadata": {
    "slideshow": {
     "slide_type": "slide"
    }
   },
   "source": [
    "# Programa:\n",
    "\n",
    "1. Aprendizaje\n",
    "2. ¿Qué es el Aprendizaje Automático?\n",
    "3. Inteligencia Artificial, Aprendizaje Automático, Aprendizaje Profundo\n",
    "4. Aprendizaje Automático y Ciencias de Datos\n",
    "5. Historia del Aprendizaje Automático\n",
    "6. Aplicaciones de Aprendizaje Automático\n",
    "7. Proceso de Aprendizaje Automático\n"
   ]
  },
  {
   "cell_type": "markdown",
   "metadata": {
    "slideshow": {
     "slide_type": "subslide"
    }
   },
   "source": [
    "8. Tipos de Aprendizaje Automático\n",
    "9. Aprendizaje Supervisado\n",
    "10. Aprendizaje No Supervisado\n",
    "11. Aprendizaje por Refuerzo\n",
    "12. Generación del Modelo de Aprendizaje\n",
    "13. Ambiente para el Aprendizaje Automático y el Aprendizaje Profundo\n",
    "14. Demo"
   ]
  },
  {
   "cell_type": "markdown",
   "metadata": {
    "slideshow": {
     "slide_type": "slide"
    }
   },
   "source": [
    "# Evaluación\n",
    "\n",
    "- Tareas semanales: 55%\n",
    "- Asistencia y participación en clase: 5%\n",
    "- Proyecto final: 40%"
   ]
  },
  {
   "cell_type": "markdown",
   "metadata": {
    "slideshow": {
     "slide_type": "slide"
    }
   },
   "source": [
    "# Aprendizaje:\n",
    "\n",
    "- Aprendizaje es el proceso a través del cual se adquieren o modifican habilidades, destrezas, conocimientos, conductas o valores como resultado del estudio, la experiencia, la instrucción, el razonamiento y la observación. (Wikipedia)\n"
   ]
  },
  {
   "cell_type": "markdown",
   "metadata": {
    "slideshow": {
     "slide_type": "fragment"
    }
   },
   "source": [
    "- Aprendizaje denota cambios en el sistema que son adaptativos en el sentido de que permiten al sistema realizar la tarea o las tareas extraídas de la misma población de manera más eficiente y más eficaz la próxima vez. (H. Simon)"
   ]
  },
  {
   "cell_type": "markdown",
   "metadata": {
    "slideshow": {
     "slide_type": "slide"
    }
   },
   "source": [
    "# ¿Qué es el Aprendizaje Automático?\n"
   ]
  },
  {
   "cell_type": "markdown",
   "metadata": {
    "slideshow": {
     "slide_type": "fragment"
    }
   },
   "source": [
    "- El aprendizaje automático o aprendizaje de máquinas (del inglés, *Machine Learning*) es el subcampo de las ciencias de la computación y una rama de la inteligencia artificial cuyo objetivo es desarrollar técnicas que permitan a las computadoras aprender. (Wikipedia)"
   ]
  },
  {
   "cell_type": "markdown",
   "metadata": {
    "slideshow": {
     "slide_type": "fragment"
    }
   },
   "source": [
    "- Campo de estudio que da a los computadores la capacidad de aprender sin ser explícitamente programados. (Arthur Samuel, 1959)"
   ]
  },
  {
   "cell_type": "markdown",
   "metadata": {
    "slideshow": {
     "slide_type": "fragment"
    }
   },
   "source": [
    "- Aprendizaje Automático es predecir el futuro basado en el pasado. (Hal Daume III)"
   ]
  },
  {
   "cell_type": "markdown",
   "metadata": {
    "slideshow": {
     "slide_type": "subslide"
    }
   },
   "source": [
    "- Aprendizaje Automático es la programación de computadoras para optimizar un criterio de rendimiento utilizando datos de ejemplo o experiencia pasada. (Ethem Alpaydin)"
   ]
  },
  {
   "cell_type": "markdown",
   "metadata": {
    "slideshow": {
     "slide_type": "fragment"
    }
   },
   "source": [
    "- El objetivo del aprendizaje automático es desarrollar métodos que puedan detectar automáticamente los patrones en los datos y luego utilizar los patrones descubiertos para predecir los datos futuros u otros resultados de interés. (Kevin P. Murphy)"
   ]
  },
  {
   "cell_type": "markdown",
   "metadata": {
    "slideshow": {
     "slide_type": "fragment"
    }
   },
   "source": [
    "- El campo del reconocimiento de patrones se refiere al descubrimiento automático de regularidades en datos mediante el uso de algoritmos informáticos y con el uso de estas regularidades tomar acciones. (Christopher M. Bishop)"
   ]
  },
  {
   "cell_type": "markdown",
   "metadata": {
    "slideshow": {
     "slide_type": "slide"
    }
   },
   "source": [
    "<center>\n",
    "    <h2>El Mundo del Aprendizaje Automático</h2>\n",
    "    <img src=\"../figuras/SopaLetra.png\"/ width=\"1100\" height=\"900\">\n",
    "</center>"
   ]
  },
  {
   "cell_type": "markdown",
   "metadata": {
    "slideshow": {
     "slide_type": "slide"
    }
   },
   "source": [
    "<center>\n",
    "    <h3>Inteligencia Artificial, Aprendizaje Automático, Aprendizaje Profundo</h3>\n",
    "<br/>\n",
    "<img src=\"../figuras/IA_AA_AP.png\"/></center>\n"
   ]
  },
  {
   "cell_type": "markdown",
   "metadata": {
    "slideshow": {
     "slide_type": "slide"
    }
   },
   "source": [
    "<center>\n",
    "    <h1>Aprendizaje Automático y Ciencias de Datos</h1>\n",
    "    <br/>\n",
    "    <img src='../figuras/AA_SD.png'/ width=\"500\" height=\"500\">\n",
    "</center>"
   ]
  },
  {
   "cell_type": "markdown",
   "metadata": {},
   "source": [
    "<center>\n",
    "    <h1> Historia del Aprendizaje Automático </h1>\n",
    "    <br/>\n",
    "    Basado en:<br/>\n",
    "    https://roboticsbiz.com/machine-learning-the-complete-history-in-a-timeline/\n",
    "</center>"
   ]
  },
  {
   "cell_type": "markdown",
   "metadata": {
    "slideshow": {
     "slide_type": "slide"
    }
   },
   "source": [
    "- **Siglo VIII**: desarrollo de métodos estadísticos: varios conceptos vitales en el aprendizaje automático se derivan de la teoría de la probabilidad y las estadísticas, y se remontan al siglo XVIII. En 1763, el estadístico inglés Thomas Bayes estableció un teorema matemático para la probabilidad condicional, que se conoció como Teorema de Bayes y sigue siendo un concepto central en algunos enfoques modernos del aprendizaje automático.\n",
    "\n",
    "- **1950** — La prueba de Turing: los artículos del matemático inglés Alan Turing en la década de 1940 estaban llenos de ideas sobre la inteligencia artificial. “¿Pueden pensar las máquinas?” Preguntó. En 1950, sugirió una prueba para la inteligencia de las máquinas, más tarde conocida como la Prueba de Turing, en la que una máquina se llama \"inteligente\" si sus respuestas a las preguntas pueden convencer a un humano."
   ]
  },
  {
   "cell_type": "markdown",
   "metadata": {
    "slideshow": {
     "slide_type": "slide"
    }
   },
   "source": [
    "- **1952** — Juego de Damas: En 1952, el investigador Arthur Samuel creó una máquina de aprendizaje automatico, capaz de aprender a jugar a las damas. Usó guías anotadas por expertos humanos y jugó contra sí mismo para aprender a distinguir los movimientos correctos de los malos.\n",
    "\n",
    "- **1956** — El Taller de Dartmouth: El término \"inteligencia artificial\" nació durante el Taller de Dartmouth en 1956, que es ampliamente considerado como el evento fundacional de la inteligencia artificial como campo. El taller duró de seis a ocho semanas y asistieron matemáticos y científicos, incluido el informático John McCarthy, Marvin Minsky, Nathaniel Rochester y Claude Shannon."
   ]
  },
  {
   "cell_type": "markdown",
   "metadata": {
    "slideshow": {
     "slide_type": "slide"
    }
   },
   "source": [
    "- **1957** — El Perceptrón del célebre psicólogo estadounidense Frank Rosenblatt fue uno de los primeros intentos de crear una red neuronal con el uso de una resistencia rotatoria (potenciómetro) impulsada por un motor eléctrico. La máquina podría tomar una entrada (como píxeles de imágenes) y crear una salida (como etiquetas).\n",
    "\n",
    "- **1967** — Algoritmo del vecino más cercano: la regla del vecino más cercano es un clásico en el reconocimiento de patrones, que apareció en varios trabajos de investigación en la década de 1960, especialmente en un artículo escrito por T. Cover y P. Hart en 1967. El algoritmo mapeó un ruta para vendedores ambulantes, comenzando en una ciudad aleatoria pero asegurándose de visitar todas las ciudades durante un recorrido corto."
   ]
  },
  {
   "cell_type": "markdown",
   "metadata": {
    "slideshow": {
     "slide_type": "slide"
    }
   },
   "source": [
    "- **1973**: El informe Lighthill y el invierno de la IA: el Consejo de Investigación Científica del Reino Unido publicó el informe Lighthill de James Lighthill en 1973, que presenta un pronóstico muy pesimista en el desarrollo de aspectos centrales en la investigación de la IA. Afirmó que \"en ninguna parte del campo los descubrimientos realizados hasta ahora produjeron el gran impacto que se prometió en ese momento\". Como resultado, el gobierno británico recortó los fondos para la investigación de IA en todas las universidades excepto en dos. Este período de financiación e interés reducidos se conoce como invierno IA.\n",
    "\n",
    "- **1979** — Stanford Cart: los estudiantes de la Universidad de Stanford inventaron un robot llamado Cart, conectado por radio a una gran computadora central, que puede sortear obstáculos en una habitación por sí solo. Aunque cruzar toda la habitación tomó cinco horas debido a errores y mapas apenas adecuados, la invención era lo último en tecnología en ese momento."
   ]
  },
  {
   "cell_type": "markdown",
   "metadata": {
    "slideshow": {
     "slide_type": "slide"
    }
   },
   "source": [
    "- **1981** — Aprendizaje basado en explicaciones: Gerald Dejong introdujo el concepto de aprendizaje basado en explicaciones, que analiza datos y crea una regla general que puede seguir descartando datos sin importancia.\n",
    "\n",
    "- **1985** — NetTalk: El profesor Terry Sejnowski inventó NetTalk, un programa que aprende a pronunciar un texto escrito en inglés mostrándole el texto como entrada y haciendo coincidir las transcripciones fonéticas para comparar. La intención era construir modelos simplificados que pudieran arrojar luz sobre el aprendizaje humano.\n",
    "\n",
    "- **1986** — Procesamiento distribuido en paralelo y modelos de redes neuronales: David Rumelhart y James McClelland publicaron Procesamiento distribuido en paralelo, que avanzó en el uso de modelos de redes neuronales para el aprendizaje automático."
   ]
  },
  {
   "cell_type": "markdown",
   "metadata": {
    "slideshow": {
     "slide_type": "slide"
    }
   },
   "source": [
    "- **1992** — Jugando al backgammon: el investigador Gerald Tesauro creó un programa basado en una red neuronal artificial, que era capaz de jugar al backgammon con habilidades que igualaban a los mejores jugadores humanos.\n",
    "\n",
    "- **1997** — Deep Blue: Deep Blue de IBM se convirtió en el primer sistema informático de juego de ajedrez en vencer al actual campeón mundial de ajedrez. Deep Blue usó el poder de la computación en la década de 1990 para realizar búsquedas a gran escala de movimientos potenciales y seleccionar el mejor movimiento."
   ]
  },
  {
   "cell_type": "markdown",
   "metadata": {
    "slideshow": {
     "slide_type": "slide"
    }
   },
   "source": [
    "- **2006** — Aprendizaje profundo: Geoffrey Hinton creó el término \"aprendizaje profundo\" para explicar los nuevos algoritmos que ayudan a las computadoras a distinguir objetos y texto en imágenes y videos.\n",
    "\n",
    "- **2010** — Kinect: Microsoft desarrolló el dispositivo de entrada de detección de movimiento llamado Kinect que puede rastrear 20 características humanas a una velocidad de 30 veces por segundo. Permitió a las personas interactuar con la computadora a través de movimientos y gestos.\n",
    "\n",
    "- **2011** — Watson y Google Brain: Watson de IBM ganó un juego del concurso estadounidense Jeopardy contra dos de sus campeones. En el mismo año, Google Brain desarrolló su red neuronal profunda que podía descubrir y categorizar objetos de la forma en que lo hace un gato."
   ]
  },
  {
   "cell_type": "markdown",
   "metadata": {
    "slideshow": {
     "slide_type": "slide"
    }
   },
   "source": [
    "- **2012**: Clasificación de ImageNet y visión por computadora: el año vio la publicación de un influyente artículo de investigación de Alex Krizhevsky, Geoffrey Hinton e Ilya Sutskever, que describe un modelo que puede reducir drásticamente la tasa de error en los sistemas de reconocimiento de imágenes. Mientras tanto, X Lab de Google desarrolló un algoritmo de aprendizaje automático capaz de navegar de forma autónoma en videos de YouTube para identificar los videos que contienen gatos.\n",
    "\n",
    "- **2014** — DeepFace: Facebook desarrolló un algoritmo de software DeepFace, que puede reconocer y verificar personas en fotos con una precisión humana.\n",
    "\n",
    "- **2015** — Amazon Machine Learning: Andy Jassy de AWS lanzó sus servicios administrados de Machine Learning que analizan los datos históricos de los usuarios para buscar patrones e implementar modelos predictivos. En el mismo año, Microsoft creó el kit de herramientas de aprendizaje automático distribuido, que permite la distribución eficiente de problemas de aprendizaje automático en varias computadoras."
   ]
  },
  {
   "cell_type": "markdown",
   "metadata": {
    "slideshow": {
     "slide_type": "slide"
    }
   },
   "source": [
    "- **2016**: AlphaGo: creado por investigadores de Google DeepMind para jugar el antiguo juego chino de Go, ganó cuatro de cinco partidos contra Lee Sedol, quien ha sido el mejor jugador de Go del mundo durante más de una década.\n",
    "\n",
    "- **2017** — Libratus y Deepstack: Investigadores de la Universidad Carnegie Mellon crearon un sistema llamado Libratus, y derrotó a cuatro de los mejores jugadores en No Limit Texas Hold 'em, luego de 20 días de juego en 2017. Investigadores de la Universidad de Alberta también reportaron un éxito similar con su sistema, Deepstack.\n",
    "\n",
    "- **2017** - AlphaZero es un programa informático desarrollado por la empresa de investigación de inteligencia artificial DeepMind para dominar los juegos de ajedrez, shogi y go. Este algoritmo utiliza un enfoque similar a AlphaGo Zero."
   ]
  },
  {
   "cell_type": "markdown",
   "metadata": {
    "slideshow": {
     "slide_type": "slide"
    }
   },
   "source": [
    "- **2020**: GPT-3. OpenAI GPT-3 se presentó por primera vez en mayo de 2020 y las pruebas beta comenzaron en junio de 2020. OpenAI GPT-3 es un modelo de lenguaje que genera texto mediante la adopción de algoritmos preentrenados.\n",
    "\n",
    "- **2021**: AlphaFold es un programa de inteligencia artificial (IA) desarrollado por DeepMind de Alphabet/Google que realiza predicciones de la estructura de las proteínas. El programa está diseñado como un sistema de aprendizaje profundo."
   ]
  },
  {
   "cell_type": "markdown",
   "metadata": {
    "slideshow": {
     "slide_type": "slide"
    }
   },
   "source": [
    "<center>\n",
    "    <h1> Aplicaciones del Aprendizaje Automático </h1>\n",
    "</center>"
   ]
  },
  {
   "cell_type": "markdown",
   "metadata": {
    "slideshow": {
     "slide_type": "subslide"
    }
   },
   "source": [
    "## Asistentes personales virtuales"
   ]
  },
  {
   "cell_type": "markdown",
   "metadata": {
    "slideshow": {
     "slide_type": "fragment"
    }
   },
   "source": [
    "Alexa, Bixby, Cortana, Google Assistant, Siri son algunos de los ejemplos populares de asistentes personales virtuales. Como su nombre indica, ayudan a encontrar información cuando se les pregunta por voz. Todo lo que necesita hacer es activarlos y preguntar \"¿Cuál es mi horario para hoy?\", \"¿Cuáles son los vuelos de Alemania a Londres?\""
   ]
  },
  {
   "cell_type": "markdown",
   "metadata": {
    "slideshow": {
     "slide_type": "subslide"
    }
   },
   "source": [
    "## Atención al cliente en línea"
   ]
  },
  {
   "cell_type": "markdown",
   "metadata": {
    "slideshow": {
     "slide_type": "fragment"
    }
   },
   "source": [
    "Actualmente, varios sitios web ofrecen la opción de chatear con un representante de atención al cliente mientras navegan dentro del sitio. Sin embargo, no todos los sitios web tienen un ejecutivo en vivo para responder sus consultas. En la mayoría de los casos, hablas con un *chatbot*. Estos bots tienden a extraer información del sitio web y presentarla a los clientes. Mientras tanto, los *chatbots* avanzan con el tiempo. Tienden a comprender mejor las consultas de los usuarios y les brindan mejores respuestas, lo cual es posible gracias a sus algoritmos de aprendizaje automático."
   ]
  },
  {
   "cell_type": "markdown",
   "metadata": {
    "slideshow": {
     "slide_type": "subslide"
    }
   },
   "source": [
    "## Recomendaciones de productos"
   ]
  },
  {
   "cell_type": "markdown",
   "metadata": {
    "slideshow": {
     "slide_type": "fragment"
    }
   },
   "source": [
    "Usted compró un producto en línea hace unos días y luego sigue recibiendo correos electrónicos para sugerencias de compras. Si no es así, entonces habrá notado que el sitio web de compras o la aplicación le recomienda algunos artículos que de alguna manera coinciden con su gusto. Ciertamente, esto refina la experiencia de compra. En función de su comportamiento con el sitio web o la aplicación, las compras anteriores, los artículos que le gustaron o añadieron al carrito, las preferencias de marca, etc., se realizan las recomendaciones del producto."
   ]
  },
  {
   "cell_type": "markdown",
   "metadata": {
    "slideshow": {
     "slide_type": "subslide"
    }
   },
   "source": [
    "## Detección de fraude en línea"
   ]
  },
  {
   "cell_type": "markdown",
   "metadata": {
    "slideshow": {
     "slide_type": "fragment"
    }
   },
   "source": [
    "El aprendizaje automático está demostrando su potencial para hacer del ciberespacio un lugar seguro y el seguimiento de fraudes monetarios en línea es uno de sus ejemplos. Por ejemplo: *Paypal* está usando Aprendizaje Automático para la protección contra el lavado de dinero. La empresa utiliza un conjunto de herramientas que les ayuda a comparar millones de transacciones que se realizan y a distinguir entre transacciones legítimas o ilegítimas que tienen lugar entre compradores y vendedores."
   ]
  },
  {
   "cell_type": "markdown",
   "metadata": {
    "slideshow": {
     "slide_type": "subslide"
    }
   },
   "source": [
    "## Servicios de redes sociales"
   ]
  },
  {
   "cell_type": "markdown",
   "metadata": {
    "slideshow": {
     "slide_type": "fragment"
    }
   },
   "source": [
    "Desde la personalización de su servicio de noticias a la mejor orientación de anuncios, las plataformas de medios sociales están utilizando el aprendizaje automático para sus propios beneficios y para el usuario. Aquí hay algunos ejemplos que debe notar, usar y amar en sus cuentas de redes sociales, sin darse cuenta de que estas maravillosas características no son más que aplicaciones de Aprendizaje Automático.\n",
    "- Personas que puedes conocer\n",
    "- Reconocimiento de rostros "
   ]
  },
  {
   "cell_type": "markdown",
   "metadata": {
    "slideshow": {
     "slide_type": "slide"
    }
   },
   "source": [
    "<center>\n",
    "    <h1>Proceso del Aprendizaje Automático</h1>\n",
    "    <br/>\n",
    "    <img src='../figuras/ProcesoAA.png'/ width=\"1000\" height=\"800\">\n",
    "</center>"
   ]
  },
  {
   "cell_type": "markdown",
   "metadata": {
    "slideshow": {
     "slide_type": "slide"
    }
   },
   "source": [
    "<center>\n",
    "    <h1>Tipos de Aprendizaje Automático</h1>\n",
    "    <br/>\n",
    "    <img src='../figuras/TiposAprendizaje.png' width=\"1000\" height=\"800\">\n",
    "</center>"
   ]
  },
  {
   "cell_type": "markdown",
   "metadata": {
    "slideshow": {
     "slide_type": "subslide"
    }
   },
   "source": [
    "## Aprendizaje Supervisado"
   ]
  },
  {
   "cell_type": "markdown",
   "metadata": {
    "slideshow": {
     "slide_type": "fragment"
    }
   },
   "source": [
    "Es una técnica para deducir una función a partir de datos de entrenamiento. Los datos de entrenamiento consisten de pares de objetos (normalmente vectores): un componente del par son los datos de entrada y el otro, los resultados deseados. La salida de la función puede ser un valor numérico (como en los problemas de regresión) o una etiqueta de clase (como en los de clasificación). El objetivo del aprendizaje supervisado es el de crear una función capaz de predecir el valor correspondiente a cualquier objeto de entrada válido después de haber visto una serie de ejemplos, los datos de entrenamiento. Para ello, tiene que generalizar a partir de los datos presentados a las situaciones no vistas previamente. (Wikipedia)"
   ]
  },
  {
   "cell_type": "markdown",
   "metadata": {
    "slideshow": {
     "slide_type": "subslide"
    }
   },
   "source": [
    "<center>\n",
    "    <h1>Clasificación y Regresión</h1>\n",
    "    <br/>\n",
    "    <img src='../figuras/ClasificacionRegresion.png'/ width=\"1000\" height=\"800\">\n",
    "</center>"
   ]
  },
  {
   "cell_type": "markdown",
   "metadata": {
    "slideshow": {
     "slide_type": "subslide"
    }
   },
   "source": [
    "## Aprendizaje No Supervisado"
   ]
  },
  {
   "cell_type": "markdown",
   "metadata": {
    "slideshow": {
     "slide_type": "fragment"
    }
   },
   "source": [
    "Es un método de Aprendizaje Automático donde un modelo es ajustado a las observaciones. Se distingue del Aprendizaje Supervisado por el hecho de que no hay un conocimiento a priori. En el aprendizaje no supervisado, un conjunto de datos de objetos de entrada es tratado. Así, el aprendizaje no supervisado típicamente trata los objetos de entrada como un conjunto de variables aleatorias, siendo construido un modelo de densidad para el conjunto de datos. (Wikipedia)"
   ]
  },
  {
   "cell_type": "markdown",
   "metadata": {
    "slideshow": {
     "slide_type": "subslide"
    }
   },
   "source": [
    "<center>\n",
    "    <h1>Agrupamiento</h1>\n",
    "    <br/>\n",
    "    <img src='../figuras/Agrupamiento.png'/ width=\"550\" height=\"350\">\n",
    "</center>"
   ]
  },
  {
   "cell_type": "markdown",
   "metadata": {
    "slideshow": {
     "slide_type": "subslide"
    }
   },
   "source": [
    "## Aprendizaje por Refuerzo"
   ]
  },
  {
   "cell_type": "markdown",
   "metadata": {
    "slideshow": {
     "slide_type": "fragment"
    }
   },
   "source": [
    "Es un área del aprendizaje automático inspirada en la psicología conductista, cuya ocupación es determinar qué acciones debe escoger un agente de software en un entorno dado con el fin de maximizar alguna noción de \"recompensa\" o premio acumulado."
   ]
  },
  {
   "cell_type": "markdown",
   "metadata": {
    "slideshow": {
     "slide_type": "subslide"
    }
   },
   "source": [
    "<center>\n",
    "    <h1>Agente - Ambiente</h1>\n",
    "    <br/>\n",
    "    <img src='../figuras/Agente_Entorno.png'/ width=\"1000\" height=\"800\">\n",
    "</center>"
   ]
  },
  {
   "cell_type": "markdown",
   "metadata": {
    "slideshow": {
     "slide_type": "slide"
    }
   },
   "source": [
    "<center>\n",
    "    <h1>Generación del Modelo de Aprendizaje</h1>\n",
    "    <br/>\n",
    "    <img src='../figuras/GeneracionModelo.png'/ width=\"800\" height=\"600\">\n",
    "</center>"
   ]
  },
  {
   "cell_type": "markdown",
   "metadata": {
    "slideshow": {
     "slide_type": "slide"
    }
   },
   "source": [
    "<center>\n",
    "    <img src='../figuras/AmbienteAA.png' width=\"900\" height=\"700\"/>\n",
    "</center>"
   ]
  },
  {
   "cell_type": "markdown",
   "metadata": {
    "slideshow": {
     "slide_type": "slide"
    }
   },
   "source": [
    "<center>\n",
    "    <h1>Demostración</h1>"
   ]
  },
  {
   "cell_type": "markdown",
   "metadata": {
    "slideshow": {
     "slide_type": "slide"
    }
   },
   "source": [
    "## Ejemplo de Inicio a Fin de un Problema de Aprendizaje Automático"
   ]
  },
  {
   "cell_type": "markdown",
   "metadata": {
    "slideshow": {
     "slide_type": "slide"
    }
   },
   "source": [
    "## Agenda\n",
    "\n",
    "- Introducción\n",
    "- Descripción de datos\n",
    "- Exploración de datos\n",
    "- Preparación de datos\n",
    "- Entrenamiento y evaluación del modelo de aprendizaje automático\n",
    "- Interpretando el modelo de aprendizaje automático\n",
    "- Guardar el modelo\n",
    "- Hacer predicciones con el modelo"
   ]
  },
  {
   "cell_type": "markdown",
   "metadata": {
    "slideshow": {
     "slide_type": "slide"
    }
   },
   "source": [
    "## Introducción\n",
    "\n",
    "Usaremos Aprendizaje Automático para predecir si una persona tiene diabetes o no, a partir de  la información sobre el paciente, como la presión arterial, el índice de masa corporal (IMC), la edad, etc.\n",
    "\n",
    "Los datos fueron recopilados y puestos a disposición por el \"Instituto Nacional de Diabetes y Enfermedades Digestivas y Renales\" como parte de la base de datos de diabetes de los [Pima Indians](https://www.kaggle.com/uciml/pima-indians-diabetes-database/data)."
   ]
  },
  {
   "cell_type": "markdown",
   "metadata": {
    "slideshow": {
     "slide_type": "subslide"
    }
   },
   "source": [
    "Utilizaremos `Python` y algunos de sus populares librerías relacionados con la ciencia de datos. En primer lugar, importaremos `pandas` para leer nuestros datos de un archivo CSV y manipularlos para su uso posterior. También utilizaremos `Numpy` para convertir datos en un formato adecuado para alimentar nuestro modelo de clasificación. Usaremos `seaborn` y `matplotlib` para las visualizaciones. A continuación, importaremos el algoritmo de Regresión Logística de `sklearn`. Este algoritmo nos ayudará a construir nuestro modelo de clasificación. Por último, utilizaremos la librería `joblib` para guardar nuestro modelo para uso futuro."
   ]
  },
  {
   "cell_type": "code",
   "execution_count": 31,
   "metadata": {
    "slideshow": {
     "slide_type": "slide"
    }
   },
   "outputs": [],
   "source": [
    "import pandas as pd\n",
    "import numpy as np\n",
    "import seaborn as sns\n",
    "import matplotlib.pyplot as plt\n",
    "%matplotlib inline\n",
    "from sklearn.linear_model import LogisticRegression\n",
    "import joblib"
   ]
  },
  {
   "cell_type": "markdown",
   "metadata": {
    "slideshow": {
     "slide_type": "slide"
    }
   },
   "source": [
    "## Descripción de los Datos\n",
    "\n",
    "Tenemos nuestros datos guardados en un archivo CSV llamado `diabetes.csv`. Primero leemos nuestro conjunto de datos a un _dataframe_ de `pandas` llamado `diabetes`, y luego usamos la función `head()` para mostrar los primeros cinco registros de nuestro conjunto de datos."
   ]
  },
  {
   "cell_type": "code",
   "execution_count": 32,
   "metadata": {
    "slideshow": {
     "slide_type": "subslide"
    }
   },
   "outputs": [
    {
     "data": {
      "text/html": [
       "<div>\n",
       "<style scoped>\n",
       "    .dataframe tbody tr th:only-of-type {\n",
       "        vertical-align: middle;\n",
       "    }\n",
       "\n",
       "    .dataframe tbody tr th {\n",
       "        vertical-align: top;\n",
       "    }\n",
       "\n",
       "    .dataframe thead th {\n",
       "        text-align: right;\n",
       "    }\n",
       "</style>\n",
       "<table border=\"1\" class=\"dataframe\">\n",
       "  <thead>\n",
       "    <tr style=\"text-align: right;\">\n",
       "      <th></th>\n",
       "      <th>Pregnancies</th>\n",
       "      <th>Glucose</th>\n",
       "      <th>BloodPressure</th>\n",
       "      <th>SkinThickness</th>\n",
       "      <th>Insulin</th>\n",
       "      <th>BMI</th>\n",
       "      <th>DiabetesPedigreeFunction</th>\n",
       "      <th>Age</th>\n",
       "      <th>Outcome</th>\n",
       "    </tr>\n",
       "  </thead>\n",
       "  <tbody>\n",
       "    <tr>\n",
       "      <th>0</th>\n",
       "      <td>6</td>\n",
       "      <td>148</td>\n",
       "      <td>72</td>\n",
       "      <td>35</td>\n",
       "      <td>0</td>\n",
       "      <td>33.6</td>\n",
       "      <td>0.627</td>\n",
       "      <td>50</td>\n",
       "      <td>1</td>\n",
       "    </tr>\n",
       "    <tr>\n",
       "      <th>1</th>\n",
       "      <td>1</td>\n",
       "      <td>85</td>\n",
       "      <td>66</td>\n",
       "      <td>29</td>\n",
       "      <td>0</td>\n",
       "      <td>26.6</td>\n",
       "      <td>0.351</td>\n",
       "      <td>31</td>\n",
       "      <td>0</td>\n",
       "    </tr>\n",
       "    <tr>\n",
       "      <th>2</th>\n",
       "      <td>8</td>\n",
       "      <td>183</td>\n",
       "      <td>64</td>\n",
       "      <td>0</td>\n",
       "      <td>0</td>\n",
       "      <td>23.3</td>\n",
       "      <td>0.672</td>\n",
       "      <td>32</td>\n",
       "      <td>1</td>\n",
       "    </tr>\n",
       "    <tr>\n",
       "      <th>3</th>\n",
       "      <td>1</td>\n",
       "      <td>89</td>\n",
       "      <td>66</td>\n",
       "      <td>23</td>\n",
       "      <td>94</td>\n",
       "      <td>28.1</td>\n",
       "      <td>0.167</td>\n",
       "      <td>21</td>\n",
       "      <td>0</td>\n",
       "    </tr>\n",
       "    <tr>\n",
       "      <th>4</th>\n",
       "      <td>0</td>\n",
       "      <td>137</td>\n",
       "      <td>40</td>\n",
       "      <td>35</td>\n",
       "      <td>168</td>\n",
       "      <td>43.1</td>\n",
       "      <td>2.288</td>\n",
       "      <td>33</td>\n",
       "      <td>1</td>\n",
       "    </tr>\n",
       "    <tr>\n",
       "      <th>5</th>\n",
       "      <td>5</td>\n",
       "      <td>116</td>\n",
       "      <td>74</td>\n",
       "      <td>0</td>\n",
       "      <td>0</td>\n",
       "      <td>25.6</td>\n",
       "      <td>0.201</td>\n",
       "      <td>30</td>\n",
       "      <td>0</td>\n",
       "    </tr>\n",
       "    <tr>\n",
       "      <th>6</th>\n",
       "      <td>3</td>\n",
       "      <td>78</td>\n",
       "      <td>50</td>\n",
       "      <td>32</td>\n",
       "      <td>88</td>\n",
       "      <td>31.0</td>\n",
       "      <td>0.248</td>\n",
       "      <td>26</td>\n",
       "      <td>1</td>\n",
       "    </tr>\n",
       "    <tr>\n",
       "      <th>7</th>\n",
       "      <td>10</td>\n",
       "      <td>115</td>\n",
       "      <td>0</td>\n",
       "      <td>0</td>\n",
       "      <td>0</td>\n",
       "      <td>35.3</td>\n",
       "      <td>0.134</td>\n",
       "      <td>29</td>\n",
       "      <td>0</td>\n",
       "    </tr>\n",
       "    <tr>\n",
       "      <th>8</th>\n",
       "      <td>2</td>\n",
       "      <td>197</td>\n",
       "      <td>70</td>\n",
       "      <td>45</td>\n",
       "      <td>543</td>\n",
       "      <td>30.5</td>\n",
       "      <td>0.158</td>\n",
       "      <td>53</td>\n",
       "      <td>1</td>\n",
       "    </tr>\n",
       "    <tr>\n",
       "      <th>9</th>\n",
       "      <td>8</td>\n",
       "      <td>125</td>\n",
       "      <td>96</td>\n",
       "      <td>0</td>\n",
       "      <td>0</td>\n",
       "      <td>0.0</td>\n",
       "      <td>0.232</td>\n",
       "      <td>54</td>\n",
       "      <td>1</td>\n",
       "    </tr>\n",
       "  </tbody>\n",
       "</table>\n",
       "</div>"
      ],
      "text/plain": [
       "   Pregnancies  Glucose  BloodPressure  SkinThickness  Insulin   BMI  \\\n",
       "0            6      148             72             35        0  33.6   \n",
       "1            1       85             66             29        0  26.6   \n",
       "2            8      183             64              0        0  23.3   \n",
       "3            1       89             66             23       94  28.1   \n",
       "4            0      137             40             35      168  43.1   \n",
       "5            5      116             74              0        0  25.6   \n",
       "6            3       78             50             32       88  31.0   \n",
       "7           10      115              0              0        0  35.3   \n",
       "8            2      197             70             45      543  30.5   \n",
       "9            8      125             96              0        0   0.0   \n",
       "\n",
       "   DiabetesPedigreeFunction  Age  Outcome  \n",
       "0                     0.627   50        1  \n",
       "1                     0.351   31        0  \n",
       "2                     0.672   32        1  \n",
       "3                     0.167   21        0  \n",
       "4                     2.288   33        1  \n",
       "5                     0.201   30        0  \n",
       "6                     0.248   26        1  \n",
       "7                     0.134   29        0  \n",
       "8                     0.158   53        1  \n",
       "9                     0.232   54        1  "
      ]
     },
     "execution_count": 32,
     "metadata": {},
     "output_type": "execute_result"
    }
   ],
   "source": [
    "diabetes = pd.read_csv('../datos/diabetes.csv')\n",
    "diabetes.head(10)"
   ]
  },
  {
   "cell_type": "markdown",
   "metadata": {
    "slideshow": {
     "slide_type": "subslide"
    }
   },
   "source": [
    "- **Pregnancies**: Número de veces embarazada\n",
    "- **Glucose**: concentración plasmática de glucosa durante 2 horas en una prueba oral de tolerancia a la glucosa\n",
    "- **BloodPressure**: presión arterial diastólica (mm Hg)\n",
    "- **SkinThickness**: espesor del pliegue de la piel del tríceps (mm)\n",
    "- **Insulin**: insulina sérica de 2 horas (mu U / ml)\n",
    "- **BMI**: índice de masa corporal (peso en kg/(altura en m)^2)\n",
    "- **DiabetesPedigreeFunction**: función de pedigrí de la diabetes (una función que puntúa la probabilidad de diabetes según el historial familiar)\n",
    "- **Age**: Edad (años)\n",
    "- **Outcome**: variable de clase (0 si no es diabético, 1 si es diabético)"
   ]
  },
  {
   "cell_type": "markdown",
   "metadata": {
    "slideshow": {
     "slide_type": "slide"
    }
   },
   "source": [
    "También asegurémonos de que nuestros datos estén limpios (no tiene valores nulos, etc.)."
   ]
  },
  {
   "cell_type": "code",
   "execution_count": 15,
   "metadata": {
    "slideshow": {
     "slide_type": "subslide"
    }
   },
   "outputs": [
    {
     "name": "stdout",
     "output_type": "stream",
     "text": [
      "<class 'pandas.core.frame.DataFrame'>\n",
      "RangeIndex: 768 entries, 0 to 767\n",
      "Data columns (total 9 columns):\n",
      " #   Column                    Non-Null Count  Dtype  \n",
      "---  ------                    --------------  -----  \n",
      " 0   Pregnancies               768 non-null    int64  \n",
      " 1   Glucose                   768 non-null    int64  \n",
      " 2   BloodPressure             768 non-null    int64  \n",
      " 3   SkinThickness             768 non-null    int64  \n",
      " 4   Insulin                   768 non-null    int64  \n",
      " 5   BMI                       768 non-null    float64\n",
      " 6   DiabetesPedigreeFunction  768 non-null    float64\n",
      " 7   Age                       768 non-null    int64  \n",
      " 8   Outcome                   768 non-null    int64  \n",
      "dtypes: float64(2), int64(7)\n",
      "memory usage: 54.1 KB\n"
     ]
    }
   ],
   "source": [
    "diabetes.info()"
   ]
  },
  {
   "cell_type": "markdown",
   "metadata": {
    "slideshow": {
     "slide_type": "slide"
    }
   },
   "source": [
    "## Exploración de datos\n",
    "\n",
    "Exploremos ahora nuestro conjunto de datos para tener una idea de cómo se ve y obtener algunas ideas al respecto.\n",
    "\n",
    "Comencemos por encontrar la correlación de cada par de atributos (y la variable de resultado), y visualicemos las correlaciones usando un mapa de calor."
   ]
  },
  {
   "cell_type": "code",
   "execution_count": 33,
   "metadata": {
    "slideshow": {
     "slide_type": "subslide"
    }
   },
   "outputs": [
    {
     "data": {
      "text/html": [
       "<div>\n",
       "<style scoped>\n",
       "    .dataframe tbody tr th:only-of-type {\n",
       "        vertical-align: middle;\n",
       "    }\n",
       "\n",
       "    .dataframe tbody tr th {\n",
       "        vertical-align: top;\n",
       "    }\n",
       "\n",
       "    .dataframe thead th {\n",
       "        text-align: right;\n",
       "    }\n",
       "</style>\n",
       "<table border=\"1\" class=\"dataframe\">\n",
       "  <thead>\n",
       "    <tr style=\"text-align: right;\">\n",
       "      <th></th>\n",
       "      <th>Pregnancies</th>\n",
       "      <th>Glucose</th>\n",
       "      <th>BloodPressure</th>\n",
       "      <th>SkinThickness</th>\n",
       "      <th>Insulin</th>\n",
       "      <th>BMI</th>\n",
       "      <th>DiabetesPedigreeFunction</th>\n",
       "      <th>Age</th>\n",
       "      <th>Outcome</th>\n",
       "    </tr>\n",
       "  </thead>\n",
       "  <tbody>\n",
       "    <tr>\n",
       "      <th>Pregnancies</th>\n",
       "      <td>1.000000</td>\n",
       "      <td>0.129459</td>\n",
       "      <td>0.141282</td>\n",
       "      <td>-0.081672</td>\n",
       "      <td>-0.073535</td>\n",
       "      <td>0.017683</td>\n",
       "      <td>-0.033523</td>\n",
       "      <td>0.544341</td>\n",
       "      <td>0.221898</td>\n",
       "    </tr>\n",
       "    <tr>\n",
       "      <th>Glucose</th>\n",
       "      <td>0.129459</td>\n",
       "      <td>1.000000</td>\n",
       "      <td>0.152590</td>\n",
       "      <td>0.057328</td>\n",
       "      <td>0.331357</td>\n",
       "      <td>0.221071</td>\n",
       "      <td>0.137337</td>\n",
       "      <td>0.263514</td>\n",
       "      <td>0.466581</td>\n",
       "    </tr>\n",
       "    <tr>\n",
       "      <th>BloodPressure</th>\n",
       "      <td>0.141282</td>\n",
       "      <td>0.152590</td>\n",
       "      <td>1.000000</td>\n",
       "      <td>0.207371</td>\n",
       "      <td>0.088933</td>\n",
       "      <td>0.281805</td>\n",
       "      <td>0.041265</td>\n",
       "      <td>0.239528</td>\n",
       "      <td>0.065068</td>\n",
       "    </tr>\n",
       "    <tr>\n",
       "      <th>SkinThickness</th>\n",
       "      <td>-0.081672</td>\n",
       "      <td>0.057328</td>\n",
       "      <td>0.207371</td>\n",
       "      <td>1.000000</td>\n",
       "      <td>0.436783</td>\n",
       "      <td>0.392573</td>\n",
       "      <td>0.183928</td>\n",
       "      <td>-0.113970</td>\n",
       "      <td>0.074752</td>\n",
       "    </tr>\n",
       "    <tr>\n",
       "      <th>Insulin</th>\n",
       "      <td>-0.073535</td>\n",
       "      <td>0.331357</td>\n",
       "      <td>0.088933</td>\n",
       "      <td>0.436783</td>\n",
       "      <td>1.000000</td>\n",
       "      <td>0.197859</td>\n",
       "      <td>0.185071</td>\n",
       "      <td>-0.042163</td>\n",
       "      <td>0.130548</td>\n",
       "    </tr>\n",
       "    <tr>\n",
       "      <th>BMI</th>\n",
       "      <td>0.017683</td>\n",
       "      <td>0.221071</td>\n",
       "      <td>0.281805</td>\n",
       "      <td>0.392573</td>\n",
       "      <td>0.197859</td>\n",
       "      <td>1.000000</td>\n",
       "      <td>0.140647</td>\n",
       "      <td>0.036242</td>\n",
       "      <td>0.292695</td>\n",
       "    </tr>\n",
       "    <tr>\n",
       "      <th>DiabetesPedigreeFunction</th>\n",
       "      <td>-0.033523</td>\n",
       "      <td>0.137337</td>\n",
       "      <td>0.041265</td>\n",
       "      <td>0.183928</td>\n",
       "      <td>0.185071</td>\n",
       "      <td>0.140647</td>\n",
       "      <td>1.000000</td>\n",
       "      <td>0.033561</td>\n",
       "      <td>0.173844</td>\n",
       "    </tr>\n",
       "    <tr>\n",
       "      <th>Age</th>\n",
       "      <td>0.544341</td>\n",
       "      <td>0.263514</td>\n",
       "      <td>0.239528</td>\n",
       "      <td>-0.113970</td>\n",
       "      <td>-0.042163</td>\n",
       "      <td>0.036242</td>\n",
       "      <td>0.033561</td>\n",
       "      <td>1.000000</td>\n",
       "      <td>0.238356</td>\n",
       "    </tr>\n",
       "    <tr>\n",
       "      <th>Outcome</th>\n",
       "      <td>0.221898</td>\n",
       "      <td>0.466581</td>\n",
       "      <td>0.065068</td>\n",
       "      <td>0.074752</td>\n",
       "      <td>0.130548</td>\n",
       "      <td>0.292695</td>\n",
       "      <td>0.173844</td>\n",
       "      <td>0.238356</td>\n",
       "      <td>1.000000</td>\n",
       "    </tr>\n",
       "  </tbody>\n",
       "</table>\n",
       "</div>"
      ],
      "text/plain": [
       "                          Pregnancies   Glucose  BloodPressure  SkinThickness  \\\n",
       "Pregnancies                  1.000000  0.129459       0.141282      -0.081672   \n",
       "Glucose                      0.129459  1.000000       0.152590       0.057328   \n",
       "BloodPressure                0.141282  0.152590       1.000000       0.207371   \n",
       "SkinThickness               -0.081672  0.057328       0.207371       1.000000   \n",
       "Insulin                     -0.073535  0.331357       0.088933       0.436783   \n",
       "BMI                          0.017683  0.221071       0.281805       0.392573   \n",
       "DiabetesPedigreeFunction    -0.033523  0.137337       0.041265       0.183928   \n",
       "Age                          0.544341  0.263514       0.239528      -0.113970   \n",
       "Outcome                      0.221898  0.466581       0.065068       0.074752   \n",
       "\n",
       "                           Insulin       BMI  DiabetesPedigreeFunction  \\\n",
       "Pregnancies              -0.073535  0.017683                 -0.033523   \n",
       "Glucose                   0.331357  0.221071                  0.137337   \n",
       "BloodPressure             0.088933  0.281805                  0.041265   \n",
       "SkinThickness             0.436783  0.392573                  0.183928   \n",
       "Insulin                   1.000000  0.197859                  0.185071   \n",
       "BMI                       0.197859  1.000000                  0.140647   \n",
       "DiabetesPedigreeFunction  0.185071  0.140647                  1.000000   \n",
       "Age                      -0.042163  0.036242                  0.033561   \n",
       "Outcome                   0.130548  0.292695                  0.173844   \n",
       "\n",
       "                               Age   Outcome  \n",
       "Pregnancies               0.544341  0.221898  \n",
       "Glucose                   0.263514  0.466581  \n",
       "BloodPressure             0.239528  0.065068  \n",
       "SkinThickness            -0.113970  0.074752  \n",
       "Insulin                  -0.042163  0.130548  \n",
       "BMI                       0.036242  0.292695  \n",
       "DiabetesPedigreeFunction  0.033561  0.173844  \n",
       "Age                       1.000000  0.238356  \n",
       "Outcome                   0.238356  1.000000  "
      ]
     },
     "execution_count": 33,
     "metadata": {},
     "output_type": "execute_result"
    }
   ],
   "source": [
    "corr = diabetes.corr()\n",
    "corr"
   ]
  },
  {
   "cell_type": "code",
   "execution_count": 18,
   "metadata": {
    "slideshow": {
     "slide_type": "subslide"
    }
   },
   "outputs": [
    {
     "data": {
      "image/png": "[encoded data removed]",
      "text/plain": [
       "<Figure size 720x576 with 2 Axes>"
      ]
     },
     "metadata": {},
     "output_type": "display_data"
    }
   ],
   "source": [
    "sns.set(rc={\"figure.figsize\": (10, 8)})\n",
    "ax = sns.heatmap(corr, xticklabels=corr.columns, yticklabels=corr.columns, cmap='Blues', vmin=-1, vmax=1)\n",
    "ax.set_xticklabels(ax.get_xticklabels(),rotation = 60);"
   ]
  },
  {
   "cell_type": "markdown",
   "metadata": {
    "slideshow": {
     "slide_type": "subslide"
    }
   },
   "source": [
    "En el mapa de calor anterior, los colores más oscuros indican una mayor correlación. Como podemos ver en la tabla y en el mapa de calor, los niveles de glucosa, la edad, el IMC y el número de embarazos tienen una correlación significativa con la variable de resultado. También observe la correlación entre los pares de atributos, como la edad y los embarazos, o la insulina y el grosor de la piel."
   ]
  },
  {
   "cell_type": "markdown",
   "metadata": {
    "slideshow": {
     "slide_type": "subslide"
    }
   },
   "source": [
    "Observemos también cuántas personas en el conjunto de datos son diabéticas y cuántas no. A continuación se muestra un gráfico de barras:"
   ]
  },
  {
   "cell_type": "code",
   "execution_count": 19,
   "metadata": {
    "slideshow": {
     "slide_type": "subslide"
    }
   },
   "outputs": [
    {
     "data": {
      "text/plain": [
       "<AxesSubplot:>"
      ]
     },
     "execution_count": 19,
     "metadata": {},
     "output_type": "execute_result"
    },
    {
     "data": {
      "image/png": "[encoded data removed]",
      "text/plain": [
       "<Figure size 720x576 with 1 Axes>"
      ]
     },
     "metadata": {},
     "output_type": "display_data"
    }
   ],
   "source": [
    "diabetes.Outcome.value_counts().plot.bar()"
   ]
  },
  {
   "cell_type": "markdown",
   "metadata": {
    "slideshow": {
     "slide_type": "subslide"
    }
   },
   "source": [
    "También es útil visualizar las relaciones entre una sola variable y el resultado. A continuación, veremos la relación entre `Age`  y `Outcome`."
   ]
  },
  {
   "cell_type": "code",
   "execution_count": 7,
   "metadata": {
    "slideshow": {
     "slide_type": "subslide"
    }
   },
   "outputs": [
    {
     "data": {
      "text/plain": [
       "<matplotlib.axes._subplots.AxesSubplot at 0x1a25ef4bd0>"
      ]
     },
     "execution_count": 7,
     "metadata": {},
     "output_type": "execute_result"
    },
    {
     "data": {
      "image/png": "[encoded data removed]",
      "text/plain": [
       "<Figure size 720x576 with 1 Axes>"
      ]
     },
     "metadata": {},
     "output_type": "display_data"
    }
   ],
   "source": [
    "diabetes.groupby(\"Outcome\")[\"Age\"].mean().plot.bar()"
   ]
  },
  {
   "cell_type": "markdown",
   "metadata": {
    "slideshow": {
     "slide_type": "slide"
    }
   },
   "source": [
    "## Preparación del Conjunto de Datos\n",
    "\n",
    "Al usar algoritmos de aprendizaje automático, siempre debemos dividir nuestros datos en un conjunto de entrenamiento y un conjunto de prueba. Usaremos la función `train_test_split` de sklearn para dividir el conjunto de datos. Dividiremos el conjunto datos en 80% para el conjunto de entrenamiento y 20% para el conjunto de prueba.\n",
    "\n",
    "Primero separaemos los atributos y la salida del conjunto de datos."
   ]
  },
  {
   "cell_type": "code",
   "execution_count": 20,
   "metadata": {
    "slideshow": {
     "slide_type": "subslide"
    }
   },
   "outputs": [
    {
     "name": "stderr",
     "output_type": "stream",
     "text": [
      "C:\\Users\\wladi\\AppData\\Local\\Temp\\ipykernel_22404\\233928204.py:3: FutureWarning: In a future version of pandas all arguments of DataFrame.drop except for the argument 'labels' will be keyword-only.\n",
      "  atributos = diabetes.drop('Outcome', 1)\n"
     ]
    },
    {
     "data": {
      "text/html": [
       "<div>\n",
       "<style scoped>\n",
       "    .dataframe tbody tr th:only-of-type {\n",
       "        vertical-align: middle;\n",
       "    }\n",
       "\n",
       "    .dataframe tbody tr th {\n",
       "        vertical-align: top;\n",
       "    }\n",
       "\n",
       "    .dataframe thead th {\n",
       "        text-align: right;\n",
       "    }\n",
       "</style>\n",
       "<table border=\"1\" class=\"dataframe\">\n",
       "  <thead>\n",
       "    <tr style=\"text-align: right;\">\n",
       "      <th></th>\n",
       "      <th>Pregnancies</th>\n",
       "      <th>Glucose</th>\n",
       "      <th>BloodPressure</th>\n",
       "      <th>SkinThickness</th>\n",
       "      <th>Insulin</th>\n",
       "      <th>BMI</th>\n",
       "      <th>DiabetesPedigreeFunction</th>\n",
       "      <th>Age</th>\n",
       "    </tr>\n",
       "  </thead>\n",
       "  <tbody>\n",
       "    <tr>\n",
       "      <th>60</th>\n",
       "      <td>2</td>\n",
       "      <td>84</td>\n",
       "      <td>0</td>\n",
       "      <td>0</td>\n",
       "      <td>0</td>\n",
       "      <td>0.0</td>\n",
       "      <td>0.304</td>\n",
       "      <td>21</td>\n",
       "    </tr>\n",
       "    <tr>\n",
       "      <th>618</th>\n",
       "      <td>9</td>\n",
       "      <td>112</td>\n",
       "      <td>82</td>\n",
       "      <td>24</td>\n",
       "      <td>0</td>\n",
       "      <td>28.2</td>\n",
       "      <td>1.282</td>\n",
       "      <td>50</td>\n",
       "    </tr>\n",
       "    <tr>\n",
       "      <th>346</th>\n",
       "      <td>1</td>\n",
       "      <td>139</td>\n",
       "      <td>46</td>\n",
       "      <td>19</td>\n",
       "      <td>83</td>\n",
       "      <td>28.7</td>\n",
       "      <td>0.654</td>\n",
       "      <td>22</td>\n",
       "    </tr>\n",
       "    <tr>\n",
       "      <th>294</th>\n",
       "      <td>0</td>\n",
       "      <td>161</td>\n",
       "      <td>50</td>\n",
       "      <td>0</td>\n",
       "      <td>0</td>\n",
       "      <td>21.9</td>\n",
       "      <td>0.254</td>\n",
       "      <td>65</td>\n",
       "    </tr>\n",
       "    <tr>\n",
       "      <th>231</th>\n",
       "      <td>6</td>\n",
       "      <td>134</td>\n",
       "      <td>80</td>\n",
       "      <td>37</td>\n",
       "      <td>370</td>\n",
       "      <td>46.2</td>\n",
       "      <td>0.238</td>\n",
       "      <td>46</td>\n",
       "    </tr>\n",
       "  </tbody>\n",
       "</table>\n",
       "</div>"
      ],
      "text/plain": [
       "     Pregnancies  Glucose  BloodPressure  SkinThickness  Insulin   BMI  \\\n",
       "60             2       84              0              0        0   0.0   \n",
       "618            9      112             82             24        0  28.2   \n",
       "346            1      139             46             19       83  28.7   \n",
       "294            0      161             50              0        0  21.9   \n",
       "231            6      134             80             37      370  46.2   \n",
       "\n",
       "     DiabetesPedigreeFunction  Age  \n",
       "60                      0.304   21  \n",
       "618                     1.282   50  \n",
       "346                     0.654   22  \n",
       "294                     0.254   65  \n",
       "231                     0.238   46  "
      ]
     },
     "execution_count": 20,
     "metadata": {},
     "output_type": "execute_result"
    }
   ],
   "source": [
    "from sklearn.model_selection import train_test_split\n",
    "salida = diabetes.Outcome\n",
    "atributos = diabetes.drop('Outcome', 1)\n",
    "X_entrenamiento, X_prueba, y_entrenamiento, y_prueba = train_test_split(atributos, salida, \n",
    "                                                                        test_size = 0.2, \n",
    "                                                                        random_state=42)\n",
    "X_entrenamiento.head()"
   ]
  },
  {
   "cell_type": "markdown",
   "metadata": {
    "slideshow": {
     "slide_type": "subslide"
    }
   },
   "source": [
    "Como paso final antes de usar el aprendizaje automático, normalizaremos nuestras entradas. Los modelos de Aprendizaje Automático a menudo se benefician sustancialmente de la normalización de las entradas. También nos facilita la comprensión de la importancia de cada atributo más adelante, cuando observemos los pesos del modelo. Normalizaremos los datos de modo que cada atributo tenga media 0 y desviación estándar de 1.\n",
    "\n",
    "Usaremos `StandardScaler` de sklearn para normalizar los datos."
   ]
  },
  {
   "cell_type": "code",
   "execution_count": 21,
   "metadata": {
    "slideshow": {
     "slide_type": "subslide"
    }
   },
   "outputs": [],
   "source": [
    "from sklearn.preprocessing import StandardScaler\n",
    "sc = StandardScaler()\n",
    "sc.fit(X_entrenamiento)\n",
    "X_entrenamiento = sc.transform(X_entrenamiento)\n",
    "X_prueba = sc.transform(X_prueba)"
   ]
  },
  {
   "cell_type": "markdown",
   "metadata": {
    "slideshow": {
     "slide_type": "slide"
    }
   },
   "source": [
    "## Entrenamiento y Evaluación del Modelo de Aprendizaje Automático\n",
    "\n",
    "Ahora podemos entrenar nuestro modelo de clasificación. Usaremos un modelo de aprendizaje automático simple llamado regresión logística. Dado que el modelo está disponible en `sklearn`, el proceso de entrenamiento es bastante fácil y podemos hacerlo en pocas líneas de código. Primero, creamos una instancia llamada `Modelo_Diabetes` y luego usamos la función `fit` para entrenar el modelo."
   ]
  },
  {
   "cell_type": "code",
   "execution_count": 22,
   "metadata": {
    "slideshow": {
     "slide_type": "subslide"
    }
   },
   "outputs": [
    {
     "data": {
      "text/html": [
       "<style>#sk-container-id-1 {color: black;background-color: white;}#sk-container-id-1 pre{padding: 0;}#sk-container-id-1 div.sk-toggleable {background-color: white;}#sk-container-id-1 label.sk-toggleable__label {cursor: pointer;display: block;width: 100%;margin-bottom: 0;padding: 0.3em;box-sizing: border-box;text-align: center;}#sk-container-id-1 label.sk-toggleable__label-arrow:before {content: \"▸\";float: left;margin-right: 0.25em;color: #696969;}#sk-container-id-1 label.sk-toggleable__label-arrow:hover:before {color: black;}#sk-container-id-1 div.sk-estimator:hover label.sk-toggleable__label-arrow:before {color: black;}#sk-container-id-1 div.sk-toggleable__content {max-height: 0;max-width: 0;overflow: hidden;text-align: left;background-color: #f0f8ff;}#sk-container-id-1 div.sk-toggleable__content pre {margin: 0.2em;color: black;border-radius: 0.25em;background-color: #f0f8ff;}#sk-container-id-1 input.sk-toggleable__control:checked~div.sk-toggleable__content {max-height: 200px;max-width: 100%;overflow: auto;}#sk-container-id-1 input.sk-toggleable__control:checked~label.sk-toggleable__label-arrow:before {content: \"▾\";}#sk-container-id-1 div.sk-estimator input.sk-toggleable__control:checked~label.sk-toggleable__label {background-color: #d4ebff;}#sk-container-id-1 div.sk-label input.sk-toggleable__control:checked~label.sk-toggleable__label {background-color: #d4ebff;}#sk-container-id-1 input.sk-hidden--visually {border: 0;clip: rect(1px 1px 1px 1px);clip: rect(1px, 1px, 1px, 1px);height: 1px;margin: -1px;overflow: hidden;padding: 0;position: absolute;width: 1px;}#sk-container-id-1 div.sk-estimator {font-family: monospace;background-color: #f0f8ff;border: 1px dotted black;border-radius: 0.25em;box-sizing: border-box;margin-bottom: 0.5em;}#sk-container-id-1 div.sk-estimator:hover {background-color: #d4ebff;}#sk-container-id-1 div.sk-parallel-item::after {content: \"\";width: 100%;border-bottom: 1px solid gray;flex-grow: 1;}#sk-container-id-1 div.sk-label:hover label.sk-toggleable__label {background-color: #d4ebff;}#sk-container-id-1 div.sk-serial::before {content: \"\";position: absolute;border-left: 1px solid gray;box-sizing: border-box;top: 0;bottom: 0;left: 50%;z-index: 0;}#sk-container-id-1 div.sk-serial {display: flex;flex-direction: column;align-items: center;background-color: white;padding-right: 0.2em;padding-left: 0.2em;position: relative;}#sk-container-id-1 div.sk-item {position: relative;z-index: 1;}#sk-container-id-1 div.sk-parallel {display: flex;align-items: stretch;justify-content: center;background-color: white;position: relative;}#sk-container-id-1 div.sk-item::before, #sk-container-id-1 div.sk-parallel-item::before {content: \"\";position: absolute;border-left: 1px solid gray;box-sizing: border-box;top: 0;bottom: 0;left: 50%;z-index: -1;}#sk-container-id-1 div.sk-parallel-item {display: flex;flex-direction: column;z-index: 1;position: relative;background-color: white;}#sk-container-id-1 div.sk-parallel-item:first-child::after {align-self: flex-end;width: 50%;}#sk-container-id-1 div.sk-parallel-item:last-child::after {align-self: flex-start;width: 50%;}#sk-container-id-1 div.sk-parallel-item:only-child::after {width: 0;}#sk-container-id-1 div.sk-dashed-wrapped {border: 1px dashed gray;margin: 0 0.4em 0.5em 0.4em;box-sizing: border-box;padding-bottom: 0.4em;background-color: white;}#sk-container-id-1 div.sk-label label {font-family: monospace;font-weight: bold;display: inline-block;line-height: 1.2em;}#sk-container-id-1 div.sk-label-container {text-align: center;}#sk-container-id-1 div.sk-container {/* jupyter's `normalize.less` sets `[hidden] { display: none; }` but bootstrap.min.css set `[hidden] { display: none !important; }` so we also need the `!important` here to be able to override the default hidden behavior on the sphinx rendered scikit-learn.org. See: https://github.com/scikit-learn/scikit-learn/issues/21755 */display: inline-block !important;position: relative;}#sk-container-id-1 div.sk-text-repr-fallback {display: none;}</style><div id=\"sk-container-id-1\" class=\"sk-top-container\"><div class=\"sk-text-repr-fallback\"><pre>LogisticRegression()</pre><b>In a Jupyter environment, please rerun this cell to show the HTML representation or trust the notebook. <br />On GitHub, the HTML representation is unable to render, please try loading this page with nbviewer.org.</b></div><div class=\"sk-container\" hidden><div class=\"sk-item\"><div class=\"sk-estimator sk-toggleable\"><input class=\"sk-toggleable__control sk-hidden--visually\" id=\"sk-estimator-id-1\" type=\"checkbox\" checked><label for=\"sk-estimator-id-1\" class=\"sk-toggleable__label sk-toggleable__label-arrow\">LogisticRegression</label><div class=\"sk-toggleable__content\"><pre>LogisticRegression()</pre></div></div></div></div></div>"
      ],
      "text/plain": [
       "LogisticRegression()"
      ]
     },
     "execution_count": 22,
     "metadata": {},
     "output_type": "execute_result"
    }
   ],
   "source": [
    "Modelo_Diabetes = LogisticRegression()\n",
    "Modelo_Diabetes.fit(X_entrenamiento, y_entrenamiento)"
   ]
  },
  {
   "cell_type": "markdown",
   "metadata": {
    "slideshow": {
     "slide_type": "subslide"
    }
   },
   "source": [
    "A continuación, utilizaremos nuestros datos de prueba para conocer la exactitud del modelo."
   ]
  },
  {
   "cell_type": "code",
   "execution_count": 23,
   "metadata": {
    "slideshow": {
     "slide_type": "subslide"
    }
   },
   "outputs": [
    {
     "name": "stdout",
     "output_type": "stream",
     "text": [
      "exactitud =  75.32467532467533 %\n"
     ]
    }
   ],
   "source": [
    "exactitud = Modelo_Diabetes.score(X_prueba, y_prueba)\n",
    "print(\"exactitud = \", exactitud * 100, \"%\")"
   ]
  },
  {
   "cell_type": "markdown",
   "metadata": {
    "slideshow": {
     "slide_type": "slide"
    }
   },
   "source": [
    "## Interpretación del Modelo\n",
    "\n",
    "Para tener una mejor idea de lo que está sucediendo dentro del modelo de regresión logística, podemos visualizar cómo nuestro modelo usa los diferentes atributos y qué atributos tienen un mayor efecto."
   ]
  },
  {
   "cell_type": "code",
   "execution_count": 24,
   "metadata": {
    "slideshow": {
     "slide_type": "subslide"
    }
   },
   "outputs": [
    {
     "data": {
      "text/html": [
       "<div>\n",
       "<style scoped>\n",
       "    .dataframe tbody tr th:only-of-type {\n",
       "        vertical-align: middle;\n",
       "    }\n",
       "\n",
       "    .dataframe tbody tr th {\n",
       "        vertical-align: top;\n",
       "    }\n",
       "\n",
       "    .dataframe thead th {\n",
       "        text-align: right;\n",
       "    }\n",
       "</style>\n",
       "<table border=\"1\" class=\"dataframe\">\n",
       "  <thead>\n",
       "    <tr style=\"text-align: right;\">\n",
       "      <th></th>\n",
       "      <th>importancia</th>\n",
       "      <th>positiva</th>\n",
       "    </tr>\n",
       "    <tr>\n",
       "      <th>Atributos</th>\n",
       "      <th></th>\n",
       "      <th></th>\n",
       "    </tr>\n",
       "  </thead>\n",
       "  <tbody>\n",
       "    <tr>\n",
       "      <th>BloodPressure</th>\n",
       "      <td>-0.247842</td>\n",
       "      <td>False</td>\n",
       "    </tr>\n",
       "    <tr>\n",
       "      <th>Insulin</th>\n",
       "      <td>-0.200827</td>\n",
       "      <td>False</td>\n",
       "    </tr>\n",
       "    <tr>\n",
       "      <th>SkinThickness</th>\n",
       "      <td>0.045697</td>\n",
       "      <td>True</td>\n",
       "    </tr>\n",
       "    <tr>\n",
       "      <th>Pregnancies</th>\n",
       "      <td>0.212558</td>\n",
       "      <td>True</td>\n",
       "    </tr>\n",
       "    <tr>\n",
       "      <th>DiabetesPedigreeFunction</th>\n",
       "      <td>0.230607</td>\n",
       "      <td>True</td>\n",
       "    </tr>\n",
       "    <tr>\n",
       "      <th>Age</th>\n",
       "      <td>0.421002</td>\n",
       "      <td>True</td>\n",
       "    </tr>\n",
       "    <tr>\n",
       "      <th>BMI</th>\n",
       "      <td>0.778152</td>\n",
       "      <td>True</td>\n",
       "    </tr>\n",
       "    <tr>\n",
       "      <th>Glucose</th>\n",
       "      <td>1.071132</td>\n",
       "      <td>True</td>\n",
       "    </tr>\n",
       "  </tbody>\n",
       "</table>\n",
       "</div>"
      ],
      "text/plain": [
       "                          importancia  positiva\n",
       "Atributos                                      \n",
       "BloodPressure               -0.247842     False\n",
       "Insulin                     -0.200827     False\n",
       "SkinThickness                0.045697      True\n",
       "Pregnancies                  0.212558      True\n",
       "DiabetesPedigreeFunction     0.230607      True\n",
       "Age                          0.421002      True\n",
       "BMI                          0.778152      True\n",
       "Glucose                      1.071132      True"
      ]
     },
     "execution_count": 24,
     "metadata": {},
     "output_type": "execute_result"
    }
   ],
   "source": [
    "coeficientes = list(Modelo_Diabetes.coef_[0])\n",
    "etiquetas = list(atributos.columns)\n",
    "importancia = pd.DataFrame()\n",
    "importancia['Atributos'] = etiquetas\n",
    "importancia['importancia'] = coeficientes\n",
    "importancia.sort_values(by=['importancia'], ascending=True, inplace=True)\n",
    "importancia['positiva'] = importancia['importancia'] > 0\n",
    "importancia.set_index('Atributos', inplace=True)\n",
    "importancia"
   ]
  },
  {
   "cell_type": "code",
   "execution_count": 25,
   "metadata": {
    "slideshow": {
     "slide_type": "subslide"
    }
   },
   "outputs": [
    {
     "data": {
      "image/png": "[encoded data removed]",
      "text/plain": [
       "<Figure size 792x432 with 1 Axes>"
      ]
     },
     "metadata": {},
     "output_type": "display_data"
    }
   ],
   "source": [
    "importancia.importancia.plot(kind='barh', figsize=(11, 6),color = importancia.positiva.map({True: 'blue', False: 'red'}))\n",
    "plt.xlabel('Importancia');"
   ]
  },
  {
   "cell_type": "markdown",
   "metadata": {
    "slideshow": {
     "slide_type": "subslide"
    }
   },
   "source": [
    "### Algunas Conclusiones:\n",
    "\n",
    "- El nivel de glucosa, el BMI, la edad y la función de pedigrí de la diabetes tienen una influencia significativa en el modelo, especialmente el nivel de glucosa y el BMC. ¡Es bueno ver que nuestro modelo de aprendizaje automático coincida con lo que hemos estado escuchando a los médicos durante toda nuestra vida!\n",
    "- La presión arterial tiene una influencia negativa en la predicción, es decir, una mayor presión sanguínea se correlaciona con una persona que no es diabética.\n",
    "- Aunque la edad estuvo más correlacionada que el BMC con la variable de salida (como vimos durante la exploración de datos), el modelo se basa más en el BMC. Esto puede suceder por varias razones, incluido el hecho de que la correlación capturada por edad también es captada por alguna otra variable, mientras que la información capturada por BMC no es capturada por otras variables."
   ]
  },
  {
   "cell_type": "markdown",
   "metadata": {
    "slideshow": {
     "slide_type": "slide"
    }
   },
   "source": [
    "## Guardar el Modelo\n",
    "\n",
    "Ahora guardaremos nuestro modelo entrenado para uso futuro usando `joblib`"
   ]
  },
  {
   "cell_type": "code",
   "execution_count": 26,
   "metadata": {
    "slideshow": {
     "slide_type": "subslide"
    }
   },
   "outputs": [
    {
     "data": {
      "text/plain": [
       "['Modelo_Diabetes.pkl']"
      ]
     },
     "execution_count": 26,
     "metadata": {},
     "output_type": "execute_result"
    }
   ],
   "source": [
    "joblib.dump(Modelo_Diabetes, 'Modelo_Diabetes.pkl')"
   ]
  },
  {
   "cell_type": "markdown",
   "metadata": {
    "slideshow": {
     "slide_type": "subslide"
    }
   },
   "source": [
    "Para verificar si hemos guardado el modelo correctamente o no, usaremos nuestros datos de prueba para verificar la precisión de nuestro modelo guardado"
   ]
  },
  {
   "cell_type": "code",
   "execution_count": 27,
   "metadata": {
    "slideshow": {
     "slide_type": "subslide"
    }
   },
   "outputs": [
    {
     "name": "stdout",
     "output_type": "stream",
     "text": [
      "exactitud =  75.32467532467533 %\n"
     ]
    }
   ],
   "source": [
    "Modelo = joblib.load('Modelo_Diabetes.pkl')\n",
    "exactitud_modelo = Modelo.score(X_prueba, y_prueba)\n",
    "print(\"exactitud = \", exactitud_modelo * 100,\"%\")"
   ]
  },
  {
   "cell_type": "markdown",
   "metadata": {
    "slideshow": {
     "slide_type": "subslide"
    }
   },
   "source": [
    "A continuación mostraremos tres ejemplos:\n",
    "- Predicción correcta (no diabetes)\n",
    "- Predicción correcta (diabetes)\n",
    "- Predicción incorrecta"
   ]
  },
  {
   "cell_type": "code",
   "execution_count": 28,
   "metadata": {
    "slideshow": {
     "slide_type": "subslide"
    }
   },
   "outputs": [
    {
     "name": "stdout",
     "output_type": "stream",
     "text": [
      "Probabilidad: [[0.72266096 0.27733904]]\n",
      "Prediction: [0]\n",
      "Salida Real: 0\n"
     ]
    }
   ],
   "source": [
    "muestra = X_prueba[0,:].reshape(1, -1)\n",
    "probabilidad_prediccion  = Modelo.predict_proba(muestra)\n",
    "prediccion = Modelo.predict(muestra)\n",
    "print('Probabilidad:', probabilidad_prediccion)\n",
    "print('Prediction:', prediccion)\n",
    "print('Salida Real:', y_prueba.iloc[0])"
   ]
  },
  {
   "cell_type": "code",
   "execution_count": 29,
   "metadata": {
    "slideshow": {
     "slide_type": "subslide"
    }
   },
   "outputs": [
    {
     "name": "stdout",
     "output_type": "stream",
     "text": [
      "Probabilidad: [[0.14221802 0.85778198]]\n",
      "Prediction: [1]\n",
      "Salida Real: 1\n"
     ]
    }
   ],
   "source": [
    "muestra = X_prueba[18,:].reshape(1, -1)\n",
    "probabilidad_prediccion  = Modelo.predict_proba(muestra)\n",
    "prediccion = Modelo.predict(muestra)\n",
    "print('Probabilidad:', probabilidad_prediccion)\n",
    "print('Prediction:', prediccion)\n",
    "print('Salida Real:', y_prueba.iloc[18])"
   ]
  },
  {
   "cell_type": "code",
   "execution_count": 30,
   "metadata": {
    "slideshow": {
     "slide_type": "subslide"
    }
   },
   "outputs": [
    {
     "name": "stdout",
     "output_type": "stream",
     "text": [
      "Probabilidad: [[0.61368987 0.38631013]]\n",
      "Prediction: [0]\n",
      "Salida Real: 1\n"
     ]
    }
   ],
   "source": [
    "muestra = X_prueba[15,:].reshape(1, -1)\n",
    "probabilidad_prediccion  = Modelo.predict_proba(muestra)\n",
    "prediccion = Modelo.predict(muestra)\n",
    "print('Probabilidad:', probabilidad_prediccion)\n",
    "print('Prediction:', prediccion)\n",
    "print('Salida Real:', y_prueba.iloc[15])"
   ]
  },
  {
   "cell_type": "markdown",
   "metadata": {
    "slideshow": {
     "slide_type": "slide"
    }
   },
   "source": [
    "## Referencias:\n",
    "\n",
    "[End-to-End Example: Using Logistic Regression for predicting Diabetes](https://www.commonlounge.com/discussion/d6b0c91db14245b8998afd2a5c0f5b83)"
   ]
  }
 ],
 "metadata": {
  "celltoolbar": "Slideshow",
  "kernelspec": {
   "display_name": "Python 3 (ipykernel)",
   "language": "python",
   "name": "python3"
  },
  "language_info": {
   "codemirror_mode": {
    "name": "ipython",
    "version": 3
   },
   "file_extension": ".py",
   "mimetype": "text/x-python",
   "name": "python",
   "nbconvert_exporter": "python",
   "pygments_lexer": "ipython3",
   "version": "3.8.13"
  }
 },
 "nbformat": 4,
 "nbformat_minor": 4
}
