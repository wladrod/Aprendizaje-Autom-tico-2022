{
 "cells": [
  {
   "cell_type": "markdown",
   "metadata": {},
   "source": [
    "<center>\n",
    "    <h1>Tema 3: Algoritmos de Aprendizaje Supervisado</h1>\n",
    "    <h1>Clasificación</h1>\n",
    "    <h1>Ensemble Learning</h1>\n",
    "    <br>\n",
    "    <h5>Prof. Wladimir Rodriguez</h5>\n",
    "    <h5>wladimir@ula.ve</h5>\n",
    "    <h5>Departamento de Computación</h5>\n",
    "</center>"
   ]
  },
  {
   "cell_type": "markdown",
   "metadata": {},
   "source": [
    "# Combinación de Diferentes Modelos para Aprendizaje en Conjunto (Ensemble Learning)"
   ]
  },
  {
   "cell_type": "markdown",
   "metadata": {},
   "source": [
    "El objetivo detrás de los métodos de conjunto es combinar diferentes clasificadores en un\n",
    "meta-clasificador que tiene un mejor rendimiento de generalización que cada clasificador individual por si solo. Por ejemplo, suponiendo que recopilamos las predicciones de 10 expertos,\n",
    "el aprendizaje en conjunto nos permitiría combinar estratégicamente estas predicciones de los\n",
    "10 expertos para llegar a una predicción más precisa y robusta que las predicciones de cada experto individual.\n",
    "\n",
    "Los métodos de conjunto más populares usan el principio de voto por mayoría. El voto por mayoría simplemente significa que seleccionamos la etiqueta de clase que ha sido predicha por la mayoría de los clasificadores, es decir, la que recibió más del 50% de los votos. Estrictamente hablando, el término mayoría de votos se refiere sólo a clases binarias. Sin embargo, es fácil generalizar el principio de voto por mayoría a múltiples clases, que se llama votación por pluralidad. Aquí, seleccionamos la etiqueta de clase que recibió la mayoría de los votos.\n",
    "\n",
    "Usando el conjunto de entrenamiento, comenzamos entrenando $m$ diferentes clasificadores $(C_1,...,C_m)$.\n",
    "Dependiendo de la técnica, el conjunto puede ser construido a partir de diferentes algoritmos de clasificación, como por ejemplo, árboles de decisión, máquinas de vectores de soporte, regresión logística, y así sucesivamente. Alternativamente, también podemos usar el mismo algoritmo clasificador de base el cual ajusta diferentes subconjuntos del conjunto de entrenamiento. Un ejemplo destacado de este sería el algoritmo de Random Forest, que combina diferentes clasificadores de árbol de decisión. El siguiente diagrama ilustra el concepto general del enfoque de aprendizaje por conjuntos usando voto por mayoría:\n",
    "\n",
    "<img src=\"../figuras/Votacion.png\" width=75%>\n",
    "\n",
    "Para predecir la etiqueta de clase a través de una mayoría simple o pluralidad de votos, combinamos las\n",
    "prediciones de las etiquetas de clase de cada clasificador individual $C_j$ y seleccione como la etiqueta de clase la que recibió la mayoría de los votos:\n",
    "\n",
    "$$\\hat{y}=moda\\{C_1(x),C_2(x),\\dots,C_m(x)\\}$$\n",
    "\n",
    "Por ejemplo, en una tarea de clasificación binaria donde clase1 = -1 y class2 = +1, podemos\n",
    "escriba la predicción del voto mayoritario como sigue:\n",
    "\n",
    "$$C(x)=signo[\\sum_{j}^{m}C_j(x)]=\\left\\{\n",
    "\\begin{array}{ll}\n",
    "      1 & \\sum_{i}C_j(x) \\geq 0 \\\\\n",
    "      0 & de\\ lo\\ contrario \\\\\n",
    "\\end{array} \n",
    "\\right.$$"
   ]
  },
  {
   "cell_type": "markdown",
   "metadata": {},
   "source": [
    "## Bagging - construcción de un conjunto de clasificadores a partir de muestras de bootstrap"
   ]
  },
  {
   "cell_type": "markdown",
   "metadata": {},
   "source": [
    "El \"Bagging\" es una técnica de aprendizaje por conjunto que está estrechamente relacionado al del voto por mayoría, como se ilustra en el siguiente diagrama:\n",
    "\n",
    "<img src=\"../figuras/bagging.png\" width=75%>\n",
    "\n",
    "Sin embargo, en lugar de usar el mismo conjunto de entrenamiento para entrenar al conjunto de clasificadores, tomamos muestras de \"bootstrap\" (muestras aleatorias con reemplazo) del conjunto de entrenamiento inicial, por lo que el \"bagging\" también se conoce como \"bootstrap aggegating\"."
   ]
  },
  {
   "cell_type": "markdown",
   "metadata": {},
   "source": [
    "## Ejemplo de un Clasificador usando Bagging"
   ]
  },
  {
   "cell_type": "markdown",
   "metadata": {},
   "source": [
    "Crear un clasificador Bagging usando el conjunto de datos **wine**. En este ejemplo solo usaremos las clases de vino 2 y 3, y seleccionaremos dos atributos: Alcohol y Hue."
   ]
  },
  {
   "cell_type": "code",
   "execution_count": 2,
   "metadata": {},
   "outputs": [
    {
     "data": {
      "text/html": [
       "<div>\n",
       "<style scoped>\n",
       "    .dataframe tbody tr th:only-of-type {\n",
       "        vertical-align: middle;\n",
       "    }\n",
       "\n",
       "    .dataframe tbody tr th {\n",
       "        vertical-align: top;\n",
       "    }\n",
       "\n",
       "    .dataframe thead th {\n",
       "        text-align: right;\n",
       "    }\n",
       "</style>\n",
       "<table border=\"1\" class=\"dataframe\">\n",
       "  <thead>\n",
       "    <tr style=\"text-align: right;\">\n",
       "      <th></th>\n",
       "      <th>Class label</th>\n",
       "      <th>Alcohol</th>\n",
       "      <th>Malic acid</th>\n",
       "      <th>Ash</th>\n",
       "      <th>Alcalinity of ash</th>\n",
       "      <th>Magnesium</th>\n",
       "      <th>Total phenols</th>\n",
       "      <th>Flavanoids</th>\n",
       "      <th>Nonflavanoid phenols</th>\n",
       "      <th>Proanthocyanins</th>\n",
       "      <th>Color intensity</th>\n",
       "      <th>Hue</th>\n",
       "      <th>OD280/OD315 of diluted wines</th>\n",
       "      <th>Proline</th>\n",
       "    </tr>\n",
       "  </thead>\n",
       "  <tbody>\n",
       "    <tr>\n",
       "      <th>0</th>\n",
       "      <td>1</td>\n",
       "      <td>14.23</td>\n",
       "      <td>1.71</td>\n",
       "      <td>2.43</td>\n",
       "      <td>15.6</td>\n",
       "      <td>127</td>\n",
       "      <td>2.80</td>\n",
       "      <td>3.06</td>\n",
       "      <td>0.28</td>\n",
       "      <td>2.29</td>\n",
       "      <td>5.64</td>\n",
       "      <td>1.04</td>\n",
       "      <td>3.92</td>\n",
       "      <td>1065</td>\n",
       "    </tr>\n",
       "    <tr>\n",
       "      <th>1</th>\n",
       "      <td>1</td>\n",
       "      <td>13.20</td>\n",
       "      <td>1.78</td>\n",
       "      <td>2.14</td>\n",
       "      <td>11.2</td>\n",
       "      <td>100</td>\n",
       "      <td>2.65</td>\n",
       "      <td>2.76</td>\n",
       "      <td>0.26</td>\n",
       "      <td>1.28</td>\n",
       "      <td>4.38</td>\n",
       "      <td>1.05</td>\n",
       "      <td>3.40</td>\n",
       "      <td>1050</td>\n",
       "    </tr>\n",
       "    <tr>\n",
       "      <th>2</th>\n",
       "      <td>1</td>\n",
       "      <td>13.16</td>\n",
       "      <td>2.36</td>\n",
       "      <td>2.67</td>\n",
       "      <td>18.6</td>\n",
       "      <td>101</td>\n",
       "      <td>2.80</td>\n",
       "      <td>3.24</td>\n",
       "      <td>0.30</td>\n",
       "      <td>2.81</td>\n",
       "      <td>5.68</td>\n",
       "      <td>1.03</td>\n",
       "      <td>3.17</td>\n",
       "      <td>1185</td>\n",
       "    </tr>\n",
       "    <tr>\n",
       "      <th>3</th>\n",
       "      <td>1</td>\n",
       "      <td>14.37</td>\n",
       "      <td>1.95</td>\n",
       "      <td>2.50</td>\n",
       "      <td>16.8</td>\n",
       "      <td>113</td>\n",
       "      <td>3.85</td>\n",
       "      <td>3.49</td>\n",
       "      <td>0.24</td>\n",
       "      <td>2.18</td>\n",
       "      <td>7.80</td>\n",
       "      <td>0.86</td>\n",
       "      <td>3.45</td>\n",
       "      <td>1480</td>\n",
       "    </tr>\n",
       "    <tr>\n",
       "      <th>4</th>\n",
       "      <td>1</td>\n",
       "      <td>13.24</td>\n",
       "      <td>2.59</td>\n",
       "      <td>2.87</td>\n",
       "      <td>21.0</td>\n",
       "      <td>118</td>\n",
       "      <td>2.80</td>\n",
       "      <td>2.69</td>\n",
       "      <td>0.39</td>\n",
       "      <td>1.82</td>\n",
       "      <td>4.32</td>\n",
       "      <td>1.04</td>\n",
       "      <td>2.93</td>\n",
       "      <td>735</td>\n",
       "    </tr>\n",
       "  </tbody>\n",
       "</table>\n",
       "</div>"
      ],
      "text/plain": [
       "   Class label  Alcohol  Malic acid   Ash  Alcalinity of ash  Magnesium  \\\n",
       "0            1    14.23        1.71  2.43               15.6        127   \n",
       "1            1    13.20        1.78  2.14               11.2        100   \n",
       "2            1    13.16        2.36  2.67               18.6        101   \n",
       "3            1    14.37        1.95  2.50               16.8        113   \n",
       "4            1    13.24        2.59  2.87               21.0        118   \n",
       "\n",
       "   Total phenols  Flavanoids  Nonflavanoid phenols  Proanthocyanins  \\\n",
       "0           2.80        3.06                  0.28             2.29   \n",
       "1           2.65        2.76                  0.26             1.28   \n",
       "2           2.80        3.24                  0.30             2.81   \n",
       "3           3.85        3.49                  0.24             2.18   \n",
       "4           2.80        2.69                  0.39             1.82   \n",
       "\n",
       "   Color intensity   Hue  OD280/OD315 of diluted wines  Proline  \n",
       "0             5.64  1.04                          3.92     1065  \n",
       "1             4.38  1.05                          3.40     1050  \n",
       "2             5.68  1.03                          3.17     1185  \n",
       "3             7.80  0.86                          3.45     1480  \n",
       "4             4.32  1.04                          2.93      735  "
      ]
     },
     "execution_count": 2,
     "metadata": {},
     "output_type": "execute_result"
    }
   ],
   "source": [
    "%matplotlib inline\n",
    "import matplotlib.pyplot as plt\n",
    "plt.rcParams['figure.figsize'] = (10.0, 8.0)\n",
    "import pandas as pd\n",
    "\n",
    "vinos = pd.read_csv('../datos/wine_data.csv')\n",
    "vinos.head()"
   ]
  },
  {
   "cell_type": "code",
   "execution_count": 3,
   "metadata": {},
   "outputs": [],
   "source": [
    "vinos = vinos[vinos['Class label'] != 1]\n",
    "X = vinos[['Alcohol', 'Hue']].values\n",
    "y = vinos['Class label'].values"
   ]
  },
  {
   "cell_type": "markdown",
   "metadata": {},
   "source": [
    "Codificar las etiquetas de clases a un formato binario y dividir el conjunto de datos, con un 60% de entrenamiento y un 40% de prueba:"
   ]
  },
  {
   "cell_type": "code",
   "execution_count": 4,
   "metadata": {},
   "outputs": [],
   "source": [
    "from sklearn.preprocessing import LabelEncoder\n",
    "from sklearn.model_selection import train_test_split\n",
    "le = LabelEncoder()\n",
    "y = le.fit_transform(y)\n",
    "X_entrenamiento, X_prueba, y_entrenamiento, y_prueba = train_test_split(X, y, test_size=0.40, random_state=1)"
   ]
  },
  {
   "cell_type": "markdown",
   "metadata": {},
   "source": [
    "Sklearn tiene una implemantación del algoritmo de clasificación Bagging, el cual se puede importar del submodulo `ensemble`. Usaremos un árbol de decisión como clasificador base y crearemos 500 árboles de decisión entrenados con diferentes \"bootstrap\" muestras del conjunto e entrenamiento:"
   ]
  },
  {
   "cell_type": "code",
   "execution_count": 5,
   "metadata": {},
   "outputs": [],
   "source": [
    "from sklearn.ensemble import BaggingClassifier\n",
    "from sklearn.tree import DecisionTreeClassifier\n",
    "arbol = DecisionTreeClassifier(criterion='entropy')\n",
    "clasificador_bagging = BaggingClassifier(base_estimator=arbol, n_estimators=500, max_samples=1.0, max_features=1.0, bootstrap=True, bootstrap_features=False, random_state=1)"
   ]
  },
  {
   "cell_type": "markdown",
   "metadata": {},
   "source": [
    "Calcular la exactitud de las prediciones tanto sobre el conjunto de entrenamiento como sobre el conjunto de prueba, para comparar el rendimiento del clasificador Bagging como del Earbol de decisión:"
   ]
  },
  {
   "cell_type": "code",
   "execution_count": 6,
   "metadata": {},
   "outputs": [
    {
     "name": "stdout",
     "output_type": "stream",
     "text": [
      "Exactitud del Árbol de Decisión entrenamiento/prueba 1.000/0.854\n"
     ]
    }
   ],
   "source": [
    "from sklearn.metrics import accuracy_score\n",
    "arbol = arbol.fit(X_entrenamiento, y_entrenamiento)\n",
    "y_entrenamiento_predicciones = arbol.predict(X_entrenamiento)\n",
    "y_prueba_predicciones = arbol.predict(X_prueba)\n",
    "arbol_entrenamiento = accuracy_score(y_entrenamiento, y_entrenamiento_predicciones)\n",
    "arbol_prueba = accuracy_score(y_prueba, y_prueba_predicciones)\n",
    "print('Exactitud del Árbol de Decisión entrenamiento/prueba %.3f/%.3f' % (arbol_entrenamiento, arbol_prueba))"
   ]
  },
  {
   "cell_type": "markdown",
   "metadata": {},
   "source": [
    "En función de los valores de precisión obtenidos, el árbol de decisión sin podar predice correctamente todas las etiquetas de clase de las muestras de entrenmiento; sin embargo, la precisión de los datos de prueba es sustancialmente más baja indicando una varianza alta del modelo (sobreajuste):"
   ]
  },
  {
   "cell_type": "code",
   "execution_count": 7,
   "metadata": {},
   "outputs": [
    {
     "name": "stdout",
     "output_type": "stream",
     "text": [
      "Exactitud del Clasificador Bagging entrenamiento/prueba 1.000/0.896\n"
     ]
    }
   ],
   "source": [
    "clasificador_bagging = clasificador_bagging.fit(X_entrenamiento, y_entrenamiento)\n",
    "y_entrenamiento_predicciones = clasificador_bagging.predict(X_entrenamiento)\n",
    "y_prueba_predicciones = clasificador_bagging.predict(X_prueba)\n",
    "clasificador_bagging_entrenamiento = accuracy_score(y_entrenamiento, y_entrenamiento_predicciones)\n",
    "clasificador_bagging_prueba = accuracy_score(y_prueba, y_prueba_predicciones)\n",
    "print('Exactitud del Clasificador Bagging entrenamiento/prueba %.3f/%.3f' % (clasificador_bagging_entrenamiento, clasificador_bagging_prueba))"
   ]
  },
  {
   "cell_type": "markdown",
   "metadata": {},
   "source": [
    "Aunque las precisiones de entrenamiento del árbol de decisión y el clasificador bagging son similares en el conjunto de entrenamiento (ambos 1.0), podemos ver que el clasificador bagging generaliza ligeramente mejor sobre el conjunto de prueba. Comparar las regiones de decisión entre el árbol de decisión y el clasificador bagging:"
   ]
  },
  {
   "cell_type": "code",
   "execution_count": 8,
   "metadata": {},
   "outputs": [
    {
     "data": {
      "image/png": "[encoded data removed]",
      "text/plain": [
       "<Figure size 720x576 with 1 Axes>"
      ]
     },
     "metadata": {
      "needs_background": "light"
     },
     "output_type": "display_data"
    }
   ],
   "source": [
    "import graficar_regiones_decision as grd\n",
    "grd.graficar_regiones_decision(X_prueba, y_prueba, \n",
    "                      clasificador=arbol)\n",
    "plt.title('Árbol de Decisión')\n",
    "plt.xlabel('Alcohol')\n",
    "plt.ylabel('Hue')\n",
    "plt.legend(loc='upper left')\n",
    "plt.tight_layout()\n",
    "plt.show()"
   ]
  },
  {
   "cell_type": "code",
   "execution_count": 9,
   "metadata": {},
   "outputs": [
    {
     "data": {
      "image/png": "[encoded data removed]",
      "text/plain": [
       "<Figure size 720x576 with 1 Axes>"
      ]
     },
     "metadata": {
      "needs_background": "light"
     },
     "output_type": "display_data"
    }
   ],
   "source": [
    "grd.graficar_regiones_decision(X_entrenamiento, y_entrenamiento, \n",
    "                      clasificador=clasificador_bagging)\n",
    "plt.title('Bagging')\n",
    "plt.xlabel('Alcohol')\n",
    "plt.ylabel('Hue')\n",
    "plt.legend(loc='upper left')\n",
    "plt.tight_layout()\n",
    "plt.show()"
   ]
  },
  {
   "cell_type": "markdown",
   "metadata": {},
   "source": [
    "## Random Forrest"
   ]
  },
  {
   "cell_type": "markdown",
   "metadata": {},
   "source": [
    "El algoritmo Random Forrest ha ganado gran popularidad en aplicaciones de aprendizaje automático\n",
    "durante la última década debido a su buen desempeño de clasificación, escalabilidad y\n",
    "facilidad de uso. Intuitivamente, un Random Forrest puede considerarse como un conjunto de \n",
    "árboles de decisiones. La idea detrás del aprendizaje por conjuntos es combinar clasificaores débiles para construir un modelo más robusto, un clasificador fuerte, que tiene un mejor error de generalización y es menos susceptible de sobreajuste. El algoritmo de Random Forrest se puede resumir en cuatro pasos simples:\n",
    "1. Extraer una muestra aleatoria bootstrap de tamaño $n$ (elejir aleatoriamente $n$ muestras de\n",
    "el conjunto de entrenamiento con reemplazo).\n",
    "2. Generar un árbol de decisión a partir de la muestra de arranque. En cada nodo:\n",
    "  1. Seleccione aleatoriamente $d$ atributos sin reemplazo.\n",
    "  2. Divida el nodo utilizando el atributo que proporciona la mejor división de acuerdo con la función objetivo, por ejemplo, maximizando la ganancia de información.\n",
    "3. Repita los pasos 1 y 2 $k$ veces.\n",
    "4. Totalizar la predicción de cada árbol para asignar la etiqueta de clase por voto mayoritario"
   ]
  },
  {
   "cell_type": "markdown",
   "metadata": {},
   "source": [
    "### Ejemplo de Random Forrest"
   ]
  },
  {
   "cell_type": "code",
   "execution_count": 10,
   "metadata": {},
   "outputs": [
    {
     "name": "stdout",
     "output_type": "stream",
     "text": [
      "Exactitud del Random Forest entrenamiento/prueba 1.000/0.896\n"
     ]
    }
   ],
   "source": [
    "from sklearn.ensemble import RandomForestClassifier\n",
    "bosque = RandomForestClassifier(criterion='entropy', n_estimators=100,random_state=1)\n",
    "bosque = bosque.fit(X_entrenamiento, y_entrenamiento)\n",
    "y_entrenamiento_predicciones = bosque.predict(X_entrenamiento)\n",
    "y_prueba_predicciones = bosque.predict(X_prueba)\n",
    "bosque_entrenamiento = accuracy_score(y_entrenamiento, y_entrenamiento_predicciones)\n",
    "bosque_prueba = accuracy_score(y_prueba, y_prueba_predicciones)\n",
    "print('Exactitud del Random Forest entrenamiento/prueba %.3f/%.3f' % (bosque_entrenamiento, bosque_prueba))"
   ]
  },
  {
   "cell_type": "code",
   "execution_count": 11,
   "metadata": {},
   "outputs": [
    {
     "data": {
      "image/png": "[encoded data removed]",
      "text/plain": [
       "<Figure size 720x576 with 1 Axes>"
      ]
     },
     "metadata": {
      "needs_background": "light"
     },
     "output_type": "display_data"
    }
   ],
   "source": [
    "grd.graficar_regiones_decision(X_entrenamiento, y_entrenamiento, \n",
    "                      clasificador=bosque)\n",
    "plt.title('Random Forest')\n",
    "plt.xlabel('Alcohol')\n",
    "plt.ylabel('Hue')\n",
    "plt.legend(loc='upper left')\n",
    "plt.tight_layout()\n",
    "plt.show()"
   ]
  },
  {
   "cell_type": "markdown",
   "metadata": {},
   "source": [
    "## Boosting"
   ]
  },
  {
   "cell_type": "markdown",
   "metadata": {},
   "source": [
    "Comencemos con la definición intuitiva del concepto:\n",
    "- Boosting (Freud y Shapire, 1996) - Algoritmo que permite ajustar muchos clasificadores débiles a versiones ponderadas de los datos de entrenamiento. Clasificando los ejemplos finales por mayoría de votos.\n",
    "\n",
    "Al usar la tecnología de boosting, a todas las instancias en el conjunto de datos se les asigna una puntuación que indica qué tan difíciles de clasificar son. En cada iteración siguiente, el algoritmo presta más atención (asigna pesos más grandes) a instancias que fueron clasificadas erróneamente previamente.\n",
    "\n",
    "<img src=\"../figuras/Boosting.png\" width=75%>\n",
    "\n",
    "En boosting, el conjunto consta de clasificadores básicos muy simples, también a menudo referidos como clasificadore débiles, que tienen solo una ligera ventaja de rendimiento sobre adivinar al azar. Un ejemplo típico de un clasificador débil sería un pedazo de un árbol de decisión.\n",
    "El concepto clave detrás del boosting es centrarse en las muestras de entrenaminetoque son difíciles de clasificar, es decir, dejar que los clasificadores débiles aprendan posteriormente de los errores de clasificación\n",
    "sobre las uestras de entrenamiento para mejorar el rendimiento del conjunto. En contraste con el bagging, la formulación inicial de boosting, el algoritmo utiliza subconjuntos aleatorios de las muestras de entrenamiento extraídas del conjunto de datos de entrenamiento sin reemplazo. El procedimiento original de boosting, se resume en cuatro pasos claves de la siguiente manera:\n",
    "\n",
    "1. Extraer un subconjunto aleatorio de muestras de entrenamiento $d_1$ sin reemplazo del conjunto de entrenamiento $D$ para entrenar a un clasificador débil $C_1$.\n",
    "2. Extraer un segundo subconjunto de entrenamiento aleatorio $d_2$ sin reemplazo del conjunto de entrenamiento y agregue el 50 por ciento de las muestras que fueron previamente mal clasificadas para entrenar a un clasificador débil $C_2$.\n",
    "3. Encuentre las muestras de entrenamiento $d_3$ en el conjunto de entrenamiento $D$ en el cual $C_1$ y $C_2$ no estan de acuerdo para entrenar a un tercer clasificador débil $C_3$.\n",
    "4. Combine los clasificadores débiles $C_1$, $C_2$ y $C_3$ por mayoría de votos."
   ]
  },
  {
   "cell_type": "markdown",
   "metadata": {},
   "source": [
    "## AdaBoost"
   ]
  },
  {
   "cell_type": "markdown",
   "metadata": {},
   "source": [
    "El algoritmo AdaBoost (adaptive boosting) fue propuesto en 1995 por Yoav Freund y Robert Shapire como un método general para generar un clasificador fuerte a partir de un conjunto de clasificadores débiles. AdaBoost funciona incluso cuando los clasificadores provienen de un continuo de clasificadores potenciales (como redes neuronales, discriminantes lineales, etc.)\n",
    "\n",
    "En contraste con el procedimiento original de boosting, AdaBoost utiliza\n",
    "el conjunto completo de entrenamiento para entrenar a los clasificadores débiles donde las muestras de entrenamiento son reponderadas en cada iteración para construir un clasificador fuerte que aprenda de los errores del conjunto de los clasificadores débiles anteriores.\n",
    "\n",
    "<img src=\"../figuras/AdaBoost.png\" width=75%>"
   ]
  },
  {
   "cell_type": "markdown",
   "metadata": {},
   "source": [
    "### Ejemplo usando AdaBoost"
   ]
  },
  {
   "cell_type": "code",
   "execution_count": 12,
   "metadata": {},
   "outputs": [
    {
     "name": "stdout",
     "output_type": "stream",
     "text": [
      "Exactitud del Árbol de Decisión entrenamiento/prueba 0.845/0.854\n"
     ]
    }
   ],
   "source": [
    "from sklearn.ensemble import AdaBoostClassifier\n",
    "arbol = DecisionTreeClassifier(criterion='entropy', max_depth=1)\n",
    "ada = AdaBoostClassifier(base_estimator=arbol, n_estimators=500, learning_rate=0.1, random_state=1)\n",
    "arbol = arbol.fit(X_entrenamiento, y_entrenamiento)\n",
    "y_entrenamiento_predicciones = arbol.predict(X_entrenamiento)\n",
    "y_prueba_predicciones = arbol.predict(X_prueba)\n",
    "arbol_entrenamiento = accuracy_score(y_entrenamiento, y_entrenamiento_predicciones)\n",
    "arbol_prueba = accuracy_score(y_prueba, y_prueba_predicciones)\n",
    "print('Exactitud del Árbol de Decisión entrenamiento/prueba %.3f/%.3f' % (arbol_entrenamiento, arbol_prueba))"
   ]
  },
  {
   "cell_type": "code",
   "execution_count": 13,
   "metadata": {},
   "outputs": [
    {
     "name": "stdout",
     "output_type": "stream",
     "text": [
      "Exactitud del AdaBoost entrenamiento/prueba 1.000/0.875\n"
     ]
    }
   ],
   "source": [
    "ada = ada.fit(X_entrenamiento, y_entrenamiento)\n",
    "y_entrenamiento_predicciones = ada.predict(X_entrenamiento)\n",
    "y_prueba_predicciones = ada.predict(X_prueba)\n",
    "ada_entrenamiento = accuracy_score(y_entrenamiento, y_entrenamiento_predicciones)\n",
    "ada_prueba = accuracy_score(y_prueba, y_prueba_predicciones)\n",
    "print('Exactitud del AdaBoost entrenamiento/prueba %.3f/%.3f' % (ada_entrenamiento, ada_prueba))"
   ]
  },
  {
   "cell_type": "code",
   "execution_count": 14,
   "metadata": {},
   "outputs": [
    {
     "data": {
      "image/png": "[encoded data removed]",
      "text/plain": [
       "<Figure size 720x576 with 1 Axes>"
      ]
     },
     "metadata": {
      "needs_background": "light"
     },
     "output_type": "display_data"
    }
   ],
   "source": [
    "grd.graficar_regiones_decision(X_entrenamiento, y_entrenamiento, \n",
    "                      clasificador=arbol)\n",
    "plt.title('Árbol de Decisión')\n",
    "plt.xlabel('Alcohol')\n",
    "plt.ylabel('Hue')\n",
    "plt.legend(loc='upper left')\n",
    "plt.tight_layout()\n",
    "plt.show()"
   ]
  },
  {
   "cell_type": "code",
   "execution_count": 15,
   "metadata": {},
   "outputs": [
    {
     "data": {
      "image/png": "[encoded data removed]",
      "text/plain": [
       "<Figure size 720x576 with 1 Axes>"
      ]
     },
     "metadata": {
      "needs_background": "light"
     },
     "output_type": "display_data"
    }
   ],
   "source": [
    "grd.graficar_regiones_decision(X_entrenamiento, y_entrenamiento, \n",
    "                      clasificador=ada)\n",
    "plt.title('AdaBoost')\n",
    "plt.xlabel('Alcohol')\n",
    "plt.ylabel('Hue')\n",
    "plt.legend(loc='upper left')\n",
    "plt.tight_layout()\n",
    "plt.show()"
   ]
  },
  {
   "cell_type": "code",
   "execution_count": null,
   "metadata": {},
   "outputs": [],
   "source": []
  }
 ],
 "metadata": {
  "kernelspec": {
   "display_name": "Python 3 (ipykernel)",
   "language": "python",
   "name": "python3"
  },
  "language_info": {
   "codemirror_mode": {
    "name": "ipython",
    "version": 3
   },
   "file_extension": ".py",
   "mimetype": "text/x-python",
   "name": "python",
   "nbconvert_exporter": "python",
   "pygments_lexer": "ipython3",
   "version": "3.8.13"
  }
 },
 "nbformat": 4,
 "nbformat_minor": 4
}
