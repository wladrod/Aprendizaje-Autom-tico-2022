{
 "cells": [
  {
   "cell_type": "markdown",
   "metadata": {},
   "source": [
    "<center>\n",
    "    <h1>Tema 2: Apredizaje Supervisado</h1>\n",
    "    <h1>Clasificación</h1>\n",
    "    <h1>Perceptrón</h1>\n",
    "    <br>\n",
    "    <h5>Prof. Wladimir Rodriguez</h5>\n",
    "    <h5>wladimir@ula.ve</h5>\n",
    "    <h5>Departamento de Computación</h5>\n",
    "</center>"
   ]
  },
  {
   "cell_type": "markdown",
   "metadata": {},
   "source": [
    "# Algoritmos de Clasificación: El Perceptrón"
   ]
  },
  {
   "cell_type": "markdown",
   "metadata": {},
   "source": [
    "## Neuronas Artificiales"
   ]
  },
  {
   "cell_type": "markdown",
   "metadata": {},
   "source": [
    "Las neuronas biológicas son células nerviosas interconectadas en el cerebro que están involucradas en el procesamiento y transmisión de señales químicas y eléctricas. Las dendritas y el cuerpo celular de la neurona reciben señales de entrada excitatorias e inhibitorias de las neuronas vecinas; el cuerpo celular las combina e integra y emite señales de salida. El axón transporta esas señales a los terminales axónicos, que se encargan de distribuir información a un nuevo conjunto de neuronas"
   ]
  },
  {
   "cell_type": "markdown",
   "metadata": {},
   "source": [
    "<img src=\"../figuras/neurona.png\" width=\"50%\">"
   ]
  },
  {
   "cell_type": "markdown",
   "metadata": {},
   "source": [
    "## Neurona de McCulloch y Pitts"
   ]
  },
  {
   "cell_type": "markdown",
   "metadata": {},
   "source": [
    "El modelo de neuronas de McCulloch y Pitts, publicado en 1943, fue el primer intento de formalizar matemáticamente el comportamiento de una neurona y de estudiar sus implicaciones en su capacidad de computar y procesar la información.\n",
    "\n",
    "McCullock y Pitts describieron una célula nerviosa como una simple puerta lógica con salidas binarias; Múltiples señales llegan a las dendritas, se integran entonces en el cuerpo celular y, si la señal acumulada excede un cierto umbral, se genera una señal de salida que será transmitida por el axón.\n",
    "\n",
    "La neurona de McCulloch-Pitts es una unidad de cálculo que intenta modelar el comportamiento de una neurona \"natural\", similares a las que constituyen del cerebro humano. Ella es la unidad esencial con la cual se construye una red neuronal artificial."
   ]
  },
  {
   "cell_type": "markdown",
   "metadata": {},
   "source": [
    "El resultado del cálculo en una neurona consiste en realizar una suma ponderada de las entradas, seguida de la aplicación de una función no lineal, como se ilustra en la siguiente figura"
   ]
  },
  {
   "cell_type": "markdown",
   "metadata": {},
   "source": [
    "<img src=\"../figuras/neurona_artificial.png\" width=\"75%\">"
   ]
  },
  {
   "cell_type": "markdown",
   "metadata": {},
   "source": [
    "Esto se expresa matemáticamente como:\n",
    "\n",
    "$$salida = a(z)$$\n",
    "\n",
    "siendoː\n",
    "\n",
    "* $z = w_1x_1 + ⋯ + w_nx_n − 𝜭$  es la suma ponderada de las entradas.\n",
    "* $x_i$ es el valor de la i-ésima entrada.\n",
    "* $w_i$ es el peso de la conexión entre la i-ésima entrada y la neurona.\n",
    "* $𝜭$ es el valor umbral\n",
    "* $salida$ es la salida de la neurona.\n",
    "* $a$ es la función no lineal conocida como función de activación.\n",
    "\n",
    "La función de activación que se usa esː\n",
    "\n",
    "&nbsp;&nbsp;&nbsp;&nbsp;&nbsp;&nbsp;$a = \\left\\{\n",
    "\\begin{array}{ll}\n",
    "      1 & z\\geq 0 \\\\\n",
    "      0 & z\\lt 0 \\\\\n",
    "\\end{array} \n",
    "\\right.$"
   ]
  },
  {
   "cell_type": "markdown",
   "metadata": {},
   "source": [
    "## El Perceptrón de Rosenblatt"
   ]
  },
  {
   "cell_type": "markdown",
   "metadata": {},
   "source": [
    "En 1957 Frank Rosenblatt publicó el primer concepto de la regla de aprendizaje del perceptrón basado en el modelo de neuronas MCP (F. Rosenblatt, _The Perceptron, a Perceiving and Recognizing Automaton_, Cornell Aeronautical Laboratory). Con su regla del perceptron, Rosenblatt propuso un algoritmo que aprendería automáticamente los coeficientes de peso óptimos que luego se multiplican con los atributos de entrada para tomar la decisión de si una neurona se dispara o no. En el contexto del aprendizaje supervisado y la clasificación, tal algoritmo podría utilizarse para predecir si una muestra pertenecía a una clase u otra.\n",
    "\n",
    "Formalmente se puede plantear este problema como una tarea de clasificación binaria donde se hace referencia a dos clases, la clase 1 (clase positiva) y la clase -1 (clase negativa). Se puede entonces definir una función de activación $𝜙(z)$ la cual toma una combinación lineal de un vector de entrada **_x_** y un correspondiente vector de pesos **_w_**, donde $z$ es la llamada entrada de red $(z = w_1x_1 + ... + w_nx_n)$:\n",
    "\n",
    "&nbsp;&nbsp;&nbsp;&nbsp;&nbsp;&nbsp;$w = \\left[\\\n",
    "\\begin{array}{ll}\n",
    "      w_1 \\\\\n",
    "      \\vdots \\\\\n",
    "      w_n \\\\\n",
    "\\end{array} \n",
    "\\right]$,&nbsp;&nbsp;$ x= \\left[\\\n",
    "\\begin{array}{ll}\n",
    "      x_1 \\\\\n",
    "      \\vdots \\\\\n",
    "      x_n \\\\\n",
    "\\end{array} \n",
    "\\right]$"
   ]
  },
  {
   "cell_type": "markdown",
   "metadata": {},
   "source": [
    "Si la activación de una observación particular $x^{(i)}$ es mayor que un umbral definido 𝜽, se predice clase 1 de lo contrario se predice clase -1, en el Perceptron, la función de activación $𝜙(·)$ es una función escalón unitario, que a veces también se denomina función escalón de Heaviside:\n",
    "\n",
    "&nbsp;&nbsp;&nbsp;&nbsp;&nbsp;&nbsp;$𝜙(z) = \\left\\{\n",
    "\\begin{array}{ll}\n",
    "      1 & z\\geq 𝜽 \\\\\n",
    "      -1 & z\\lt 𝜽 \\\\\n",
    "\\end{array} \n",
    "\\right.$\n",
    "\n",
    "Para simplificar, podemos traer el umbral 𝜽 al lado izquierdo de la ecuación y definir un peso-cero como $w_0 = -𝜽$ y $x_0 = 1$, asi se puede escribir $z$ en una forma más compacta $z = w_0x_0 + w_1x_1 + ... + w_nx_n$ y\n",
    "\n",
    "&nbsp;&nbsp;&nbsp;&nbsp;&nbsp;&nbsp;$𝜙(z) = \\left\\{\n",
    "\\begin{array}{ll}\n",
    "      1 & z\\geq 0 \\\\\n",
    "      -1 & z\\lt 0 \\\\\n",
    "\\end{array} \n",
    "\\right.$"
   ]
  },
  {
   "cell_type": "markdown",
   "metadata": {},
   "source": [
    "El calculo de la suma de productos de los valores **_x_** y **_w_** se puede abreviar usando el producto escalar:\n",
    "\n",
    "&nbsp;&nbsp;&nbsp;&nbsp;&nbsp;&nbsp;$z = w_0x_0 + w_1x_1 + ... + w_nx_n = \\sum_{j=0}^{n}x_jw_j = w^Tx$\n",
    "\n",
    "La siguiente figura ilustra cómo la entrada $z = w^Tx$ es convertida a una salida binaria (-1 o 1) por la función de activación del perceptrón y cómo se puede utilizar para discriminar entre dos clases linealmente separables: "
   ]
  },
  {
   "cell_type": "markdown",
   "metadata": {},
   "source": [
    "<img src=\"../figuras/clasificacion_binaria.png\" width=\"75%\">"
   ]
  },
  {
   "cell_type": "markdown",
   "metadata": {},
   "source": [
    "## Algoritmo del Perceptrón de Rosenblatt"
   ]
  },
  {
   "cell_type": "markdown",
   "metadata": {},
   "source": [
    "La regla inicial de perceptrón de Rosenblatt es bastante simple y puede ser resumida por los siguientes pasos:\n",
    "1. Inicialice los pesos a _0_ o a números aleatorios pequeños.\n",
    "2. Para cada muestra de entrenamiento $x^{(i)}$ realice los siguientes pasos:\n",
    "    1. Calcule el valor de salida _ŷ_.\n",
    "    2. Actualizar los pesos y el sesgo.\n",
    "    \n",
    "Regla de actualización de los pesos y el sesgo\n",
    "\n",
    "&nbsp;&nbsp;&nbsp;&nbsp;&nbsp;&nbsp;$w_j = w_j + ∆w_j$ \n",
    "\n",
    "\n",
    "Los valores de actualización se calculan de la siguiente manera:\n",
    "\n",
    "&nbsp;&nbsp;&nbsp;&nbsp;&nbsp;&nbsp;$∆w_i = 𝜂 (y^{(i)} - ŷ^{(i)}) x_j^{(i)}$ \n",
    "\n",
    "\n",
    "\n",
    "Donde $η$ es la tasa de aprendizaje (una constante entre 0.0 y 1.0), $y^{(i)}$ es la etiqueta de la clase verdadera de la i-ésima muestra de entrenamiento, $ŷ^{(i)}$ es la etiqueta de la clase predicha.\n",
    "\n",
    "Si la predicción es correcta, los pesos no cambian:\n",
    "\n",
    "&nbsp;&nbsp;&nbsp;&nbsp;&nbsp;&nbsp;$∆w_j = 𝜂 (-1 - -1) x_j^{(i)} = 0$\n",
    "\n",
    "&nbsp;&nbsp;&nbsp;&nbsp;&nbsp;&nbsp;$∆w_j = 𝜂 (1 - 1) x_j^{(i)} = 0$\n",
    "\n",
    "Si la predcción es incorrecta, los pesos se ajustan hacia la clase positiva o negativa:\n",
    "\n",
    "&nbsp;&nbsp;&nbsp;&nbsp;&nbsp;&nbsp;$∆w_j = 𝜂 (1 - -1) x_j^{(i)} = 𝜂(2)x_j^{(i)}$\n",
    "\n",
    "&nbsp;&nbsp;&nbsp;&nbsp;&nbsp;&nbsp;$∆w_j = 𝜂 (-1 - 1) x_j^{(i)} = 𝜂(-2)x_j^{(i)}$\n",
    "\n",
    "La siguiente figura ilustra el concepto general del Perceptrón:"
   ]
  },
  {
   "cell_type": "markdown",
   "metadata": {},
   "source": [
    "<img src=\"../figuras/perceptron.png\" width=\"75%\">"
   ]
  },
  {
   "cell_type": "markdown",
   "metadata": {},
   "source": [
    "## Convergencia del algoritmo"
   ]
  },
  {
   "cell_type": "markdown",
   "metadata": {},
   "source": [
    "Convergencia garantizada si\n",
    "* Las dos clases son linealmente separables\n",
    "* La tasa de aprendizaje es lo suficientemente pequeña\n",
    "\n",
    "Si las clases no pueden ser separadas:\n",
    "* Establezca un número máximo de pasadas sobre el conjunto de datos de entrenamiento (épocas)\n",
    "* Establecer un umbral para el número de errores de clasificación a tolerar\n",
    "* De lo contrario, nunca dejará de actualizar los pesos (no convergerá)"
   ]
  },
  {
   "cell_type": "markdown",
   "metadata": {},
   "source": [
    "## Implementación del algoritmo de aprendizaje del Perceptrón en Python"
   ]
  },
  {
   "cell_type": "code",
   "execution_count": 1,
   "metadata": {},
   "outputs": [],
   "source": [
    "import numpy as np\n",
    "\n",
    "\n",
    "class Perceptron(object):\n",
    "    ''' Clasificador Perceptron\n",
    "    \n",
    "    Parámetros\n",
    "    ----------\n",
    "    eta : float\n",
    "      Taza de aprendizaje (entre 0.0 y 1.0)\n",
    "    num_iteraciones : int\n",
    "      Pasadas sobre el conjunto de datos de entrenamiento\n",
    "    random_state : int\n",
    "      Semilla para el generador de números aleatorios, para\n",
    "      la inicialización de los pesos\n",
    "      \n",
    "    Atributos\n",
    "    ---------\n",
    "    w_ : arreglo de 1D\n",
    "      Pesos después del entrenamiento\n",
    "    \n",
    "    '''\n",
    "    \n",
    "    def __init__(self, eta=0.01, num_iteraciones=40, random_state=8):\n",
    "        self.eta = eta\n",
    "        self.num_iteraciones = num_iteraciones\n",
    "        self.random_state = random_state\n",
    "\n",
    "    def fit(self, X, y):\n",
    "        ''' Ajustar la data de entrenamiento\n",
    "        \n",
    "        Parámetros\n",
    "        ----------\n",
    "        X : arreglo, forma = [n_ejemplos, n_atributos]\n",
    "          Vectores de entrenamineto, donde n_ejemplos es el números\n",
    "          de ejemplos y n_atributos es el números de atributos\n",
    "        y : arreglo, forma = [n_ejemplos]\n",
    "          Valores objetivo\n",
    "          \n",
    "        Retorna\n",
    "        -------\n",
    "        self : objeto\n",
    "        \n",
    "        '''\n",
    "        gen_a = np.random.RandomState(self.random_state)\n",
    "        self.w_ = gen_a.normal(loc=0.0, scale=0.01, size=1 + X.shape[1])\n",
    "        self.errores_ = []\n",
    "\n",
    "        for _ in range(self.num_iteraciones):\n",
    "            errores = 0\n",
    "            for xi, objetivo in zip(X, y):\n",
    "                actualizar = self.eta * (objetivo - self.predict(xi))\n",
    "                self.w_[1:] += actualizar * xi\n",
    "                self.w_[0] += actualizar\n",
    "                errores += int(actualizar != 0.0)\n",
    "            self.errores_.append(errores)\n",
    "        return self\n",
    "\n",
    "    def entrada(self, X):\n",
    "        ## Calcular la entrada\n",
    "        return np.dot(X, self.w_[1:]) + self.w_[0]\n",
    "\n",
    "    def predict(self, X):\n",
    "        ## Devolver la etiqueta de la clase\n",
    "        return np.where(self.entrada(X) >= 0.0, 1, -1)"
   ]
  },
  {
   "cell_type": "markdown",
   "metadata": {},
   "source": [
    "## Entrenar un Perceptrón con el conjunto de datos Iris "
   ]
  },
  {
   "cell_type": "markdown",
   "metadata": {},
   "source": [
    "### Leer el conjunto de datos Iris"
   ]
  },
  {
   "cell_type": "code",
   "execution_count": 2,
   "metadata": {},
   "outputs": [
    {
     "data": {
      "text/html": [
       "<div>\n",
       "<style scoped>\n",
       "    .dataframe tbody tr th:only-of-type {\n",
       "        vertical-align: middle;\n",
       "    }\n",
       "\n",
       "    .dataframe tbody tr th {\n",
       "        vertical-align: top;\n",
       "    }\n",
       "\n",
       "    .dataframe thead th {\n",
       "        text-align: right;\n",
       "    }\n",
       "</style>\n",
       "<table border=\"1\" class=\"dataframe\">\n",
       "  <thead>\n",
       "    <tr style=\"text-align: right;\">\n",
       "      <th></th>\n",
       "      <th>0</th>\n",
       "      <th>1</th>\n",
       "      <th>2</th>\n",
       "      <th>3</th>\n",
       "      <th>4</th>\n",
       "    </tr>\n",
       "  </thead>\n",
       "  <tbody>\n",
       "    <tr>\n",
       "      <th>145</th>\n",
       "      <td>6.7</td>\n",
       "      <td>3.0</td>\n",
       "      <td>5.2</td>\n",
       "      <td>2.3</td>\n",
       "      <td>Iris-virginica</td>\n",
       "    </tr>\n",
       "    <tr>\n",
       "      <th>146</th>\n",
       "      <td>6.3</td>\n",
       "      <td>2.5</td>\n",
       "      <td>5.0</td>\n",
       "      <td>1.9</td>\n",
       "      <td>Iris-virginica</td>\n",
       "    </tr>\n",
       "    <tr>\n",
       "      <th>147</th>\n",
       "      <td>6.5</td>\n",
       "      <td>3.0</td>\n",
       "      <td>5.2</td>\n",
       "      <td>2.0</td>\n",
       "      <td>Iris-virginica</td>\n",
       "    </tr>\n",
       "    <tr>\n",
       "      <th>148</th>\n",
       "      <td>6.2</td>\n",
       "      <td>3.4</td>\n",
       "      <td>5.4</td>\n",
       "      <td>2.3</td>\n",
       "      <td>Iris-virginica</td>\n",
       "    </tr>\n",
       "    <tr>\n",
       "      <th>149</th>\n",
       "      <td>5.9</td>\n",
       "      <td>3.0</td>\n",
       "      <td>5.1</td>\n",
       "      <td>1.8</td>\n",
       "      <td>Iris-virginica</td>\n",
       "    </tr>\n",
       "  </tbody>\n",
       "</table>\n",
       "</div>"
      ],
      "text/plain": [
       "       0    1    2    3               4\n",
       "145  6.7  3.0  5.2  2.3  Iris-virginica\n",
       "146  6.3  2.5  5.0  1.9  Iris-virginica\n",
       "147  6.5  3.0  5.2  2.0  Iris-virginica\n",
       "148  6.2  3.4  5.4  2.3  Iris-virginica\n",
       "149  5.9  3.0  5.1  1.8  Iris-virginica"
      ]
     },
     "execution_count": 2,
     "metadata": {},
     "output_type": "execute_result"
    }
   ],
   "source": [
    "import pandas as pd\n",
    "\n",
    "df = pd.read_csv('../datos/iris.csv', header=None)\n",
    "df.tail()"
   ]
  },
  {
   "cell_type": "markdown",
   "metadata": {},
   "source": [
    "### Graficar los datos de Iris"
   ]
  },
  {
   "cell_type": "code",
   "execution_count": 3,
   "metadata": {},
   "outputs": [
    {
     "data": {
      "image/png": "[encoded data removed]",
      "text/plain": [
       "<Figure size 432x288 with 1 Axes>"
      ]
     },
     "metadata": {
      "needs_background": "light"
     },
     "output_type": "display_data"
    }
   ],
   "source": [
    "%matplotlib inline\n",
    "import matplotlib.pyplot as plt\n",
    "import numpy as np\n",
    "\n",
    "# seleccionar setosa y versicolor\n",
    "y = df.iloc[0:100, 4].values\n",
    "y = np.where(y == 'Iris-setosa', -1, 1)\n",
    "\n",
    "# extraer el largo del sepalo y el largo del petalo\n",
    "X = df.iloc[0:100, [0, 2]].values\n",
    "\n",
    "# graficar la data\n",
    "plt.scatter(X[:50, 0], X[:50, 1],\n",
    "            color='red', marker='o', label='setosa')\n",
    "plt.scatter(X[50:100, 0], X[50:100, 1],\n",
    "            color='blue', marker='x', label='versicolor')\n",
    "\n",
    "plt.xlabel('largo sepalo [cm]')\n",
    "plt.ylabel('largo petalo [cm]')\n",
    "plt.legend(loc='upper left')\n",
    "\n",
    "plt.tight_layout()\n",
    "plt.show()"
   ]
  },
  {
   "cell_type": "markdown",
   "metadata": {},
   "source": [
    "### Entrenar el Perceptrón"
   ]
  },
  {
   "cell_type": "code",
   "execution_count": 4,
   "metadata": {},
   "outputs": [
    {
     "data": {
      "image/png": "[encoded data removed]",
      "text/plain": [
       "<Figure size 432x288 with 1 Axes>"
      ]
     },
     "metadata": {
      "needs_background": "light"
     },
     "output_type": "display_data"
    }
   ],
   "source": [
    "ppn = Perceptron(eta=0.1, num_iteraciones=10)\n",
    "\n",
    "ppn.fit(X, y)\n",
    "\n",
    "plt.plot(range(1, len(ppn.errores_) + 1), ppn.errores_, marker='o')\n",
    "plt.xlabel('Epocas')\n",
    "plt.ylabel('Número de actualizaciones')\n",
    "\n",
    "plt.tight_layout()\n",
    "plt.show()"
   ]
  },
  {
   "cell_type": "markdown",
   "metadata": {},
   "source": [
    "### Una función para graficar las regiones de decisión"
   ]
  },
  {
   "cell_type": "code",
   "execution_count": 5,
   "metadata": {},
   "outputs": [],
   "source": [
    "from matplotlib.colors import ListedColormap\n",
    "\n",
    "\n",
    "def graficar_regiones_decision(X, y, clasificador, resolucion=0.02):\n",
    "\n",
    "    # fijar los marcadores y el mapa de colores\n",
    "    marcadores = ('s', 'o', 'x', '^', 'v')\n",
    "    colores = ('red', 'blue', 'lightgreen', 'gray', 'cyan')\n",
    "    mapa_colores = ListedColormap(colores[:len(np.unique(y))])\n",
    "\n",
    "    # plot the decision surface\n",
    "    x1_min, x1_max = X[:, 0].min() - 1, X[:, 0].max() + 1\n",
    "    x2_min, x2_max = X[:, 1].min() - 1, X[:, 1].max() + 1\n",
    "    xx1, xx2 = np.meshgrid(np.arange(x1_min, x1_max, resolucion),\n",
    "                           np.arange(x2_min, x2_max, resolucion))\n",
    "    Z = clasificador.predict(np.array([xx1.ravel(), xx2.ravel()]).T)\n",
    "    Z = Z.reshape(xx1.shape)\n",
    "    plt.contourf(xx1, xx2, Z, alpha=0.4, cmap='winter')\n",
    "    plt.xlim(xx1.min(), xx1.max())\n",
    "    plt.ylim(xx2.min(), xx2.max())\n",
    "\n",
    "    # graficar los ejemplos de clases\n",
    "    for idx, cl in enumerate(np.unique(y)):\n",
    "        plt.scatter(x=X[y == cl, 0], y=X[y == cl, 1],\n",
    "                    alpha=0.8, #c=colores[idx],\n",
    "                    cmap='winter',\n",
    "                    edgecolor='black',\n",
    "                    marker=marcadores[idx], \n",
    "                    label=f'Clase {cl}')"
   ]
  },
  {
   "cell_type": "code",
   "execution_count": 6,
   "metadata": {},
   "outputs": [
    {
     "data": {
      "image/png": "[encoded data removed]",
      "text/plain": [
       "<Figure size 432x288 with 1 Axes>"
      ]
     },
     "metadata": {
      "needs_background": "light"
     },
     "output_type": "display_data"
    }
   ],
   "source": [
    "graficar_regiones_decision(X, y, clasificador=ppn)\n",
    "plt.xlabel('largo sepalo [cm]')\n",
    "plt.ylabel('largo petalo [cm]')\n",
    "plt.legend(loc='upper left')\n",
    "\n",
    "plt.tight_layout()\n",
    "plt.show()"
   ]
  },
  {
   "cell_type": "markdown",
   "metadata": {},
   "source": [
    "# El Adaline (Adaptive linear neurons) y la convergencia del aprendizaje"
   ]
  },
  {
   "cell_type": "markdown",
   "metadata": {},
   "source": [
    "El Adaline (ADAptive LInear NEuron) fue publicado por Bernard Widrow y su estudiante de doctorado Tedd Hoff, unos años después del algoritmo perceptrón de Frank Rosenblatt, y puede ser considerado como una mejora en este último\n",
    "(B. Widrow y otros, _An Adaptive \"Adaline\" neuron using chemical \"memistors\"_, Reporte técnico número 1553-2. Stanford Electron. Labs, Stanford, CA, Octubre 1960). El algoritmo de Adaline es particularmente interesante porque ilustra el concepto clave de definir y minimizar las funciones de coste, lo que sentará las bases para el entendimiento de algoritmos de aprendizaje automáticos más avanzados para la clasificación, como la regresión logística y máquinas de soporte vectoriales (SVM)."
   ]
  },
  {
   "cell_type": "markdown",
   "metadata": {},
   "source": [
    "La diferencia clave entre la regla de Adaline (también conocida como la regla de Widrow-Hoff) y la del perceptron de Rosenblatt es que los pesos se actualizan sobre la base de una función de activación lineal en lugar de una función de escalón unitario como en el perceptron. En Adaline, esta función de activación lineal $𝜙(z)$ es simplemente la función de identidad de la entrada de manera que $𝜙(w^Tx) = w^Tx$."
   ]
  },
  {
   "cell_type": "markdown",
   "metadata": {},
   "source": [
    "Mientras que la función de activación lineal se utiliza para aprender los pesos, un cuantificador, que es similar a la función de escalón unitario que hemos visto antes, puede ser usado para predecir las etiquetas de clase, como se ilustra en la siguiente figura:"
   ]
  },
  {
   "cell_type": "markdown",
   "metadata": {},
   "source": [
    "<img src=\"../figuras/adaline.png\" width=\"75%\">"
   ]
  },
  {
   "cell_type": "markdown",
   "metadata": {},
   "source": [
    "## Funciones de Coste"
   ]
  },
  {
   "cell_type": "markdown",
   "metadata": {},
   "source": [
    "Uno de los ingredientes clave de los algoritmos supervisados de aprendizaje automático es definir una función objetiva que se debe optimizar durante el proceso de aprendizaje. Esta función objetivo es a menudo una función de coste que queremos minimizar. En el caso del Adaline, podemos determinar la función de coste J para aprender los pesos como el error cuadrático medio (MSE) entre el resultado calculado y la etiqueta de clase verdadera.\n",
    "\n",
    "&nbsp;&nbsp;&nbsp;&nbsp;&nbsp;&nbsp;$J(w) = \\frac{1}{2n}\\sum_{i}(y^{(i)}-𝜙(z^{(i)}))^2$\n",
    "\n",
    "La ventaja principal de esta función de activación lineal continua es que la función de coste se vuelve diferenciable. Otra propiedad importante de esta función de coste es que es convexa; Por lo tanto, podemos usar un algoritmo de optimización simple, pero potente, llamado descenso de gradiente para encontrar los pesos que minimizan nuestra función de coste para clasificar las muestras en el conjunto de datos."
   ]
  },
  {
   "cell_type": "markdown",
   "metadata": {},
   "source": [
    "## Descenso del Gradiente"
   ]
  },
  {
   "cell_type": "markdown",
   "metadata": {},
   "source": [
    "Como se ilustra en la siguiente figura, se puede describir el principio detrás del descenso del gradiente como bajar una colina hasta alcanzar un mínimo de coste local o global. En cada iteración, se toma un paso en sentido contrario del gradiente donde el tamaño del paso se determina por el valor de la tasa de aprendizaje, así como la pendiente del gradiente:"
   ]
  },
  {
   "cell_type": "markdown",
   "metadata": {},
   "source": [
    "<img src=\"../figuras/gradiente.png\" width=\"50%\">"
   ]
  },
  {
   "cell_type": "markdown",
   "metadata": {},
   "source": [
    "Usando descenso del gradiente, se pueden actualizar los pesos tomando un paso en sentido contrario al gradiente $∇J(w)$  de la finción de coste $J(w)$\n",
    "\n",
    "&nbsp;&nbsp;&nbsp;&nbsp;&nbsp;&nbsp;$w = w + ∆w$\n",
    "\n",
    "Donde, el cambio de los pesos $∆w$ es definido como gradiente negativo multiplicado por la tasa de aprendizaje _η_:\n",
    "\n",
    "&nbsp;&nbsp;&nbsp;&nbsp;&nbsp;&nbsp;$∆w = -η∆J(w)$\n",
    "\n",
    "Para calcular el gradiente de la función de coste, se necesita calcular la derivada parcial de la función de coste con respecto a cada peso $w_j$,\n",
    "\n",
    "&nbsp;&nbsp;&nbsp;&nbsp;&nbsp;&nbsp;$\\frac{∂J}{∂w_j} = -\\sum_{i}(y^{(i)}-𝜙(z^{(i)}))x_{j}^{(i)}$\n",
    "\n",
    "de esta forma se puede escribir la actualización del peso $w_j$ como:\n",
    "\n",
    "&nbsp;&nbsp;&nbsp;&nbsp;&nbsp;&nbsp;$∆w_{j} = -η\\frac{∂J}{∂w_j} = η\\sum_{i}(y^{(i)}-𝜙(z^{(i)}))x_{j}^{(i)}$\n",
    "\n",
    "Como todos los pesos se actualizan simultaneamente, la regla de aprendizaje del Adaline se convierte en:\n",
    "\n",
    "&nbsp;&nbsp;&nbsp;&nbsp;&nbsp;&nbsp;$w = w + ∆w$\n",
    "\n",
    "Aunque la regla de aprendizaje del Adalina se parece a la del Perceptrón, la $𝜙(z^{(i)})$ con $z^{(i)} = w^{T}x^{(i)}$ es un número real y no una etiqueta de clase entera. Además, la actualización de los pesos se calcula tomando en cuenta todos las muestras del conjunto de entrenamiento, en vez de, actualizar los pesos incrementalmente despues de cada muestra. Por lo que a este enfoque se le denomina descenso del gradiente por lotes."
   ]
  },
  {
   "cell_type": "markdown",
   "metadata": {},
   "source": [
    "## Derivación de la derivada parcial de la suma al cuadrado de los errores"
   ]
  },
  {
   "cell_type": "markdown",
   "metadata": {},
   "source": [
    "La derivada parcial de SCE con respecto a $w_j$ se puede obtener de la siguente forma:\n",
    "    \n",
    "&nbsp;&nbsp;&nbsp;&nbsp;&nbsp;&nbsp;$\\frac{∂J}{∂w_j} = \\frac{∂}{∂w_j}\\frac{1}{2}\\sum_{i}(y^{(i)}-𝜙(z^{(i)}))^2$\n",
    "\n",
    "&nbsp;&nbsp;&nbsp;&nbsp;&nbsp;&nbsp;$= \\frac{1}{2}\\frac{∂}{∂w_j}\\sum_{i}(y^{(i)}-𝜙(z^{(i)}))^2$\n",
    "\n",
    "&nbsp;&nbsp;&nbsp;&nbsp;&nbsp;&nbsp;$= \\frac{1}{2}\\sum_{i}2(y^{(i)}-𝜙(z^{(i)}))\\frac{∂}{∂w_j}(y^{(i)}-𝜙(z^{(i)}))$\n",
    "\n",
    "&nbsp;&nbsp;&nbsp;&nbsp;&nbsp;&nbsp;$= \\sum_{i}(y^{(i)}-𝜙(z^{(i)}))\\frac{∂}{∂w_j}(y^{(i)}-\\sum_{i}(w_j^{(i)}x_j^{(i)}))$\n",
    "\n",
    "&nbsp;&nbsp;&nbsp;&nbsp;&nbsp;&nbsp;$= \\sum_{i}(y^{(i)}-𝜙(z^{(i)}))(-x_j^{(i)})$\n",
    "\n",
    "&nbsp;&nbsp;&nbsp;&nbsp;&nbsp;&nbsp;$= -\\sum_{i}(y^{(i)}-𝜙(z^{(i)}))x_j^{(i)}$"
   ]
  },
  {
   "cell_type": "markdown",
   "metadata": {},
   "source": [
    "## Implementación del Adaline (Adaptive linear neuron) en Python"
   ]
  },
  {
   "cell_type": "code",
   "execution_count": 7,
   "metadata": {},
   "outputs": [],
   "source": [
    "class AdalineGD(object):\n",
    "    ''' Clasificador ADAptive LInear NEuron\n",
    "    \n",
    "    Parámetros\n",
    "    ----------\n",
    "    eta : float\n",
    "      Taza de aprendizaje (entre 0.0 y 1.0)\n",
    "    num_iteraciones : int\n",
    "      Pasadas sobre el conjunto de datos de entrenamiento\n",
    "    random_state : int\n",
    "      Semilla para el generador de números aleatorios, para\n",
    "      la inicialización de los pesos\n",
    "      \n",
    "    Atributos\n",
    "    ---------\n",
    "    w_ : arreglo de 1D\n",
    "      Pesos después del entrenamiento\n",
    "    \n",
    "    '''\n",
    "    \n",
    "    def __init__(self, eta=0.01, num_iteraciones=50):\n",
    "        self.eta = eta\n",
    "        self.num_iteraciones = num_iteraciones\n",
    "\n",
    "    def fit(self, X, y):\n",
    "        ''' Ajustar la data de entrenamiento\n",
    "        \n",
    "        Parámetros\n",
    "        ----------\n",
    "        X : arreglo, forma = [n_ejemplos, n_atributos]\n",
    "          Vectores de entrenamineto, donde n_ejemplos es el números\n",
    "          de ejemplos y n_atributos es el números de atributos\n",
    "        y : arreglo, forma = [n_ejemplos]\n",
    "          Valores objetivo\n",
    "          \n",
    "        Retorna\n",
    "        -------\n",
    "        self : objeto\n",
    "            \n",
    "        ''' \n",
    "        self.w_ = np.zeros(1 + X.shape[1])\n",
    "        self.coste_ = []\n",
    "\n",
    "        for i in range(self.num_iteraciones):\n",
    "            entrada = self.entrada(X)\n",
    "            # En este caso el método \"activacion\" no hace nada\n",
    "            # en el código ya que es la función de identidad. Se\n",
    "            # podría escribir `salida = self.entrada(X)` directamente.\n",
    "            # El proposito de la activation es conceptual, por lo que, \n",
    "            # en el caso de regresión logistica, se puede cambiar por \n",
    "            # una función sigmoid para implementar un clasificador de regresión logistica.\n",
    "            salida = self.activacion(X)\n",
    "            errores = (y - salida)\n",
    "            self.w_[1:] += self.eta * X.T.dot(errores)\n",
    "            self.w_[0] += self.eta * errores.sum()\n",
    "            coste = (errores**2).sum() / 2.0\n",
    "            self.coste_.append(coste)\n",
    "        return self\n",
    "\n",
    "    def entrada(self, X):\n",
    "        #Calcular la entrada\n",
    "        return np.dot(X, self.w_[1:]) + self.w_[0]\n",
    "\n",
    "    def activacion(self, X):\n",
    "        #Calcular la activación lineal\n",
    "        return self.entrada(X)\n",
    "\n",
    "    def predict(self, X):\n",
    "        # Retornar la etiqueta de la clase\n",
    "        return np.where(self.activacion(X) >= 0.0, 1, -1)"
   ]
  },
  {
   "cell_type": "markdown",
   "metadata": {},
   "source": [
    "## Influencia de la tasa de aprendizaje en la convergencia"
   ]
  },
  {
   "cell_type": "code",
   "execution_count": 8,
   "metadata": {},
   "outputs": [
    {
     "data": {
      "image/png": "[encoded data removed]",
      "text/plain": [
       "<Figure size 576x288 with 2 Axes>"
      ]
     },
     "metadata": {
      "needs_background": "light"
     },
     "output_type": "display_data"
    }
   ],
   "source": [
    "fig, ax = plt.subplots(nrows=1, ncols=2, figsize=(8, 4))\n",
    "\n",
    "ada1 = AdalineGD(num_iteraciones=300, eta=0.0001).fit(X, y)\n",
    "ax[0].plot(range(1, len(ada1.coste_) + 1), ada1.coste_, marker='o')\n",
    "ax[0].set_xlabel('Epocas')\n",
    "ax[0].set_ylabel('Suma-Cuadrados-Errores')\n",
    "ax[0].set_title('Adaline - Tasa de aprendizaje 0.0001')\n",
    "\n",
    "ada2 = AdalineGD(num_iteraciones=10, eta=0.01).fit(X, y)\n",
    "ax[1].plot(range(1, len(ada2.coste_) + 1), np.log(ada2.coste_), marker='o')\n",
    "ax[1].set_xlabel('Epocas')\n",
    "ax[1].set_ylabel('log(Suma-Cuadrados-Errores)')\n",
    "ax[1].set_title('Adaline - Tasa de aprendizaje 0.01')\n",
    "\n",
    "plt.tight_layout()\n",
    "plt.show()"
   ]
  },
  {
   "cell_type": "markdown",
   "metadata": {},
   "source": [
    "Si la tasa de aprendizaje es demasiado alta, el algoritmo de descenso del gradiente puede que no converja.\n",
    "Si la tasa de aprendizaje es demasiado baja, el algoritmo de descenso del gradiente puede que tome muchas epocas para convergir."
   ]
  },
  {
   "cell_type": "markdown",
   "metadata": {},
   "source": [
    "<img src=\"../figuras/gradiente_convergencia.png\" width=\"75%\">"
   ]
  },
  {
   "cell_type": "markdown",
   "metadata": {},
   "source": [
    "## Normalización de los datos"
   ]
  },
  {
   "cell_type": "markdown",
   "metadata": {},
   "source": [
    "Para optimizar el rendimiento de muchos algoritmos de aprendizaje de maquina es necesario realizar un escalamiento de los atributos. Descenso del gradiente es uno de los algoritmos que se benefician del escalamiento de los atributos. Uno de los metodos de escalamiento es la normalización, que le da a los datos la propiedad de una distribución normal. Donde la media de cada atributo se centra en 0 y la desviación estándar es 1. Usando para cada atributo _j_, la siguiente formula:\n",
    "\n",
    "&nbsp;&nbsp;&nbsp;&nbsp;&nbsp;&nbsp;$x_{j}^{'} = \\frac{x_{j} - 𝜇_{j}}{σ_{j}}$"
   ]
  },
  {
   "cell_type": "code",
   "execution_count": 9,
   "metadata": {},
   "outputs": [],
   "source": [
    "# normalizar los atributos\n",
    "X_std = np.copy(X)\n",
    "X_std[:, 0] = (X[:, 0] - X[:, 0].mean()) / X[:, 0].std()\n",
    "X_std[:, 1] = (X[:, 1] - X[:, 1].mean()) / X[:, 1].std()"
   ]
  },
  {
   "cell_type": "markdown",
   "metadata": {},
   "source": [
    "Entrenar de nuevo el Adaline con una tasa de aprendizaje η = 0.01:"
   ]
  },
  {
   "cell_type": "code",
   "execution_count": 10,
   "metadata": {},
   "outputs": [
    {
     "data": {
      "image/png": "[encoded data removed]",
      "text/plain": [
       "<Figure size 432x288 with 1 Axes>"
      ]
     },
     "metadata": {
      "needs_background": "light"
     },
     "output_type": "display_data"
    },
    {
     "data": {
      "image/png": "[encoded data removed]",
      "text/plain": [
       "<Figure size 432x288 with 1 Axes>"
      ]
     },
     "metadata": {
      "needs_background": "light"
     },
     "output_type": "display_data"
    }
   ],
   "source": [
    "ada = AdalineGD(num_iteraciones=15, eta=0.01)\n",
    "ada.fit(X_std, y)\n",
    "\n",
    "graficar_regiones_decision(X_std, y, clasificador=ada)\n",
    "plt.title('Adaline - Descenso de Gradiente')\n",
    "plt.xlabel('largo sepalo [normalizado]')\n",
    "plt.ylabel('largo petalo [normalizado]')\n",
    "plt.legend(loc='upper left')\n",
    "plt.tight_layout()\n",
    "plt.show()\n",
    "\n",
    "plt.plot(range(1, len(ada.coste_) + 1), ada.coste_, marker='o')\n",
    "plt.xlabel('Epocas')\n",
    "plt.ylabel('Suma-Cuadrados-Errores')\n",
    "\n",
    "plt.tight_layout()\n",
    "plt.show()"
   ]
  },
  {
   "cell_type": "markdown",
   "metadata": {},
   "source": [
    "## Descenso del gradiente estocástico para el aprendizaje automático a gran escala"
   ]
  },
  {
   "cell_type": "markdown",
   "metadata": {},
   "source": [
    "En este método de minimización de una función de coste dando un paso en la dirección opuesta al gradiente, es necesario usar para su calculo todo el conjunto de entrenamiento. Es por esta razón que este enfoque a veces también se conoce como descenso del gradiente por lotes. En el caso que se tenga un conjunto de datos muy grande con millones de datos, lo que no es infrecuente en muchas aplicaciones de aprendizaje automático. La ejecución del descenso del gradiente por lote puede ser computacionalmente bastante costoso en tales escenarios, ya que se necesita reevaluar todo el conjunto de datos de entrenamiento cada vez que damos un paso hacia el mínimo global.\n",
    "\n",
    "Una alternativa muy popular al descenso del gradiente por lote es el descenso del gradiente estocástico, tambien llamdo descenso del gradiente iterativo o en-linea. En vez de actualizar los pesos basado en la suma de los errores acumulados sobre todas las muestras $x^{(i)}:\n",
    "\n",
    "&nbsp;&nbsp;&nbsp;&nbsp;&nbsp;&nbsp;$∆w_{j} = η\\sum_{i}(y^{(i)}-𝜙(z^{(i)}))x_{j}^{(i)}$,\n",
    "\n",
    "Se actualizan los pesos incrementalmente para cada ejemplo de entrenamiento:\n",
    "\n",
    "&nbsp;&nbsp;&nbsp;&nbsp;&nbsp;&nbsp;$η(y^{(i)}-𝜙(z^{(i)}))x_{j}^{(i)}$\n",
    "\n",
    "Aunque el descenso del gradiente estocástico puede considerarse como una aproximación del descenso del gradiente, alcanza típicamente la convergencia mucho más rápidamente debido a las actualizaciones más frecuentes de los pesos. Puesto que cada gradiente se calcula sobre la base de un solo ejemplo de entrenamiento, la superficie de error es más ruidosa que en el descenso del gradiente, lo que también puede tener la ventaja de que el descenso del gradiente estocástico puede escapar de los mínimos locales superficiales más fácilmente. Para obtener resultados precisos a través del descenso del gradiente estocástico, es importante presentarlos con datos en un orden aleatorio, por lo que se revuelve el conjunto de entrenamiento para cada época para prevenir ciclos."
   ]
  },
  {
   "cell_type": "markdown",
   "metadata": {},
   "source": [
    "## Implementación del descenso de gradiente estocástico"
   ]
  },
  {
   "cell_type": "code",
   "execution_count": 11,
   "metadata": {},
   "outputs": [],
   "source": [
    "from numpy.random import seed\n",
    "\n",
    "class AdalineDGE(object):\n",
    "    ''' Clasificador ADAptive LInear NEuron\n",
    "    \n",
    "    Parámetros\n",
    "    ----------\n",
    "    eta : float\n",
    "      Taza de aprendizaje (entre 0.0 y 1.0)\n",
    "    num_iteraciones : int\n",
    "      Pasadas sobre el conjunto de datos de entrenamiento\n",
    "    barajar : bool (por defecto: True)\n",
    "        Barajar la data de entrenamiento por cada epoca si es True\n",
    "        para prevenir ciclos\n",
    "    random_state : int\n",
    "      Semilla para el generador de números aleatorios, para\n",
    "      la inicialización de los pesos\n",
    "      \n",
    "    Atributos\n",
    "    ---------\n",
    "    w_ : arreglo de 1D\n",
    "      Pesos después del entrenamiento\n",
    "    \n",
    "    '''\n",
    "    \n",
    "    def __init__(self, eta=0.01, num_iteraciones=10, barajar=True, semilla=None):\n",
    "        self.eta = eta\n",
    "        self.num_iteraciones = num_iteraciones\n",
    "        self.w_initializado = False\n",
    "        self.barajar = barajar\n",
    "        if semilla:\n",
    "            seed(semilla)\n",
    "        \n",
    "    def fit(self, X, y):\n",
    "        ''' Ajustar la data de entrenamiento\n",
    "        \n",
    "        Parámetros\n",
    "        ----------\n",
    "        X : arreglo, forma = [n_ejemplos, n_atributos]\n",
    "          Vectores de entrenamineto, donde n_ejemplos es el números\n",
    "          de ejemplos y n_atributos es el números de atributos\n",
    "        y : arreglo, forma = [n_ejemplos]\n",
    "          Valores objetivo\n",
    "          \n",
    "        Retorna\n",
    "        -------\n",
    "        self : objeto\n",
    "            \n",
    "        '''\n",
    "        self._inicializar_pesos(X.shape[1])\n",
    "        self.coste_ = []\n",
    "        for i in range(self.num_iteraciones):\n",
    "            if self.barajar:\n",
    "                X, y = self._barajar(X, y)\n",
    "            coste = []\n",
    "            for xi, objetivo in zip(X, y):\n",
    "                coste.append(self._actualizar_pesos(xi, objetivo))\n",
    "            coste_promedio = sum(coste) / len(y)\n",
    "            self.coste_.append(coste_promedio)\n",
    "        return self\n",
    "\n",
    "    def ajuste_parcial(self, X, y):\n",
    "        # Ajustar los datos de entrenamiento sin reinicializar los pesos\n",
    "        if not self.w_initializado:\n",
    "            self._inicializar_pesos(X.shape[1])\n",
    "        if y.ravel().shape[0] > 1:\n",
    "            for xi, objtivo in zip(X, y):\n",
    "                self._actualizar_pesos(xi, objetivo)\n",
    "        else:\n",
    "            self._actualizar_pesos(X, y)\n",
    "        return self\n",
    "\n",
    "    def _barajar(self, X, y):\n",
    "        # Barajar los datos de entrenamiento\n",
    "        r = np.random.permutation(len(y))\n",
    "        return X[r], y[r]\n",
    "    \n",
    "    def _inicializar_pesos(self, m):\n",
    "        # Inicializar los pesos a valores aleatorios pequeños\n",
    "        self.w_ = np.zeros(1 + m)\n",
    "        self.w_initializado = True\n",
    "        \n",
    "    def _actualizar_pesos(self, xi, objetivo):\n",
    "        # Aplicar la regla de aprendizaje Adaline para actualizar los pesos\n",
    "        salida = self.entrada(xi)\n",
    "        error = (objetivo - salida)\n",
    "        self.w_[1:] += self.eta * xi.dot(error)\n",
    "        self.w_[0] += self.eta * error\n",
    "        coste = 0.5 * error**2\n",
    "        return coste\n",
    "    \n",
    "    def entrada(self, X):\n",
    "        # Calcular la entrada\n",
    "        return np.dot(X, self.w_[1:]) + self.w_[0]\n",
    "\n",
    "    def activacion(self, X):\n",
    "        # Calcular la activación lineal\n",
    "        return self.entrada(X)\n",
    "\n",
    "    def predict(self, X):\n",
    "        # Retornar la etiqueta de la clase \n",
    "        return np.where(self.activacion(X) >= 0.0, 1, -1)"
   ]
  },
  {
   "cell_type": "code",
   "execution_count": 12,
   "metadata": {},
   "outputs": [
    {
     "data": {
      "image/png": "[encoded data removed]",
      "text/plain": [
       "<Figure size 432x288 with 1 Axes>"
      ]
     },
     "metadata": {
      "needs_background": "light"
     },
     "output_type": "display_data"
    },
    {
     "data": {
      "image/png": "[encoded data removed]",
      "text/plain": [
       "<Figure size 432x288 with 1 Axes>"
      ]
     },
     "metadata": {
      "needs_background": "light"
     },
     "output_type": "display_data"
    }
   ],
   "source": [
    "ada = AdalineDGE(num_iteraciones=15, eta=0.01, semilla=1)\n",
    "ada.fit(X_std, y)\n",
    "\n",
    "graficar_regiones_decision(X_std, y, clasificador=ada)\n",
    "plt.title('Adaline - Descenso Gradiente Estocástico')\n",
    "plt.xlabel('largo sepalo [normalizado]')\n",
    "plt.ylabel('largo petalo [normalizado]')\n",
    "plt.legend(loc='upper left')\n",
    "\n",
    "plt.tight_layout()\n",
    "plt.show()\n",
    "\n",
    "plt.plot(range(1, len(ada.coste_) + 1), ada.coste_, marker='o')\n",
    "plt.xlabel('Epocas')\n",
    "plt.ylabel('Perdida Promedio')\n",
    "\n",
    "plt.tight_layout()\n",
    "plt.show()"
   ]
  },
  {
   "cell_type": "markdown",
   "metadata": {},
   "source": [
    "Como podemos ver, el costo promedio disminuye bastante rápido, y el límite de decisión final después de 15 épocas parece similar al descenso de gradiente por lotes con Adaline. Si queremos actualizar nuestro modelo, por ejemplo, en un escenario de aprendizaje en línea con flujo de datos, podríamos simplemente llamar al método partial_fit en muestras individuales, por ejemplo, \n",
    "`ada.partial_fit(X_std[0, :], y[0])`"
   ]
  },
  {
   "cell_type": "markdown",
   "metadata": {},
   "source": [
    "## Entrenando un Perceptrón usando scikit-learn"
   ]
  },
  {
   "cell_type": "markdown",
   "metadata": {},
   "source": [
    "Usando dos de los atributos del conjunto de datos Iris entrenar un Perceptron. "
   ]
  },
  {
   "cell_type": "code",
   "execution_count": 13,
   "metadata": {},
   "outputs": [],
   "source": [
    "# Importar el conjunto de datos Iris\n",
    "from sklearn import datasets\n",
    "import numpy as np\n",
    "iris = datasets.load_iris()\n",
    "# Seleccionar los atributos largo del petalo y ancho del petalo\n",
    "X = iris.data[0:100, [0,2]]\n",
    "y = iris.target[0:100]"
   ]
  },
  {
   "cell_type": "markdown",
   "metadata": {},
   "source": [
    "Crear el conjunto de entrenamiento y el conjunto de prueba (70% entrenamiento y 30% prueba):"
   ]
  },
  {
   "cell_type": "code",
   "execution_count": 14,
   "metadata": {},
   "outputs": [],
   "source": [
    "from sklearn.model_selection import train_test_split\n",
    "X_entrenamiento, X_prueba, y_entrenamiento, y_prueba = train_test_split(X, y, test_size=0.3, random_state=0)"
   ]
  },
  {
   "cell_type": "markdown",
   "metadata": {},
   "source": [
    "Normalizar los datos para tener un mejor rendimiento del algoritmo"
   ]
  },
  {
   "cell_type": "code",
   "execution_count": 15,
   "metadata": {},
   "outputs": [],
   "source": [
    "from sklearn.preprocessing import StandardScaler\n",
    "sc = StandardScaler()\n",
    "sc.fit(X_entrenamiento)\n",
    "X_entrenamiento_normalizado = sc.transform(X_entrenamiento)\n",
    "X_prueba_normalizado = sc.transform(X_prueba)"
   ]
  },
  {
   "cell_type": "markdown",
   "metadata": {},
   "source": [
    "Entrenar un Perceptrón usando los datos de entrenamiento normalizados"
   ]
  },
  {
   "cell_type": "code",
   "execution_count": 16,
   "metadata": {},
   "outputs": [
    {
     "data": {
      "text/html": [
       "<style>#sk-container-id-1 {color: black;background-color: white;}#sk-container-id-1 pre{padding: 0;}#sk-container-id-1 div.sk-toggleable {background-color: white;}#sk-container-id-1 label.sk-toggleable__label {cursor: pointer;display: block;width: 100%;margin-bottom: 0;padding: 0.3em;box-sizing: border-box;text-align: center;}#sk-container-id-1 label.sk-toggleable__label-arrow:before {content: \"▸\";float: left;margin-right: 0.25em;color: #696969;}#sk-container-id-1 label.sk-toggleable__label-arrow:hover:before {color: black;}#sk-container-id-1 div.sk-estimator:hover label.sk-toggleable__label-arrow:before {color: black;}#sk-container-id-1 div.sk-toggleable__content {max-height: 0;max-width: 0;overflow: hidden;text-align: left;background-color: #f0f8ff;}#sk-container-id-1 div.sk-toggleable__content pre {margin: 0.2em;color: black;border-radius: 0.25em;background-color: #f0f8ff;}#sk-container-id-1 input.sk-toggleable__control:checked~div.sk-toggleable__content {max-height: 200px;max-width: 100%;overflow: auto;}#sk-container-id-1 input.sk-toggleable__control:checked~label.sk-toggleable__label-arrow:before {content: \"▾\";}#sk-container-id-1 div.sk-estimator input.sk-toggleable__control:checked~label.sk-toggleable__label {background-color: #d4ebff;}#sk-container-id-1 div.sk-label input.sk-toggleable__control:checked~label.sk-toggleable__label {background-color: #d4ebff;}#sk-container-id-1 input.sk-hidden--visually {border: 0;clip: rect(1px 1px 1px 1px);clip: rect(1px, 1px, 1px, 1px);height: 1px;margin: -1px;overflow: hidden;padding: 0;position: absolute;width: 1px;}#sk-container-id-1 div.sk-estimator {font-family: monospace;background-color: #f0f8ff;border: 1px dotted black;border-radius: 0.25em;box-sizing: border-box;margin-bottom: 0.5em;}#sk-container-id-1 div.sk-estimator:hover {background-color: #d4ebff;}#sk-container-id-1 div.sk-parallel-item::after {content: \"\";width: 100%;border-bottom: 1px solid gray;flex-grow: 1;}#sk-container-id-1 div.sk-label:hover label.sk-toggleable__label {background-color: #d4ebff;}#sk-container-id-1 div.sk-serial::before {content: \"\";position: absolute;border-left: 1px solid gray;box-sizing: border-box;top: 0;bottom: 0;left: 50%;z-index: 0;}#sk-container-id-1 div.sk-serial {display: flex;flex-direction: column;align-items: center;background-color: white;padding-right: 0.2em;padding-left: 0.2em;position: relative;}#sk-container-id-1 div.sk-item {position: relative;z-index: 1;}#sk-container-id-1 div.sk-parallel {display: flex;align-items: stretch;justify-content: center;background-color: white;position: relative;}#sk-container-id-1 div.sk-item::before, #sk-container-id-1 div.sk-parallel-item::before {content: \"\";position: absolute;border-left: 1px solid gray;box-sizing: border-box;top: 0;bottom: 0;left: 50%;z-index: -1;}#sk-container-id-1 div.sk-parallel-item {display: flex;flex-direction: column;z-index: 1;position: relative;background-color: white;}#sk-container-id-1 div.sk-parallel-item:first-child::after {align-self: flex-end;width: 50%;}#sk-container-id-1 div.sk-parallel-item:last-child::after {align-self: flex-start;width: 50%;}#sk-container-id-1 div.sk-parallel-item:only-child::after {width: 0;}#sk-container-id-1 div.sk-dashed-wrapped {border: 1px dashed gray;margin: 0 0.4em 0.5em 0.4em;box-sizing: border-box;padding-bottom: 0.4em;background-color: white;}#sk-container-id-1 div.sk-label label {font-family: monospace;font-weight: bold;display: inline-block;line-height: 1.2em;}#sk-container-id-1 div.sk-label-container {text-align: center;}#sk-container-id-1 div.sk-container {/* jupyter's `normalize.less` sets `[hidden] { display: none; }` but bootstrap.min.css set `[hidden] { display: none !important; }` so we also need the `!important` here to be able to override the default hidden behavior on the sphinx rendered scikit-learn.org. See: https://github.com/scikit-learn/scikit-learn/issues/21755 */display: inline-block !important;position: relative;}#sk-container-id-1 div.sk-text-repr-fallback {display: none;}</style><div id=\"sk-container-id-1\" class=\"sk-top-container\"><div class=\"sk-text-repr-fallback\"><pre>Perceptron(eta0=0.1, max_iter=40)</pre><b>In a Jupyter environment, please rerun this cell to show the HTML representation or trust the notebook. <br />On GitHub, the HTML representation is unable to render, please try loading this page with nbviewer.org.</b></div><div class=\"sk-container\" hidden><div class=\"sk-item\"><div class=\"sk-estimator sk-toggleable\"><input class=\"sk-toggleable__control sk-hidden--visually\" id=\"sk-estimator-id-1\" type=\"checkbox\" checked><label for=\"sk-estimator-id-1\" class=\"sk-toggleable__label sk-toggleable__label-arrow\">Perceptron</label><div class=\"sk-toggleable__content\"><pre>Perceptron(eta0=0.1, max_iter=40)</pre></div></div></div></div></div>"
      ],
      "text/plain": [
       "Perceptron(eta0=0.1, max_iter=40)"
      ]
     },
     "execution_count": 16,
     "metadata": {},
     "output_type": "execute_result"
    }
   ],
   "source": [
    "from sklearn.linear_model import Perceptron\n",
    "perceptron = Perceptron(max_iter=40, eta0=0.1, random_state=0)\n",
    "perceptron.fit(X_entrenamiento_normalizado, y_entrenamiento)"
   ]
  },
  {
   "cell_type": "markdown",
   "metadata": {},
   "source": [
    "Aplicar el modelo del Perceptrón entrenado para predecir las clases del conjunto de prueba:"
   ]
  },
  {
   "cell_type": "code",
   "execution_count": 17,
   "metadata": {},
   "outputs": [
    {
     "name": "stdout",
     "output_type": "stream",
     "text": [
      "Ejemplos clasificados erroneamente: 0\n"
     ]
    }
   ],
   "source": [
    "y_prediccion  = perceptron.predict(X_prueba_normalizado)\n",
    "print('Ejemplos clasificados erroneamente: %d' % (y_prediccion != y_prueba).sum())"
   ]
  },
  {
   "cell_type": "markdown",
   "metadata": {},
   "source": [
    "Usar la métrica de rendimiento `accuracy_score` de sklearn para calcular la precisión del Perceptrón:"
   ]
  },
  {
   "cell_type": "code",
   "execution_count": 18,
   "metadata": {},
   "outputs": [
    {
     "name": "stdout",
     "output_type": "stream",
     "text": [
      "Precisión: 1.00\n"
     ]
    }
   ],
   "source": [
    "from sklearn.metrics import accuracy_score\n",
    "print('Precisión: %.2f' % accuracy_score(y_prueba, y_prediccion))"
   ]
  },
  {
   "cell_type": "markdown",
   "metadata": {},
   "source": [
    "Usando una versión modificada de la función `graficar_regiones_decision` visualizar las regiones de decisión:"
   ]
  },
  {
   "cell_type": "markdown",
   "metadata": {},
   "source": [
    "Con esta ligera modificación de la función `graficar_regiones_decision_2`, ahora se puede especificar los índices de los ejemplos que queremos marcar en las gráficas resultantes."
   ]
  },
  {
   "cell_type": "code",
   "execution_count": 19,
   "metadata": {},
   "outputs": [
    {
     "data": {
      "text/plain": [
       "<function matplotlib.pyplot.show(close=None, block=None)>"
      ]
     },
     "execution_count": 19,
     "metadata": {},
     "output_type": "execute_result"
    },
    {
     "data": {
      "image/png": "[encoded data removed]",
      "text/plain": [
       "<Figure size 432x288 with 1 Axes>"
      ]
     },
     "metadata": {
      "needs_background": "light"
     },
     "output_type": "display_data"
    }
   ],
   "source": [
    "X_combinado = np.vstack((X_entrenamiento_normalizado, X_prueba_normalizado))\n",
    "y_combinado = np.hstack((y_entrenamiento, y_prueba))\n",
    "graficar_regiones_decision(X=X_combinado,\n",
    "                            y=y_combinado,\n",
    "                            clasificador=perceptron)\n",
    "plt.xlabel('largo petalo [normalizado]')\n",
    "plt.ylabel('ancho petalo [normalizado]')\n",
    "plt.legend(loc='upper left')\n",
    "plt.show"
   ]
  },
  {
   "cell_type": "code",
   "execution_count": null,
   "metadata": {
    "jupyter": {
     "outputs_hidden": true
    }
   },
   "outputs": [],
   "source": []
  }
 ],
 "metadata": {
  "anaconda-cloud": {},
  "kernelspec": {
   "display_name": "Python 3 (ipykernel)",
   "language": "python",
   "name": "python3"
  },
  "language_info": {
   "codemirror_mode": {
    "name": "ipython",
    "version": 3
   },
   "file_extension": ".py",
   "mimetype": "text/x-python",
   "name": "python",
   "nbconvert_exporter": "python",
   "pygments_lexer": "ipython3",
   "version": "3.8.13"
  }
 },
 "nbformat": 4,
 "nbformat_minor": 4
}
