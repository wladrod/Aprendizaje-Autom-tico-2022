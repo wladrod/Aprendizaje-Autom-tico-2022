{
 "cells": [
  {
   "cell_type": "markdown",
   "metadata": {},
   "source": [
    "<center>\n",
    "    <h1>Introducción a Pandas</h1>\n",
    "    <br/>\n",
    "    <img src='../figuras/pandas.svg'/>\n",
    "    </center>"
   ]
  },
  {
   "cell_type": "markdown",
   "metadata": {},
   "source": [
    "Definitivamente es el sinónimo de \"Python para el análisis de datos\".\n",
    "\n",
    "[Pandas](https://pandas.pydata.org/index.html) es una poderosa librería de Python de análisis de datos que se construye encima de numpy que es otra librería que le permite crear arreglos de datos 2d e incluso 3d en Python. El objeto principal de pandas se llama un `DataFrame`. Un `DataFrame` es básicamente una matriz numpy de 2d con filas y columnas, que también tiene etiquetas para columnas y filas.\n",
    "\n",
    "Pandas ofrece las siguientes estructuras de datos:\n",
    "\n",
    "*Series*: Son arrays unidimensionales con indexación (arrays con índice o etiquetados), similar a los diccionarios. Pueden generarse a partir de diccionarios o de listas.\n",
    " \n",
    "*DataFrame*: Son estructuras de datos similares a las tablas de bases de datos relacionales como SQL.\n",
    "\n",
    "Puede crear `DataFrames` de varios formatos de datos de entrada, como CSV, JSON, diccionarios Python, etc. Una vez que haya cargado el marco de datos en Python, puede aplicar varias funciones de análisis y visualización de datos al `DataFrame` y convertir básicamente los datos del `DataFrame` en información valiosa."
   ]
  },
  {
   "cell_type": "markdown",
   "metadata": {},
   "source": [
    "El primer ejemplo que vamos a poner va a ser el de definir una estructura de datos \"Series\" que como ya comentamos es un array de datos unidimensional con idexación. Las \"Series\" se definen de la siguiente manera:\n",
    "\n",
    "    serie = pd.Series(data, index=index)"
   ]
  },
  {
   "cell_type": "markdown",
   "metadata": {},
   "source": [
    "Es decir, que en el primer parámetro le indicamos los datos del array y en el segundo parámetro los índices. Veamos un ejemplo de como crear una estructura \"Series\" con los integrantes de la selección Española de fútbol que ganó el mudial del año 2010, en el que tenemos como 'data' sus nombres y como índice su dorsal:"
   ]
  },
  {
   "cell_type": "code",
   "execution_count": null,
   "metadata": {},
   "outputs": [],
   "source": [
    "import pandas as pd\n",
    "import matplotlib.pyplot as plt"
   ]
  },
  {
   "cell_type": "code",
   "execution_count": null,
   "metadata": {},
   "outputs": [],
   "source": [
    "seleccionEspaña = pd.Series(\n",
    "    ['Casillas', 'Ramos', 'Pique', 'Puyol', 'Capdevila', 'Xabi Alonso', 'Busquets', 'Xavi Hernandez', 'Pedrito',\n",
    "     'Iniesta', 'Villa'], index=[1, 15, 3, 5, 11, 14, 16, 8, 18, 6, 7])\n",
    "print (\"Jugadores de la Selección Española: \\n%s\" % seleccionEspaña)"
   ]
  },
  {
   "cell_type": "markdown",
   "metadata": {},
   "source": [
    "En el siguiente caso; en el que no le indiquemos los índices de forma explícita, no generará los índices de forma automática empezando desde el valor cero: "
   ]
  },
  {
   "cell_type": "code",
   "execution_count": null,
   "metadata": {},
   "outputs": [],
   "source": [
    "seleccionEspaña = pd.Series(\n",
    "    ['Casillas', 'Ramos', 'Pique', 'Puyol', 'Capdevila', 'Xabi Alonso', 'Busquets', 'Xavi Hernandez', 'Pedrito',\n",
    "     'Iniesta', 'Villa'])\n",
    "print (\"Jugadores de la Selección Española: \\n%s\" % seleccionEspaña)"
   ]
  },
  {
   "cell_type": "markdown",
   "metadata": {},
   "source": [
    "También podemos crearnos una estructura de datos \"Series\" a partir de una lista o de un diccionario. Si la construimos a partir de una lista nos pondrá los índices por defecto y si lo creamos a partir de un diccionario, pondrá como índices las claves. Vamos a ver a continuación un ejemplo de como crear una Serie a partir de un diccionario y además vamos a ver como insertar en esta serie un nuevo elemento:"
   ]
  },
  {
   "cell_type": "code",
   "execution_count": null,
   "metadata": {},
   "outputs": [],
   "source": [
    "dictJugadores = {1: 'Casillas', 15: 'Ramos', 3: 'Pique', 5: 'Puyol', 11: 'Capdevila', 14: 'Xabi Alonso',\n",
    "               16: 'Busquets', 8: 'Xavi Hernandez', 18: 'Pedrito', 6: 'Iniesta', 7: 'Villa'}\n",
    "jugadores = pd.Series(dictJugadores)\n",
    "# Insertar un nuevo jugador\n",
    "jugadores[10] = 'Cesc'\n",
    "print (\"Jugadores de la Selección de Futbol Española: \\n\\n%s\" % jugadores)"
   ]
  },
  {
   "cell_type": "markdown",
   "metadata": {},
   "source": [
    "Vamos a pasar a continuación a ver un ejemplo con la estructura de datos `DataFrame`. Como ya se ha comentado es una estructura de datos similar a una tabla de una base de datos relacionar, una tabla de excel, etc. y como tal se pueden hacer muchas operaciones como las que se harían con consultas a tablas de bases de datos o en excel.\n",
    "\n",
    "Para construir un `DataFrame` se puede hacer de diferentes formas, como por ejemplo a partir de una lista, de un diccionario, de una Serie, de otro `DataFrame`, leyendo una tabla excel, csv, etc. Vamos a ver a continuación como construiríamos un `DataFrame` con datos de los integrantes de la selección Española de Fútbol:"
   ]
  },
  {
   "cell_type": "code",
   "execution_count": null,
   "metadata": {},
   "outputs": [],
   "source": [
    "selecciónEspañola = pd.DataFrame(\n",
    "    {\n",
    "        'nombre': ['Casillas', 'Ramos', 'Pique', 'Puyol', 'Capdevila', 'Xabi Alonso', 'Busquets', 'Xavi Hernandez',\n",
    "                 'Pedrito', 'Iniesta', 'Villa'],\n",
    "        'posición': ['Portero', 'Lateral Derecho', 'Defensa central', 'Defensa central', 'Lateral Izquierdo', 'Mediocampista defensivo',\n",
    "                        'Mediocampista defensivo', 'Mediocampista', 'Extremo izquierdo', 'Extremo derecho', 'Delantero central'],\n",
    "        'equipo': ['Real Madrid', 'Real Madrid', 'FC Barcelona', 'FC Barcelona', 'Villareal', 'Real Madrid',\n",
    "                 'FC Barcelona', 'FC Barcelona', 'FC Barcelona', 'FC Barcelona', 'FC Barcelona']\n",
    "    }, columns=['nombre', 'posición', 'equipo'], index=[1, 15, 3, 5, 11, 14, 16, 8, 18, 6, 7]\n",
    ")\n",
    "selecciónEspañola"
   ]
  },
  {
   "cell_type": "markdown",
   "metadata": {},
   "source": [
    " Como resultado tenemos una estructura de dato similar a la de una tabla de una base de datos relacional o de un documento excel o csv. Con esta estructura de datos se pueden hacer muchas operaciones como las que haríamos en una base de datos o en un documento excel.\n",
    "\n",
    "Por último vamos a ver como insertar un nuevo elemento en este `DataFrame`, que lo haríamos de la siguiente manera con el método `loc()`: "
   ]
  },
  {
   "cell_type": "code",
   "execution_count": null,
   "metadata": {},
   "outputs": [],
   "source": [
    "# Insertar un nuevo jugador\n",
    "selecciónEspañola.loc[10] = ['Cesc', 'Delantero', 'Arsenal']\n",
    "selecciónEspañola"
   ]
  },
  {
   "cell_type": "markdown",
   "metadata": {},
   "source": [
    "## Crear un `DataFrame` desde un archivo `.csv`"
   ]
  },
  {
   "cell_type": "code",
   "execution_count": null,
   "metadata": {},
   "outputs": [],
   "source": [
    "# Leer el archivo Income.csv y almacernarlo en un dataframe\n",
    "df1 = pd.read_csv(\"../datos/Income_data.csv\")\n",
    "print(df1)"
   ]
  },
  {
   "cell_type": "code",
   "execution_count": null,
   "metadata": {
    "scrolled": true
   },
   "outputs": [],
   "source": [
    "# Visualizar el dataframe\n",
    "df1.head()"
   ]
  },
  {
   "cell_type": "code",
   "execution_count": null,
   "metadata": {},
   "outputs": [],
   "source": [
    "df1.info()"
   ]
  },
  {
   "cell_type": "code",
   "execution_count": null,
   "metadata": {},
   "outputs": [],
   "source": [
    "df1.shape"
   ]
  },
  {
   "cell_type": "markdown",
   "metadata": {},
   "source": [
    "## Crear un `DataFrame` desde una  `url`"
   ]
  },
  {
   "cell_type": "code",
   "execution_count": null,
   "metadata": {
    "tags": []
   },
   "outputs": [],
   "source": [
    "# Leer un archivo desde internet\n",
    "df2 = pd.read_csv(\"https://github.com/owid/covid-19-data/raw/master/public/data/owid-covid-data.csv\")"
   ]
  },
  {
   "cell_type": "markdown",
   "metadata": {},
   "source": [
    "## Almacenar un `DataFrame` como un archivo `.csv`"
   ]
  },
  {
   "cell_type": "code",
   "execution_count": null,
   "metadata": {},
   "outputs": [],
   "source": [
    "df2.to_csv('../datos/covid-19.csv')"
   ]
  },
  {
   "cell_type": "code",
   "execution_count": null,
   "metadata": {},
   "outputs": [],
   "source": [
    "covid_19 = pd.read_csv('../datos/covid-19.csv')\n",
    "covid_19.head()"
   ]
  },
  {
   "cell_type": "code",
   "execution_count": null,
   "metadata": {},
   "outputs": [],
   "source": [
    "covid_19.info()"
   ]
  },
  {
   "cell_type": "code",
   "execution_count": null,
   "metadata": {},
   "outputs": [],
   "source": [
    "covid_19.shape"
   ]
  },
  {
   "cell_type": "markdown",
   "metadata": {},
   "source": [
    "Antes de extraer datos del dataframe, sería una buena práctica asignar una columna con valores únicos como el índice del dataframe. La columna `State` sería una buena opción:"
   ]
  },
  {
   "cell_type": "code",
   "execution_count": null,
   "metadata": {},
   "outputs": [],
   "source": [
    "df2 = df1.set_index('State')\n",
    "df2"
   ]
  },
  {
   "cell_type": "markdown",
   "metadata": {},
   "source": [
    "Ahora, vamos a extraer un subconjunto del dataframe. Aquí está la regla de sintaxis general para subconjunto de porciones de un dataframe:\n",
    "\n",
    "    df2.loc[startrow:endrow,startcolumn:endcolumn]"
   ]
  },
  {
   "cell_type": "markdown",
   "metadata": {},
   "source": [
    "Extraer los valores para las filas desde Alaska hasta Arkansas para los años 2005 a 2007:|"
   ]
  },
  {
   "cell_type": "code",
   "execution_count": null,
   "metadata": {},
   "outputs": [],
   "source": [
    "df2.loc[\"Alaska\":\"Arkansas\",\"2005\":\"2007\"]"
   ]
  },
  {
   "cell_type": "markdown",
   "metadata": {},
   "source": [
    "Extraer una columna:"
   ]
  },
  {
   "cell_type": "code",
   "execution_count": null,
   "metadata": {},
   "outputs": [],
   "source": [
    "df2.loc[: , \"2005\"]"
   ]
  },
  {
   "cell_type": "markdown",
   "metadata": {},
   "source": [
    "Tenga en cuenta que cuando extrae una sola fila o columna, obtiene un objeto unidimensional como salida. Eso se llama una Series en pandas. Los valores de la izquierda son sólo etiquetas tomadas del índice del dataframe. Por otro lado, cuando extrajimos porciones de un pandas dataframe como lo hicimos antes, obtuvimos un tipo bidimensional de objeto DataFrame.\n",
    "\n",
    "Por lo tanto, la fórmula para extraer una columna sigue siendo la misma, pero esta vez no pasamos ningún nombre de índice antes y después del primer colon. Eso le dice a Python que incluya todas las filas. Y pasamos sólo un nombre de columna.\n",
    "\n",
    "Para extraer sólo una fila se haría a la inversa:"
   ]
  },
  {
   "cell_type": "code",
   "execution_count": null,
   "metadata": {},
   "outputs": [],
   "source": [
    "df2.loc[\"California\", : ]"
   ]
  },
  {
   "cell_type": "markdown",
   "metadata": {},
   "source": [
    "Para extraer una celda:"
   ]
  },
  {
   "cell_type": "code",
   "execution_count": null,
   "metadata": {},
   "outputs": [],
   "source": [
    "df2.loc[\"California\",\"2013\"]"
   ]
  },
  {
   "cell_type": "markdown",
   "metadata": {},
   "source": [
    "Se pueden aplicar métodos a los subconjuntos. Por ejemplo la media de la columna 2005:"
   ]
  },
  {
   "cell_type": "code",
   "execution_count": null,
   "metadata": {},
   "outputs": [],
   "source": [
    "df2.loc[:,\"2005\"].mean()"
   ]
  },
  {
   "cell_type": "markdown",
   "metadata": {},
   "source": [
    "### Indexación basada en la posición\n",
    "\n",
    "A veces, no se tienen etiquetas de fila o columna. En tal caso usted tendrá que confiar en indexación basada en la posición, la cual que se implementa con `iloc` en lugar de `loc`"
   ]
  },
  {
   "cell_type": "code",
   "execution_count": null,
   "metadata": {},
   "outputs": [],
   "source": [
    "df2.iloc[0:3,0:4]"
   ]
  },
  {
   "cell_type": "markdown",
   "metadata": {},
   "source": [
    "Tenga en cuenta que cuando se utilizó indexación basada en etiquetas tanto el inicio y el final de las etiquetas se incluyeron en el subconjunto. Con el rebanado basado en posición, sólo se incluye el índice de inicio. Así, en este caso Alabama tenía un índice de 0, Alaska 1, y Arizona 2. Lo mismo ocurre con las columnas."
   ]
  },
  {
   "cell_type": "markdown",
   "metadata": {},
   "source": [
    "### Funciones de análisis de datos Pandas\n",
    "\n",
    "Veamos ahora qué métodos de análisis de datos podemos aplicar a los dataframes de pandas.\n",
    "\n",
    "Usted sabe que el dataframe es el principal objeto Pandas. Por lo tanto, si tiene algunos datos cargados en un dataframe, podría aplicar métodos para analizar esos datos. Por ejemplo, aquí es cómo se aplica el método `mean` al dataframe en el que hemos estado trabajando"
   ]
  },
  {
   "cell_type": "code",
   "execution_count": null,
   "metadata": {},
   "outputs": [],
   "source": [
    "df2.iloc[:,1:].mean()"
   ]
  },
  {
   "cell_type": "markdown",
   "metadata": {},
   "source": [
    "Puede obtener una lista de los métodos disponibles para los dataframe utilizando la función `dir` de Python:"
   ]
  },
  {
   "cell_type": "code",
   "execution_count": null,
   "metadata": {
    "scrolled": false
   },
   "outputs": [],
   "source": [
    "dir(pd.DataFrame)"
   ]
  },
  {
   "cell_type": "markdown",
   "metadata": {},
   "source": [
    "Y puede obtener la descripción de cada método mediante `help`:"
   ]
  },
  {
   "cell_type": "code",
   "execution_count": null,
   "metadata": {},
   "outputs": [],
   "source": [
    "help(pd.DataFrame.max)"
   ]
  },
  {
   "cell_type": "markdown",
   "metadata": {},
   "source": [
    "También puede aplicar métodos a las columnas del dataframe"
   ]
  },
  {
   "cell_type": "code",
   "execution_count": null,
   "metadata": {},
   "outputs": [],
   "source": [
    "df2.loc[:,\"2005\"].mean()"
   ]
  },
  {
   "cell_type": "markdown",
   "metadata": {},
   "source": [
    "Tenga en cuenta que en este caso no está aplicando el método de media a un pandas dataframe, sino a un objeto series de pandas:"
   ]
  },
  {
   "cell_type": "code",
   "execution_count": null,
   "metadata": {},
   "outputs": [],
   "source": [
    "type(df2.loc[:,\"2005\"])"
   ]
  },
  {
   "cell_type": "markdown",
   "metadata": {},
   "source": [
    "Añadir columnas a un DataFrame es bastante sencillo:"
   ]
  },
  {
   "cell_type": "code",
   "execution_count": null,
   "metadata": {},
   "outputs": [],
   "source": [
    "# Añadir una nueva columna con etiqueta \"2014\" con los valores de la lista\n",
    "df2[\"2014\"] = [41325,65789,49002,40489,58934] \n",
    "df2"
   ]
  },
  {
   "cell_type": "code",
   "execution_count": null,
   "metadata": {},
   "outputs": [],
   "source": [
    "# Anadir una nueva columna con el ingreso medio de cada estado\n",
    "df2[\"Mean\"] = df2.iloc[:, 1:].mean(axis=1)\n",
    "df2"
   ]
  },
  {
   "cell_type": "markdown",
   "metadata": {},
   "source": [
    "El parámetro `axis` le indica a Python que calcule la media a lo largo del eje 1, que significa a lo largo de las columnas. El eje puesto a 0 iría a lo largo de las filas. Vamos a ver cómo calcular la media de cada año y agregarlos como una nueva fila"
   ]
  },
  {
   "cell_type": "code",
   "execution_count": null,
   "metadata": {},
   "outputs": [],
   "source": [
    "# Añadir nueva fila con el ingreso medio por año\n",
    "df2.loc[\"Mean\"] = df2.iloc[:,1:].mean(axis=0)\n",
    "df2"
   ]
  },
  {
   "cell_type": "markdown",
   "metadata": {},
   "source": [
    "## Eliminación de Columnas"
   ]
  },
  {
   "cell_type": "code",
   "execution_count": null,
   "metadata": {},
   "outputs": [],
   "source": [
    "covid_19.head()"
   ]
  },
  {
   "cell_type": "code",
   "execution_count": null,
   "metadata": {},
   "outputs": [],
   "source": [
    "covid_19.drop(columns=['Unnamed: 0'], inplace=True)"
   ]
  },
  {
   "cell_type": "code",
   "execution_count": null,
   "metadata": {},
   "outputs": [],
   "source": [
    "covid_19"
   ]
  },
  {
   "cell_type": "markdown",
   "metadata": {},
   "source": [
    "## Crear un nuevo `DataFrame` con columnas de `covid_19`"
   ]
  },
  {
   "cell_type": "code",
   "execution_count": null,
   "metadata": {},
   "outputs": [],
   "source": [
    "columnas = ['iso_code', 'continent', 'location', 'date', 'total_cases', 'new_cases', 'total_deaths', 'new_deaths']\n",
    "covid_19_casos_muertes = covid_19[columnas].copy()"
   ]
  },
  {
   "cell_type": "code",
   "execution_count": null,
   "metadata": {
    "scrolled": true
   },
   "outputs": [],
   "source": [
    "covid_19_casos_muertes.head()"
   ]
  },
  {
   "cell_type": "code",
   "execution_count": null,
   "metadata": {},
   "outputs": [],
   "source": [
    "covid_19_casos_muertes.tail()"
   ]
  },
  {
   "cell_type": "code",
   "execution_count": null,
   "metadata": {},
   "outputs": [],
   "source": [
    "covid_19_casos_muertes.info()"
   ]
  },
  {
   "cell_type": "markdown",
   "metadata": {},
   "source": [
    "### Convertir columna `date` del tipo `object` a tipo `datetime`"
   ]
  },
  {
   "cell_type": "code",
   "execution_count": null,
   "metadata": {},
   "outputs": [],
   "source": [
    "covid_19_casos_muertes['date'] = pd.to_datetime(covid_19_casos_muertes['date'], infer_datetime_format=True)"
   ]
  },
  {
   "cell_type": "code",
   "execution_count": null,
   "metadata": {},
   "outputs": [],
   "source": [
    "covid_19_casos_muertes.info()"
   ]
  },
  {
   "cell_type": "markdown",
   "metadata": {},
   "source": [
    "### Tratamiento de los valores `NaN`"
   ]
  },
  {
   "cell_type": "code",
   "execution_count": null,
   "metadata": {},
   "outputs": [],
   "source": [
    "covid_19_casos_muertes[pd.isna(covid_19_casos_muertes.continent)]"
   ]
  },
  {
   "cell_type": "code",
   "execution_count": null,
   "metadata": {},
   "outputs": [],
   "source": [
    "covid_19_casos_muertes = covid_19_casos_muertes[covid_19_casos_muertes['continent'].notna()]"
   ]
  },
  {
   "cell_type": "code",
   "execution_count": null,
   "metadata": {},
   "outputs": [],
   "source": [
    "covid_19_casos_muertes.info()"
   ]
  },
  {
   "cell_type": "code",
   "execution_count": null,
   "metadata": {},
   "outputs": [],
   "source": [
    "covid_19_casos_muertes.fillna(0, inplace=True)"
   ]
  },
  {
   "cell_type": "code",
   "execution_count": null,
   "metadata": {},
   "outputs": [],
   "source": [
    "covid_19_casos_muertes.info()"
   ]
  },
  {
   "cell_type": "markdown",
   "metadata": {},
   "source": [
    "### Agrupar datos"
   ]
  },
  {
   "cell_type": "code",
   "execution_count": null,
   "metadata": {},
   "outputs": [],
   "source": [
    "covid_19_casos_muertes.groupby(['continent'])['new_cases'].sum()"
   ]
  },
  {
   "cell_type": "code",
   "execution_count": null,
   "metadata": {},
   "outputs": [],
   "source": [
    "covid_19_casos_muertes.groupby(['continent', 'location'])['new_cases'].agg(['mean', 'sum'])"
   ]
  },
  {
   "cell_type": "code",
   "execution_count": null,
   "metadata": {},
   "outputs": [],
   "source": [
    "casos_venezuela = covid_19_casos_muertes[covid_19_casos_muertes.location == 'Venezuela']['total_cases']\n",
    "muertes_venezuela = covid_19_casos_muertes[covid_19_casos_muertes.location == 'Venezuela']['total_deaths']\n",
    "plt.plot(casos_venezuela)\n",
    "plt.plot(muertes_venezuela)"
   ]
  },
  {
   "cell_type": "code",
   "execution_count": null,
   "metadata": {},
   "outputs": [],
   "source": [
    "new_df = covid_19_casos_muertes.groupby(['continent', 'location'])['new_cases'].agg(['mean', 'sum']).reset_index()"
   ]
  },
  {
   "cell_type": "code",
   "execution_count": null,
   "metadata": {},
   "outputs": [],
   "source": [
    "sur_america = new_df[new_df.continent == 'South America']"
   ]
  },
  {
   "cell_type": "code",
   "execution_count": null,
   "metadata": {},
   "outputs": [],
   "source": [
    "sur_america.sort_values('sum', ascending=False)"
   ]
  },
  {
   "cell_type": "code",
   "execution_count": null,
   "metadata": {},
   "outputs": [],
   "source": []
  }
 ],
 "metadata": {
  "anaconda-cloud": {},
  "kernelspec": {
   "display_name": "Python 3 (ipykernel)",
   "language": "python",
   "name": "python3"
  },
  "language_info": {
   "codemirror_mode": {
    "name": "ipython",
    "version": 3
   },
   "file_extension": ".py",
   "mimetype": "text/x-python",
   "name": "python",
   "nbconvert_exporter": "python",
   "pygments_lexer": "ipython3",
   "version": "3.8.13"
  }
 },
 "nbformat": 4,
 "nbformat_minor": 4
}
