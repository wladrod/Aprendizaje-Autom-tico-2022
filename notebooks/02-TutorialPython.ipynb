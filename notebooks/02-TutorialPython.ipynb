{
 "cells": [
  {
   "cell_type": "markdown",
   "metadata": {},
   "source": [
    "<center>\n",
    "    <h1>Tutorial de Python</h1>\n",
    "</center>"
   ]
  },
  {
   "cell_type": "markdown",
   "metadata": {},
   "source": [
    "<img src=\"../figuras/python-logo.png\" />"
   ]
  },
  {
   "cell_type": "markdown",
   "metadata": {},
   "source": [
    "## Introducción"
   ]
  },
  {
   "cell_type": "markdown",
   "metadata": {},
   "source": [
    "Python es un lenguaje de programación:\n",
    "\n",
    "* Interpretado e Interactivo\n",
    "* Fácil de aprender, programar y **leer** (menos *bugs*)\n",
    "* De *muy alto nivel*\n",
    "* Multiparadigma\n",
    "* Orientado a objetos\n",
    "* Libre y con licencia permisiva\n",
    "* Eficiente\n",
    "* Versátil y potente! \n",
    "* Con gran documentación\n",
    "* Y una gran comunidad de usuarios"
   ]
  },
  {
   "cell_type": "markdown",
   "metadata": {},
   "source": [
    "## Historia\n",
    "- Inventado en Holanda, principios de los 90 por Guido van Rossum\n",
    "- El nombre viene del programa de televisión [Monty Python Flying Circus](https://es.wikipedia.org/wiki/Monty_Python)\n",
    "- Abierto desde el principio\n",
    "- Considerado un lenguaje de scripting, pero es mucho más\n",
    "- Escalable, orientado a objetos y funcional desde el principio\n",
    "- Utilizado por Google desde el principio"
   ]
  },
  {
   "cell_type": "markdown",
   "metadata": {},
   "source": [
    "## Creador de Python\n",
    "\n",
    "\"Python es un experimento en cuánta libertad los programadores necesitan. \n",
    " Demasiada libertad y nadie puede leer el código de otro; \n",
    " Demasiada poca y la expresividad está en peligro.\"\n",
    "      - Guido van Rossum\n",
    "      \n",
    "<img src=\"../figuras/guido.jpg\" />"
   ]
  },
  {
   "cell_type": "markdown",
   "metadata": {},
   "source": [
    "## El zen de Python"
   ]
  },
  {
   "cell_type": "code",
   "execution_count": 1,
   "metadata": {},
   "outputs": [
    {
     "name": "stdout",
     "output_type": "stream",
     "text": [
      "The Zen of Python, by Tim Peters\n",
      "\n",
      "Beautiful is better than ugly.\n",
      "Explicit is better than implicit.\n",
      "Simple is better than complex.\n",
      "Complex is better than complicated.\n",
      "Flat is better than nested.\n",
      "Sparse is better than dense.\n",
      "Readability counts.\n",
      "Special cases aren't special enough to break the rules.\n",
      "Although practicality beats purity.\n",
      "Errors should never pass silently.\n",
      "Unless explicitly silenced.\n",
      "In the face of ambiguity, refuse the temptation to guess.\n",
      "There should be one-- and preferably only one --obvious way to do it.\n",
      "Although that way may not be obvious at first unless you're Dutch.\n",
      "Now is better than never.\n",
      "Although never is often better than *right* now.\n",
      "If the implementation is hard to explain, it's a bad idea.\n",
      "If the implementation is easy to explain, it may be a good idea.\n",
      "Namespaces are one honking great idea -- let's do more of those!\n"
     ]
    }
   ],
   "source": [
    "import this"
   ]
  },
  {
   "cell_type": "markdown",
   "metadata": {},
   "source": [
    "El Zen de Python, de Tim Peters\n",
    "\n",
    "- Hermoso es mejor que feo.\n",
    "- Explicito es mejor que implícito.\n",
    "- Simple es mejor que complejo.\n",
    "- Complejo es mejor que complicado.\n",
    "- El plano es mejor que el anidado.\n",
    "- Dispersa es mejor que denso.\n",
    "- La legibilidad es importante.\n",
    "- Casos especiales no son lo suficientemente especiales para romper las reglas.\n",
    "- Aunque la practicidad supera la pureza.\n",
    "- Los errores nunca deben pasar en silencio.\n",
    "- A menos que se silencie explícitamente.\n",
    "- Ante la ambigüedad, rechaza la tentación de adivinar.\n",
    "- Debería haber una - y preferiblemente sólo una - forma obvia de hacerlo.\n",
    "- Aunque esa manera no puede ser obvia al principio a menos que usted es holandés.\n",
    "- Ahora es mejor que nunca.\n",
    "- Aunque nunca es a menudo mejor que * de una vez * ahora.\n",
    "- Si la implementación es difícil de explicar, es una mala idea.\n",
    "- Si la implementación es fácil de explicar, puede ser una buena idea.\n",
    "- Espacios de nombres son una buena idea - vamos a hacer más de esos!"
   ]
  },
  {
   "cell_type": "markdown",
   "metadata": {},
   "source": [
    "## Versiones de Python"
   ]
  },
  {
   "cell_type": "markdown",
   "metadata": {},
   "source": [
    "Actualmente hay dos versiones de Python, 2.7 y 3.9. Python 3.0 introdujo muchos cambios incompatibles con la version 2.7 del lenguaje, por lo que el código escrito para 2.7 puede no funcionar bajo 3.9 y viceversa. Para esta clase todo el código utilizará Python 3.9.\n",
    "Puede comprobar su versión de Python en la línea de comandos ejecutando `python --version`."
   ]
  },
  {
   "cell_type": "markdown",
   "metadata": {},
   "source": [
    "## Instalar Python"
   ]
  },
  {
   "cell_type": "markdown",
   "metadata": {},
   "source": [
    "Descarga de la suite \"Anaconda\" (Python 3.9)\n",
    "\n",
    "### https://www.anaconda.com/download/ \n",
    "\n",
    "<img src=\"../figuras/Anaconda.png\" />"
   ]
  },
  {
   "cell_type": "markdown",
   "metadata": {},
   "source": [
    "## Introducción a Jupyter Notebooks y Python"
   ]
  },
  {
   "cell_type": "markdown",
   "metadata": {},
   "source": [
    "En este tutorial, cubriremos:\n",
    "\n",
    "- Jupyter: Creación de notebooks\n",
    "- Python básico: Tipos de datos básicos (Contenedores, Listas, Diccionarios, Conjuntos, Tuplas), Funciones, Clases\n"
   ]
  },
  {
   "cell_type": "markdown",
   "metadata": {},
   "source": [
    "## Jupyter Notebooks\n",
    "\n",
    "El _Jupyter Notebook_ es una herramienta increíblemente poderosa para desarrollar y presentar proyectos de ciencia de datos de manera interactiva. Un _Notebook_ integra el código y su salida en un único documento que combina visualizaciones, texto narrativo, ecuaciones matemáticas y otros medios. El flujo de trabajo intuitivo promueve el desarrollo iterativo y rápido, convirtiendo a los _Notebooks_ en una opción cada vez más popular en la ciencia de datos contemporánea, el análisis y, cada vez más, la ciencia en general. Lo mejor de todo es que, como parte del proyecto de código abierto [Jupyter](https://jupyter.org/), son completamente gratuitos."
   ]
  },
  {
   "cell_type": "markdown",
   "metadata": {},
   "source": [
    "## Jupyter Lab\n",
    "\n",
    "*JupyterLab* es la próxima generación de los Notebook de Jupyter. Su objetivo es solucionar muchos problemas de usabilidad de los Notebooks, y amplía enormemente su alcance. JupyterLab ofrece un marco general para la computación interactiva y la ciencia de datos en el navegador, usando Python, Julia, R o uno de muchos otros lenguajes.\n",
    "\n",
    "Además de proporcionar una interfaz mejorada para los Notebooks existentes, JupyterLab también incorpora dentro de la misma interfaz un explorador de archivos, consolas, terminales, editores de texto, editores Markdown, editores CSV, editores JSON, mapas interactivos, widgets, etc. La arquitectura es completamente extensible y está abierta a desarrolladores. En una palabra, JupyterLab es un IDE personalizable basado en la web para ciencia de datos y computación interactiva.\n",
    "\n",
    "JupyterLab utiliza exactamente el mismo servidor y formato de archivo que el Jupyter Notebook clásico, por lo que es totalmente compatible con los Notebooks y kernels existentes. Los Notebook cleasicos y Jupyterlab pueden correr de un lado a otro en la misma computadora. Uno puede cambiar fácilmente entre las dos interfaces.\n"
   ]
  },
  {
   "cell_type": "markdown",
   "metadata": {},
   "source": [
    "## Arquitectura de JupyterLab\n",
    "\n",
    "<img src='../figuras/notebook_components.png' width=\"75%\"/>"
   ]
  },
  {
   "cell_type": "markdown",
   "metadata": {},
   "source": [
    "##  Teclas de acceso rápido\n",
    "\n",
    "<img src='../figuras/teclas_acceso_rapido.png/'/>"
   ]
  },
  {
   "cell_type": "markdown",
   "metadata": {},
   "source": [
    "<img src='../figuras/ShortcutKeys.png'/>"
   ]
  },
  {
   "cell_type": "markdown",
   "metadata": {},
   "source": [
    "## Tecla TAB"
   ]
  },
  {
   "cell_type": "code",
   "execution_count": 3,
   "metadata": {},
   "outputs": [],
   "source": [
    "import numpy as np\n",
    "import matplotlib.pyplot as plt\n",
    "%matplotlib inline"
   ]
  },
  {
   "cell_type": "code",
   "execution_count": null,
   "metadata": {},
   "outputs": [],
   "source": [
    "# autocompletar con TAB\n",
    "\n",
    "np."
   ]
  },
  {
   "cell_type": "markdown",
   "metadata": {},
   "source": [
    "<img src='../figuras/autocompletar.png'/>"
   ]
  },
  {
   "cell_type": "markdown",
   "metadata": {},
   "source": [
    "## Shift TAB"
   ]
  },
  {
   "cell_type": "code",
   "execution_count": null,
   "metadata": {},
   "outputs": [],
   "source": [
    "# despliega información sobre los parámetros de la función\n",
    "np.linspace()"
   ]
  },
  {
   "cell_type": "markdown",
   "metadata": {},
   "source": [
    "<img src='../figuras/parametros_funcion.png' />"
   ]
  },
  {
   "cell_type": "markdown",
   "metadata": {},
   "source": [
    "## Teclas de ayuda ? y ??"
   ]
  },
  {
   "cell_type": "code",
   "execution_count": 4,
   "metadata": {},
   "outputs": [],
   "source": [
    "# despliega la ayuda sobre la función\n",
    "np.linspace?"
   ]
  },
  {
   "cell_type": "markdown",
   "metadata": {},
   "source": [
    "<img src='../figuras/ayuda_funcion.png'/>"
   ]
  },
  {
   "cell_type": "code",
   "execution_count": 5,
   "metadata": {},
   "outputs": [],
   "source": [
    "## despliega la ayuda y el código de la función\n",
    "np.linspace??"
   ]
  },
  {
   "cell_type": "markdown",
   "metadata": {},
   "source": [
    "<img src='../figuras/ayuda_codigo_funcion.png'/>"
   ]
  },
  {
   "cell_type": "markdown",
   "metadata": {},
   "source": [
    "## Magics\n",
    "\n",
    "- % $\\to$ inline magic\n",
    "- %% $\\to$ cell magic"
   ]
  },
  {
   "cell_type": "code",
   "execution_count": 7,
   "metadata": {},
   "outputs": [
    {
     "data": {
      "application/json": {
       "cell": {
        "!": "OSMagics",
        "HTML": "Other",
        "SVG": "Other",
        "bash": "Other",
        "capture": "ExecutionMagics",
        "cmd": "Other",
        "debug": "ExecutionMagics",
        "file": "Other",
        "html": "DisplayMagics",
        "javascript": "DisplayMagics",
        "js": "DisplayMagics",
        "latex": "DisplayMagics",
        "markdown": "DisplayMagics",
        "perl": "Other",
        "prun": "ExecutionMagics",
        "pypy": "Other",
        "python": "Other",
        "python2": "Other",
        "python3": "Other",
        "ruby": "Other",
        "script": "ScriptMagics",
        "sh": "Other",
        "svg": "DisplayMagics",
        "sx": "OSMagics",
        "system": "OSMagics",
        "time": "ExecutionMagics",
        "timeit": "ExecutionMagics",
        "writefile": "OSMagics"
       },
       "line": {
        "alias": "OSMagics",
        "alias_magic": "BasicMagics",
        "autoawait": "AsyncMagics",
        "autocall": "AutoMagics",
        "automagic": "AutoMagics",
        "autosave": "KernelMagics",
        "bookmark": "OSMagics",
        "cd": "OSMagics",
        "clear": "KernelMagics",
        "cls": "KernelMagics",
        "colors": "BasicMagics",
        "conda": "PackagingMagics",
        "config": "ConfigMagics",
        "connect_info": "KernelMagics",
        "copy": "Other",
        "ddir": "Other",
        "debug": "ExecutionMagics",
        "dhist": "OSMagics",
        "dirs": "OSMagics",
        "doctest_mode": "BasicMagics",
        "echo": "Other",
        "ed": "Other",
        "edit": "KernelMagics",
        "env": "OSMagics",
        "gui": "BasicMagics",
        "hist": "Other",
        "history": "HistoryMagics",
        "killbgscripts": "ScriptMagics",
        "ldir": "Other",
        "less": "KernelMagics",
        "load": "CodeMagics",
        "load_ext": "ExtensionMagics",
        "loadpy": "CodeMagics",
        "logoff": "LoggingMagics",
        "logon": "LoggingMagics",
        "logstart": "LoggingMagics",
        "logstate": "LoggingMagics",
        "logstop": "LoggingMagics",
        "ls": "Other",
        "lsmagic": "BasicMagics",
        "macro": "ExecutionMagics",
        "magic": "BasicMagics",
        "matplotlib": "PylabMagics",
        "mkdir": "Other",
        "more": "KernelMagics",
        "notebook": "BasicMagics",
        "page": "BasicMagics",
        "pastebin": "CodeMagics",
        "pdb": "ExecutionMagics",
        "pdef": "NamespaceMagics",
        "pdoc": "NamespaceMagics",
        "pfile": "NamespaceMagics",
        "pinfo": "NamespaceMagics",
        "pinfo2": "NamespaceMagics",
        "pip": "PackagingMagics",
        "popd": "OSMagics",
        "pprint": "BasicMagics",
        "precision": "BasicMagics",
        "prun": "ExecutionMagics",
        "psearch": "NamespaceMagics",
        "psource": "NamespaceMagics",
        "pushd": "OSMagics",
        "pwd": "OSMagics",
        "pycat": "OSMagics",
        "pylab": "PylabMagics",
        "qtconsole": "KernelMagics",
        "quickref": "BasicMagics",
        "recall": "HistoryMagics",
        "rehashx": "OSMagics",
        "reload_ext": "ExtensionMagics",
        "ren": "Other",
        "rep": "Other",
        "rerun": "HistoryMagics",
        "reset": "NamespaceMagics",
        "reset_selective": "NamespaceMagics",
        "rmdir": "Other",
        "run": "ExecutionMagics",
        "save": "CodeMagics",
        "sc": "OSMagics",
        "set_env": "OSMagics",
        "store": "StoreMagics",
        "sx": "OSMagics",
        "system": "OSMagics",
        "tb": "ExecutionMagics",
        "time": "ExecutionMagics",
        "timeit": "ExecutionMagics",
        "unalias": "OSMagics",
        "unload_ext": "ExtensionMagics",
        "who": "NamespaceMagics",
        "who_ls": "NamespaceMagics",
        "whos": "NamespaceMagics",
        "xdel": "NamespaceMagics",
        "xmode": "BasicMagics"
       }
      },
      "text/plain": [
       "Available line magics:\n",
       "%alias  %alias_magic  %autoawait  %autocall  %automagic  %autosave  %bookmark  %cd  %clear  %cls  %colors  %conda  %config  %connect_info  %copy  %ddir  %debug  %dhist  %dirs  %doctest_mode  %echo  %ed  %edit  %env  %gui  %hist  %history  %killbgscripts  %ldir  %less  %load  %load_ext  %loadpy  %logoff  %logon  %logstart  %logstate  %logstop  %ls  %lsmagic  %macro  %magic  %matplotlib  %mkdir  %more  %notebook  %page  %pastebin  %pdb  %pdef  %pdoc  %pfile  %pinfo  %pinfo2  %pip  %popd  %pprint  %precision  %prun  %psearch  %psource  %pushd  %pwd  %pycat  %pylab  %qtconsole  %quickref  %recall  %rehashx  %reload_ext  %ren  %rep  %rerun  %reset  %reset_selective  %rmdir  %run  %save  %sc  %set_env  %store  %sx  %system  %tb  %time  %timeit  %unalias  %unload_ext  %who  %who_ls  %whos  %xdel  %xmode\n",
       "\n",
       "Available cell magics:\n",
       "%%!  %%HTML  %%SVG  %%bash  %%capture  %%cmd  %%debug  %%file  %%html  %%javascript  %%js  %%latex  %%markdown  %%perl  %%prun  %%pypy  %%python  %%python2  %%python3  %%ruby  %%script  %%sh  %%svg  %%sx  %%system  %%time  %%timeit  %%writefile\n",
       "\n",
       "Automagic is ON, % prefix IS NOT needed for line magics."
      ]
     },
     "execution_count": 7,
     "metadata": {},
     "output_type": "execute_result"
    }
   ],
   "source": [
    "%lsmagic"
   ]
  },
  {
   "cell_type": "markdown",
   "metadata": {},
   "source": [
    "## Latex"
   ]
  },
  {
   "cell_type": "code",
   "execution_count": 6,
   "metadata": {},
   "outputs": [
    {
     "data": {
      "text/latex": [
       "\n",
       "Ejemplo cell magic...\n",
       "\n",
       "\\begin{equation}\n",
       "\\oint_S {E_n dA = \\frac{1}{{\\varepsilon _0 }}} Q_\\textrm{inside}\n",
       "\\end{equation}\n"
      ],
      "text/plain": [
       "<IPython.core.display.Latex object>"
      ]
     },
     "metadata": {},
     "output_type": "display_data"
    }
   ],
   "source": [
    "%%latex\n",
    "\n",
    "Ejemplo cell magic...\n",
    "\n",
    "\\begin{equation}\n",
    "\\oint_S {E_n dA = \\frac{1}{{\\varepsilon _0 }}} Q_\\textrm{inside}\n",
    "\\end{equation}"
   ]
  },
  {
   "cell_type": "markdown",
   "metadata": {},
   "source": [
    "## Ejecutar Comandos en el _shell_, usando la tecla !\n",
    "\n"
   ]
  },
  {
   "cell_type": "code",
   "execution_count": 8,
   "metadata": {},
   "outputs": [
    {
     "name": "stdout",
     "output_type": "stream",
     "text": [
      "Requirement already satisfied: numpy in c:\\programdata\\anaconda3\\lib\\site-packages (1.22.4)\n"
     ]
    }
   ],
   "source": [
    "!pip install numpy"
   ]
  },
  {
   "cell_type": "markdown",
   "metadata": {},
   "source": [
    "## IDE para Python"
   ]
  },
  {
   "cell_type": "markdown",
   "metadata": {},
   "source": [
    "### ¿Qué editor usar?\n",
    "\n",
    "Python no exige un editor específico y hay muchos modos y maneras de programar. \n",
    "\n",
    "Un buen editor orientado a Python científico es **Spyder**, que es un entorno integrado (editor + ayuda + consola interactiva)\n",
    "\n",
    "<img src=\"../figuras/spyder.png\" />"
   ]
  },
  {
   "cell_type": "code",
   "execution_count": null,
   "metadata": {},
   "outputs": [],
   "source": []
  },
  {
   "cell_type": "markdown",
   "metadata": {},
   "source": [
    "También existe un IDE para python llamado [PyCharm](https://www.jetbrains.com/pycharm/)\n",
    "\n",
    "<img src=\"../figuras/PyCharm2.jpg\" />"
   ]
  },
  {
   "cell_type": "markdown",
   "metadata": {},
   "source": [
    "Tambien se puede utilizar [Visual Studio Code](https://code.visualstudio.com/). En el proceso de instalación de Anaconda preguntará si se quiere instalar también el Visual Studio Code\n",
    "\n",
    "<img src=\"../figuras/VisualStudioCode.png\" />"
   ]
  },
  {
   "cell_type": "markdown",
   "metadata": {},
   "source": [
    "Python es un lenguaje de programación multiparadigm de alto nivel, de tipo dinámico. El código de Python a menudo se dice que es casi como pseudocódigo, ya que le permite expresar ideas muy poderosas en muy pocas líneas de código mientras que sea muy legible. Como ejemplo, aquí está una implementación del algoritmo clásico de quicksort en Python:"
   ]
  },
  {
   "cell_type": "code",
   "execution_count": 9,
   "metadata": {},
   "outputs": [
    {
     "name": "stdout",
     "output_type": "stream",
     "text": [
      "[1, 1, 2, 3, 6, 8, 10]\n"
     ]
    }
   ],
   "source": [
    "def quicksort(arreglo):\n",
    "    if len(arreglo) <= 1:\n",
    "        return arreglo\n",
    "    pivote = arreglo[int(len(arreglo) / 2)]\n",
    "    izquierda = [x for x in arreglo if x < pivote]\n",
    "    medio = [x for x in arreglo if x == pivote]\n",
    "    derecha = [x for x in arreglo if x > pivote]\n",
    "    return quicksort(izquierda) + medio + quicksort(derecha)\n",
    "\n",
    "print (quicksort([3,6,8,10,1,2,1]))"
   ]
  },
  {
   "cell_type": "markdown",
   "metadata": {},
   "source": [
    "### Tipos de datos básicos"
   ]
  },
  {
   "cell_type": "markdown",
   "metadata": {},
   "source": [
    "#### Números"
   ]
  },
  {
   "cell_type": "markdown",
   "metadata": {},
   "source": [
    "Los números enteros y los punto flotante funcionan como se esperaría de otros lenguajes:"
   ]
  },
  {
   "cell_type": "code",
   "execution_count": 10,
   "metadata": {},
   "outputs": [
    {
     "name": "stdout",
     "output_type": "stream",
     "text": [
      "3\n"
     ]
    },
    {
     "data": {
      "text/plain": [
       "int"
      ]
     },
     "execution_count": 10,
     "metadata": {},
     "output_type": "execute_result"
    }
   ],
   "source": [
    "x = 3\n",
    "print(x)\n",
    "type(x)"
   ]
  },
  {
   "cell_type": "code",
   "execution_count": 11,
   "metadata": {},
   "outputs": [
    {
     "name": "stdout",
     "output_type": "stream",
     "text": [
      "4\n",
      "2\n",
      "6\n",
      "1\n",
      "1.5\n",
      "1\n",
      "9\n"
     ]
    }
   ],
   "source": [
    "print (x + 1)   # Suma;\n",
    "print (x - 1)   # Resta;\n",
    "print (x * 2)   # Multiplicación;\n",
    "print (x // 2)  # División entera;\n",
    "print (x / 2)   # División punto flotante;\n",
    "print (x % 2)   # Modulo;\n",
    "print (x ** 2)  # Exponenciación;"
   ]
  },
  {
   "cell_type": "code",
   "execution_count": 10,
   "metadata": {},
   "outputs": [
    {
     "name": "stdout",
     "output_type": "stream",
     "text": [
      "4\n",
      "8\n"
     ]
    }
   ],
   "source": [
    "x += 1\n",
    "print (x)  # Imprime \"4\"\n",
    "x *= 2\n",
    "print (x)  # Imprime \"8\""
   ]
  },
  {
   "cell_type": "code",
   "execution_count": 14,
   "metadata": {},
   "outputs": [
    {
     "name": "stdout",
     "output_type": "stream",
     "text": [
      "<class 'float'>\n",
      "2.5 3.5 5.0 6.25\n",
      "1.4\n"
     ]
    }
   ],
   "source": [
    "y = 2.5\n",
    "print (type(y)) # Imprime \"<class 'float'>\"\n",
    "print (y, y + 1, y * 2, y ** 2) # Imprime \"2.5 3.5 5.0 6.25\""
   ]
  },
  {
   "cell_type": "code",
   "execution_count": 16,
   "metadata": {},
   "outputs": [
    {
     "data": {
      "text/plain": [
       "(8+0j)"
      ]
     },
     "execution_count": 16,
     "metadata": {},
     "output_type": "execute_result"
    }
   ],
   "source": [
    "(3 + 2j) + (5 - 2j)"
   ]
  },
  {
   "cell_type": "markdown",
   "metadata": {},
   "source": [
    "Tenga en cuenta que a diferencia de muchos idiomas, Python no tiene operadores unarios de incremento (x++) o decremento (x--).\n",
    "\n",
    "Python también tiene tipos incorporados para enteros largos y números complejos; Puede encontrar todos los detalles en la [documentación](https://docs.python.org/3/library/stdtypes.html#numeric-types-int-float-long-complex)."
   ]
  },
  {
   "cell_type": "markdown",
   "metadata": {},
   "source": [
    "#### Booleanos"
   ]
  },
  {
   "cell_type": "markdown",
   "metadata": {},
   "source": [
    "Python implementa todos los operadores habituales para la lógica booleana, pero usa palabras en inglés en lugar de símbolos (`&&`, `||`, etc.):"
   ]
  },
  {
   "cell_type": "code",
   "execution_count": 17,
   "metadata": {},
   "outputs": [
    {
     "name": "stdout",
     "output_type": "stream",
     "text": [
      "<class 'bool'>\n"
     ]
    }
   ],
   "source": [
    "t, f = True, False\n",
    "print (type(t)) # Imprime \"<class 'bool'>\""
   ]
  },
  {
   "cell_type": "markdown",
   "metadata": {},
   "source": [
    "Ahora veamos las operaciones:"
   ]
  },
  {
   "cell_type": "code",
   "execution_count": 18,
   "metadata": {},
   "outputs": [
    {
     "name": "stdout",
     "output_type": "stream",
     "text": [
      "False\n",
      "True\n",
      "False\n",
      "True\n"
     ]
    }
   ],
   "source": [
    "print (t and f) # Y Lógico;\n",
    "print (t or f)  # O Lógico;\n",
    "print (not t)   # NO Lógico;\n",
    "print (t != f)  # XOR Lógico;"
   ]
  },
  {
   "cell_type": "markdown",
   "metadata": {},
   "source": [
    "#### Cadena de carácteres (Strings)"
   ]
  },
  {
   "cell_type": "code",
   "execution_count": 19,
   "metadata": {},
   "outputs": [
    {
     "name": "stdout",
     "output_type": "stream",
     "text": [
      "hola 4\n"
     ]
    }
   ],
   "source": [
    "hola = 'hola'   # Los literales de cadenas pueden usar comillas simples\n",
    "mundo = \"mundo\"   # o comillas dobles; no importa.\n",
    "print (hola, len(hola))"
   ]
  },
  {
   "cell_type": "code",
   "execution_count": 20,
   "metadata": {},
   "outputs": [
    {
     "name": "stdout",
     "output_type": "stream",
     "text": [
      "hola mundo\n"
     ]
    }
   ],
   "source": [
    "hm = hola + ' ' + mundo  # Concatenación de cadenas\n",
    "print (hm)  # imprime \"hola mundo\""
   ]
  },
  {
   "cell_type": "code",
   "execution_count": 21,
   "metadata": {},
   "outputs": [
    {
     "name": "stdout",
     "output_type": "stream",
     "text": [
      "hola mundo 12\n"
     ]
    }
   ],
   "source": [
    "hm12 = '%s %s %d' % (hola, mundo, 12)  # formatos de cadena estilo sprintf\n",
    "print (hm12)  # imprime \"hola mundo 12\""
   ]
  },
  {
   "cell_type": "markdown",
   "metadata": {},
   "source": [
    "Los objetos de cadena tienen un montón de métodos útiles; por ejemplo:"
   ]
  },
  {
   "cell_type": "code",
   "execution_count": 21,
   "metadata": {},
   "outputs": [
    {
     "name": "stdout",
     "output_type": "stream",
     "text": [
      "Hola\n",
      "HOLA\n",
      "   hola\n",
      "  hola \n",
      "ho(ell)a\n",
      "mundo\n"
     ]
    }
   ],
   "source": [
    "s = \"hola\"\n",
    "print (s.capitalize())  # Capitalizar una cadena; Imprime \"Hola\"\n",
    "print (s.upper())       # Convertir una cadena en mayúsculas; Imprime \"HOLA\"\n",
    "print (s.rjust(7))      # Justificar a la derecha una cadena, relleno con espacios; Imprime \"  hola\"\n",
    "print (s.center(7))     # Centrar una cadena, relleno con espacios; Imprime \" hola \"\n",
    "print (s.replace('l', '(ell)'))  # Reemplazar todas las instancias de una subcadena con otra;\n",
    "                               # Imprime \"ho(ell)a\"\n",
    "print ('  mundo '.strip())  # Elimina los espacios en blanco al inicio y al final; Imprime \"mundo\""
   ]
  },
  {
   "cell_type": "markdown",
   "metadata": {},
   "source": [
    "Puede encontrar una lista de todos los métodos de cadenas en la [documentación](https://docs.python.org/3/library/stdtypes.html#string-methods)."
   ]
  },
  {
   "cell_type": "code",
   "execution_count": 24,
   "metadata": {},
   "outputs": [
    {
     "name": "stdout",
     "output_type": "stream",
     "text": [
      "['2002', '2009', '2016', '2023', '2037', '2044', '2051', '2058', '2072', '2079', '2086', '2093', '2107', '2114', '2121', '2128', '2142', '2149', '2156', '2163', '2177', '2184', '2191', '2198', '2212', '2219', '2226', '2233', '2247', '2254', '2261', '2268', '2282', '2289', '2296', '2303', '2317', '2324', '2331', '2338', '2352', '2359', '2366', '2373', '2387', '2394', '2401', '2408', '2422', '2429', '2436', '2443', '2457', '2464', '2471', '2478', '2492', '2499', '2506', '2513', '2527', '2534', '2541', '2548', '2562', '2569', '2576', '2583', '2597', '2604', '2611', '2618', '2632', '2639', '2646', '2653', '2667', '2674', '2681', '2688', '2702', '2709', '2716', '2723', '2737', '2744', '2751', '2758', '2772', '2779', '2786', '2793', '2807', '2814', '2821', '2828', '2842', '2849', '2856', '2863', '2877', '2884', '2891', '2898', '2912', '2919', '2926', '2933', '2947', '2954', '2961', '2968', '2982', '2989', '2996', '3003', '3017', '3024', '3031', '3038', '3052', '3059', '3066', '3073', '3087', '3094', '3101', '3108', '3122', '3129', '3136', '3143', '3157', '3164', '3171', '3178', '3192', '3199']\n",
      "2002,2009,2016,2023,2037,2044,2051,2058,2072,2079,2086,2093,2107,2114,2121,2128,2142,2149,2156,2163,2177,2184,2191,2198,2212,2219,2226,2233,2247,2254,2261,2268,2282,2289,2296,2303,2317,2324,2331,2338,2352,2359,2366,2373,2387,2394,2401,2408,2422,2429,2436,2443,2457,2464,2471,2478,2492,2499,2506,2513,2527,2534,2541,2548,2562,2569,2576,2583,2597,2604,2611,2618,2632,2639,2646,2653,2667,2674,2681,2688,2702,2709,2716,2723,2737,2744,2751,2758,2772,2779,2786,2793,2807,2814,2821,2828,2842,2849,2856,2863,2877,2884,2891,2898,2912,2919,2926,2933,2947,2954,2961,2968,2982,2989,2996,3003,3017,3024,3031,3038,3052,3059,3066,3073,3087,3094,3101,3108,3122,3129,3136,3143,3157,3164,3171,3178,3192,3199\n"
     ]
    }
   ],
   "source": [
    "l=[]\n",
    "for i in range(2000, 3201):\n",
    "    if (i%7==0) and (i%5!=0):\n",
    "        l.append(str(i))\n",
    "print(l)\n",
    "print(','.join(l))"
   ]
  },
  {
   "cell_type": "markdown",
   "metadata": {},
   "source": [
    "## Contenedores"
   ]
  },
  {
   "cell_type": "markdown",
   "metadata": {},
   "source": [
    "Python incluye varios tipos de contenedores: listas, diccionarios, conjuntos y tuplas."
   ]
  },
  {
   "cell_type": "markdown",
   "metadata": {},
   "source": [
    "### Listas"
   ]
  },
  {
   "cell_type": "markdown",
   "metadata": {},
   "source": [
    "Una lista es el equivalente de Python de una matriz, pero es redimensionable y puede contener elementos de diferentes tipos:"
   ]
  },
  {
   "cell_type": "code",
   "execution_count": 25,
   "metadata": {},
   "outputs": [
    {
     "name": "stdout",
     "output_type": "stream",
     "text": [
      "[3, 1, 2] 2\n",
      "2\n"
     ]
    }
   ],
   "source": [
    "xs = [3, 1, 2]   # Crear una lista\n",
    "print (xs, xs[2])\n",
    "print (xs[-1])   # Los índices negativos cuentan desde el final de la lista; Imprime \"2\""
   ]
  },
  {
   "cell_type": "code",
   "execution_count": 26,
   "metadata": {},
   "outputs": [
    {
     "name": "stdout",
     "output_type": "stream",
     "text": [
      "[3, 1, 'mundo']\n"
     ]
    }
   ],
   "source": [
    "xs[2] = 'mundo'    # Las listas pueden contener elementos de diferentes tipos\n",
    "print (xs)"
   ]
  },
  {
   "cell_type": "code",
   "execution_count": 30,
   "metadata": {},
   "outputs": [
    {
     "name": "stdout",
     "output_type": "stream",
     "text": [
      "[3, 1, 'mundo', 'hola', 'hola', 'hola', 'hola']\n"
     ]
    }
   ],
   "source": [
    "xs.append('hola') # Añadir un nuevo elemento al final de la lista\n",
    "print (xs)"
   ]
  },
  {
   "cell_type": "code",
   "execution_count": 34,
   "metadata": {},
   "outputs": [
    {
     "name": "stdout",
     "output_type": "stream",
     "text": [
      "mundo [3, 'hola', 'hola', 'hola']\n"
     ]
    }
   ],
   "source": [
    "x = xs.pop(1)     # Elimina y devuelve el último elemento de la lista\n",
    "print (x, xs) "
   ]
  },
  {
   "cell_type": "markdown",
   "metadata": {},
   "source": [
    "Como de costumbre, usted puede encontrar todos los detalles sobre listas en la [documentación](https://docs.python.org/3/tutorial/datastructures.html#more-on-lists)."
   ]
  },
  {
   "cell_type": "markdown",
   "metadata": {},
   "source": [
    "#### Rebanado"
   ]
  },
  {
   "cell_type": "markdown",
   "metadata": {},
   "source": [
    "Además de acceder a los elementos de la lista de uno en uno, Python proporciona sintaxis concisa para acceder a las sublistas; Esto se conoce como rebanar:"
   ]
  },
  {
   "cell_type": "code",
   "execution_count": 88,
   "metadata": {},
   "outputs": [
    {
     "name": "stdout",
     "output_type": "stream",
     "text": [
      "[0, 1, 2, 3, 4]\n",
      "[2, 3]\n",
      "[2, 3, 4]\n",
      "[0, 1]\n",
      "[0, 1, 2, 3, 4]\n",
      "[0, 1, 2, 3]\n",
      "[0, 1, 8, 9, 4]\n"
     ]
    }
   ],
   "source": [
    "nums = [0, 1, 2, 3, 4]\n",
    "print (nums)         # Imprime \"[0, 1, 2, 3, 4]\"\n",
    "print (nums[2:4])    # Obtener una porción del índice 2 al 4 (exclusivo); imprime \"[2, 3]\"\n",
    "print (nums[2:])     # Obtener una porción del índice 2 hasta el final; imprime \"[2, 3, 4]\"\n",
    "print (nums[:2])     # Obtener una porción desde el principio hasta el índice 2 (exclusivo); imprime \"[0, 1]\"\n",
    "print (nums[:])      # Obtener una porción de toda la lista; imprime [\"0, 1, 2, 3, 4]\"\n",
    "print (nums[:-1])    # Los índices de las porciones pueden ser negativos; imprime [\"0, 1, 2, 3]\"\n",
    "nums[2:4] = [8, 9]   # Asignar una nueva sublista a una porción\n",
    "print (nums)         # Imprime \"[0, 1, 8, 9, 4]\""
   ]
  },
  {
   "cell_type": "code",
   "execution_count": 91,
   "metadata": {},
   "outputs": [
    {
     "data": {
      "text/plain": [
       "[-1, 1, 8, 9, 4]"
      ]
     },
     "execution_count": 91,
     "metadata": {},
     "output_type": "execute_result"
    }
   ],
   "source": [
    "nums[0] = -1\n",
    "nums"
   ]
  },
  {
   "cell_type": "markdown",
   "metadata": {},
   "source": [
    "#### Lazos"
   ]
  },
  {
   "cell_type": "markdown",
   "metadata": {},
   "source": [
    "Puedes realizar un lazo sobre los elementos de una lista de esta forma:"
   ]
  },
  {
   "cell_type": "code",
   "execution_count": 42,
   "metadata": {},
   "outputs": [
    {
     "name": "stdout",
     "output_type": "stream",
     "text": [
      "gato\n",
      "perro\n",
      "mono\n"
     ]
    }
   ],
   "source": [
    "animales = ['gato', 'perro', 'mono']\n",
    "for animal in animales:\n",
    "    print (animal)"
   ]
  },
  {
   "cell_type": "code",
   "execution_count": 39,
   "metadata": {},
   "outputs": [
    {
     "name": "stdout",
     "output_type": "stream",
     "text": [
      "1\n",
      "2\n",
      "3\n",
      "4\n",
      "5\n",
      "6\n",
      "7\n",
      "8\n",
      "9\n"
     ]
    }
   ],
   "source": [
    "for i in range(1, 10):\n",
    "    print(i)"
   ]
  },
  {
   "cell_type": "markdown",
   "metadata": {},
   "source": [
    "Si desea tener acceso al índice de cada elemento dentro del cuerpo de un lazo, utilice la función `enumerate` :"
   ]
  },
  {
   "cell_type": "code",
   "execution_count": 40,
   "metadata": {},
   "outputs": [
    {
     "name": "stdout",
     "output_type": "stream",
     "text": [
      "#1: gato\n",
      "#2: perro\n",
      "#3: mono\n"
     ]
    }
   ],
   "source": [
    "animales = ['gato', 'perro', 'mono']\n",
    "for idx, animal in enumerate(animales):\n",
    "    print ('#%d: %s' % (idx + 1, animal))"
   ]
  },
  {
   "cell_type": "markdown",
   "metadata": {},
   "source": [
    "#### Listas por comprensión:"
   ]
  },
  {
   "cell_type": "markdown",
   "metadata": {},
   "source": [
    "Al programar, con frecuencia queremos transformar un tipo de datos en otro. Como ejemplo simple, considere el siguiente código que calcula los números cuadrados:"
   ]
  },
  {
   "cell_type": "code",
   "execution_count": 41,
   "metadata": {},
   "outputs": [
    {
     "name": "stdout",
     "output_type": "stream",
     "text": [
      "[0, 1, 4, 9, 16]\n"
     ]
    }
   ],
   "source": [
    "nums = [0, 1, 2, 3, 4]\n",
    "cuadrados = []\n",
    "for x in nums:\n",
    "    cuadrados.append(x ** 2)\n",
    "print (cuadrados)"
   ]
  },
  {
   "cell_type": "markdown",
   "metadata": {},
   "source": [
    "Puede simplificar este código utilizando una listas por compresión:"
   ]
  },
  {
   "cell_type": "code",
   "execution_count": 42,
   "metadata": {},
   "outputs": [
    {
     "data": {
      "text/plain": [
       "[0, 1, 4, 9, 16]"
      ]
     },
     "execution_count": 42,
     "metadata": {},
     "output_type": "execute_result"
    }
   ],
   "source": [
    "nums = [0, 1, 2, 3, 4]\n",
    "cuadrados = [x ** 2 for x in nums]\n",
    "cuadrados"
   ]
  },
  {
   "cell_type": "markdown",
   "metadata": {},
   "source": [
    "Listas por comprensión puede tambien contener condiciones:"
   ]
  },
  {
   "cell_type": "code",
   "execution_count": 43,
   "metadata": {},
   "outputs": [
    {
     "name": "stdout",
     "output_type": "stream",
     "text": [
      "[0, 4, 16]\n"
     ]
    }
   ],
   "source": [
    "nums = [0, 1, 2, 3, 4]\n",
    "cuadrados_pares = [x ** 2 for x in nums if x % 2 == 0]\n",
    "print (cuadrados_pares)"
   ]
  },
  {
   "cell_type": "markdown",
   "metadata": {},
   "source": [
    "### Diccionarios"
   ]
  },
  {
   "cell_type": "markdown",
   "metadata": {},
   "source": [
    "Un diccionario almacena pares (clave, valor) parecidos a un Mapa en Java o un objeto en Javascript. Puedes usarlo así:"
   ]
  },
  {
   "cell_type": "code",
   "execution_count": 47,
   "metadata": {},
   "outputs": [
    {
     "name": "stdout",
     "output_type": "stream",
     "text": [
      "lindo\n",
      "{'gato': 'lindo', 'perro': 'peludo'}\n"
     ]
    }
   ],
   "source": [
    "d = {'gato': 'lindo', 'perro': 'peludo'}  # Crear un nuevo diccionario con algunos datos\n",
    "print (d['gato'])       # Obtener una entrada de un diccionario; imprime \"lindo\"\n",
    "print (d)     # Compruebe si un diccionario tiene una clave dada; imprime \"True\""
   ]
  },
  {
   "cell_type": "code",
   "execution_count": 48,
   "metadata": {},
   "outputs": [
    {
     "name": "stdout",
     "output_type": "stream",
     "text": [
      "mojado\n",
      "{'gato': 'lindo', 'perro': 'peludo', 'pez': 'mojado'}\n",
      "{'gato': 'lindo', 'perro': 'peludo', 'pez': 'seco'}\n"
     ]
    }
   ],
   "source": [
    "d['pez'] = 'mojado' # Agrega o modifica una entrada en un diccionario\n",
    "print (d['pez'])# Imprime \"mojado\"\n",
    "print (d)\n",
    "d['pez'] = 'seco'\n",
    "print (d)"
   ]
  },
  {
   "cell_type": "code",
   "execution_count": 49,
   "metadata": {},
   "outputs": [
    {
     "ename": "KeyError",
     "evalue": "'mono'",
     "output_type": "error",
     "traceback": [
      "\u001b[1;31m---------------------------------------------------------------------------\u001b[0m",
      "\u001b[1;31mKeyError\u001b[0m                                  Traceback (most recent call last)",
      "Input \u001b[1;32mIn [49]\u001b[0m, in \u001b[0;36m<cell line: 1>\u001b[1;34m()\u001b[0m\n\u001b[1;32m----> 1\u001b[0m \u001b[38;5;28mprint\u001b[39m (\u001b[43md\u001b[49m\u001b[43m[\u001b[49m\u001b[38;5;124;43m'\u001b[39;49m\u001b[38;5;124;43mmono\u001b[39;49m\u001b[38;5;124;43m'\u001b[39;49m\u001b[43m]\u001b[49m)\n",
      "\u001b[1;31mKeyError\u001b[0m: 'mono'"
     ]
    }
   ],
   "source": [
    "print (d['mono'])  # KeyError: 'mono' no es una clave de d"
   ]
  },
  {
   "cell_type": "code",
   "execution_count": 50,
   "metadata": {},
   "outputs": [
    {
     "name": "stdout",
     "output_type": "stream",
     "text": [
      "Esa clave no existe\n",
      "seco\n"
     ]
    }
   ],
   "source": [
    "print (d.get('mono', 'Esa clave no existe'))  # Obtener un elemento con un valor predeterminado; imprime \"N / A\"\n",
    "print (d.get('pez', 'N/A'))   # Obtener un elemento con un valor predeterminado; imprime \"mojado\""
   ]
  },
  {
   "cell_type": "code",
   "execution_count": 51,
   "metadata": {},
   "outputs": [
    {
     "name": "stdout",
     "output_type": "stream",
     "text": [
      "N/A\n"
     ]
    }
   ],
   "source": [
    "del d['pez']        # Eliminar un elemento de un diccionario\n",
    "print (d.get('pez', 'N/A')) # \"pez\" ya no es una clave; imprime \"N / A\""
   ]
  },
  {
   "cell_type": "code",
   "execution_count": 53,
   "metadata": {},
   "outputs": [
    {
     "name": "stdout",
     "output_type": "stream",
     "text": [
      "Object `del` not found.\n"
     ]
    }
   ],
   "source": []
  },
  {
   "cell_type": "markdown",
   "metadata": {},
   "source": [
    "Puedes encontrar todo lo que necesitas saber sobre diccionarios en la [documentación](https://docs.python.org/3/library/stdtypes.html#dict)."
   ]
  },
  {
   "cell_type": "markdown",
   "metadata": {},
   "source": [
    "Es fácil de iterar sobre las claves en un diccionario:"
   ]
  },
  {
   "cell_type": "code",
   "execution_count": 54,
   "metadata": {},
   "outputs": [
    {
     "name": "stdout",
     "output_type": "stream",
     "text": [
      "Un pajaro tiene 2 patas\n",
      "Un gato tiene 4 patas\n",
      "Un araña tiene 8 patas\n"
     ]
    }
   ],
   "source": [
    "d = {'pajaro': 2, 'gato': 4, 'araña': 8}\n",
    "for animal in d:\n",
    "    patas = d[animal]\n",
    "    print ('Un %s tiene %d patas' % (animal, patas))"
   ]
  },
  {
   "cell_type": "markdown",
   "metadata": {},
   "source": [
    "Si desea acceder a las claves y sus valores correspondientes, utilice el método items:"
   ]
  },
  {
   "cell_type": "code",
   "execution_count": 64,
   "metadata": {},
   "outputs": [
    {
     "name": "stdout",
     "output_type": "stream",
     "text": [
      "Un araña tiene 8 patas\n",
      "Un gato tiene 4 patas\n",
      "Un pajaro tiene 2 patas\n"
     ]
    }
   ],
   "source": [
    "d = {'pajaro': 2, 'gato': 4, 'araña': 8}\n",
    "for animal, patas in d.items():\n",
    "    print ('Un %s tiene %d patas' % (animal, patas))"
   ]
  },
  {
   "cell_type": "code",
   "execution_count": 60,
   "metadata": {},
   "outputs": [
    {
     "data": {
      "text/plain": [
       "31"
      ]
     },
     "execution_count": 60,
     "metadata": {},
     "output_type": "execute_result"
    }
   ],
   "source": [
    "edad = {'Jose': 31, 'Luis': 23}\n",
    "edad_jose = edad['Jose']\n",
    "edad_jose"
   ]
  },
  {
   "cell_type": "markdown",
   "metadata": {},
   "source": [
    "Diccionario por comprensión: Estos son similares a la lista por comprensión, pero le permiten construir fácilmente diccionarios. Por ejemplo:"
   ]
  },
  {
   "cell_type": "code",
   "execution_count": 61,
   "metadata": {},
   "outputs": [
    {
     "name": "stdout",
     "output_type": "stream",
     "text": [
      "{0: 0, 2: 4, 4: 16}\n"
     ]
    }
   ],
   "source": [
    "nums = [0, 1, 2, 3, 4]\n",
    "cuadrados_numeros_pares = {x: x ** 2 for x in nums if x % 2 == 0}\n",
    "print (cuadrados_numeros_pares)"
   ]
  },
  {
   "cell_type": "markdown",
   "metadata": {},
   "source": [
    "### Conjuntos"
   ]
  },
  {
   "cell_type": "markdown",
   "metadata": {},
   "source": [
    "Un conjunto es una colección desordenada de elementos distintos. Como ejemplo simple, considere lo siguiente:"
   ]
  },
  {
   "cell_type": "code",
   "execution_count": 62,
   "metadata": {},
   "outputs": [
    {
     "name": "stdout",
     "output_type": "stream",
     "text": [
      "True\n",
      "False\n"
     ]
    }
   ],
   "source": [
    "animales = {'gato', 'perro'}\n",
    "print ('gato' in animales)   # Compruebe si un elemento está en un conjunto; imprime \"True\"\n",
    "print ('pez' in animales)    # imprime \"False\"\n"
   ]
  },
  {
   "cell_type": "code",
   "execution_count": 63,
   "metadata": {},
   "outputs": [
    {
     "name": "stdout",
     "output_type": "stream",
     "text": [
      "True\n",
      "3\n"
     ]
    }
   ],
   "source": [
    "animales.add('pez')       # Agregar un elemento a un conjunto\n",
    "print ('pez' in animales)\n",
    "print (len(animales))     # Número de elementos en un conjunto;"
   ]
  },
  {
   "cell_type": "code",
   "execution_count": 65,
   "metadata": {},
   "outputs": [
    {
     "name": "stdout",
     "output_type": "stream",
     "text": [
      "3\n",
      "2\n"
     ]
    },
    {
     "data": {
      "text/plain": [
       "{'perro', 'pez'}"
      ]
     },
     "execution_count": 65,
     "metadata": {},
     "output_type": "execute_result"
    }
   ],
   "source": [
    "animales.add('gato')       # Agregar un elemento que ya está en el conjunto no hace nada\n",
    "print (len(animales))       \n",
    "animales.remove('gato')    # Eliminar un elemento de un conjunto\n",
    "print (len(animales))    \n",
    "animales"
   ]
  },
  {
   "cell_type": "markdown",
   "metadata": {},
   "source": [
    "_Lazos_: Iterar sobre un conjunto tiene la misma sintaxis que iterar sobre una lista; Sin embargo, puesto que los conjuntos están desordenados, no se pueden hacer suposiciones acerca del orden en el que se visitan los elementos del conjunto:"
   ]
  },
  {
   "cell_type": "code",
   "execution_count": 66,
   "metadata": {},
   "outputs": [
    {
     "name": "stdout",
     "output_type": "stream",
     "text": [
      "#1: perro\n",
      "#2: gato\n",
      "#3: pez\n"
     ]
    }
   ],
   "source": [
    "animales = {'gato', 'perro', 'pez'}\n",
    "for idx, animal in enumerate(animales):\n",
    "    print ('#%d: %s' % (idx + 1, animal))\n",
    "# Imprime \"#1: pez\", \"#2: gato\", \"#3: perro\""
   ]
  },
  {
   "cell_type": "markdown",
   "metadata": {},
   "source": [
    "Conjunto por comprensión: Al igual que las listas y los diccionarios, podemos construir fácilmente conjuntos utilizando conjuntos dpor comprensión:"
   ]
  },
  {
   "cell_type": "code",
   "execution_count": 67,
   "metadata": {},
   "outputs": [
    {
     "name": "stdout",
     "output_type": "stream",
     "text": [
      "{0, 1, 2, 3, 4, 5}\n"
     ]
    }
   ],
   "source": [
    "from math import sqrt\n",
    "print ({int(sqrt(x)) for x in range(30)})"
   ]
  },
  {
   "cell_type": "markdown",
   "metadata": {},
   "source": [
    "### Tuplas"
   ]
  },
  {
   "cell_type": "markdown",
   "metadata": {},
   "source": [
    "Una tupla es una lista ordenada (inmutable) de valores. Una tupla es en muchos aspectos similar a una lista; Una de las diferencias más importantes es que las tuplas se pueden utilizar como claves en diccionarios y como elementos de conjuntos, mientras que las listas no pueden. Aquí hay un ejemplo trivial:"
   ]
  },
  {
   "cell_type": "code",
   "execution_count": 69,
   "metadata": {},
   "outputs": [
    {
     "name": "stdout",
     "output_type": "stream",
     "text": [
      "<class 'tuple'>\n",
      "{(0, 1): 0, (1, 2): 1, (2, 3): 2, (3, 4): 3, (4, 5): 4, (5, 6): 5, (6, 7): 6, (7, 8): 7, (8, 9): 8, (9, 10): 9}\n",
      "1\n"
     ]
    }
   ],
   "source": [
    "d = {(x, x + 1): x for x in range(10)}  # Crear un diccionario con claves de tupla\n",
    "t = (5, 6)       # Crear una tupla\n",
    "print (type(t))\n",
    "print (d)       \n",
    "print (d[(1, 2)])"
   ]
  },
  {
   "cell_type": "code",
   "execution_count": 72,
   "metadata": {},
   "outputs": [
    {
     "ename": "TypeError",
     "evalue": "'tuple' object does not support item assignment",
     "output_type": "error",
     "traceback": [
      "\u001b[1;31m---------------------------------------------------------------------------\u001b[0m",
      "\u001b[1;31mTypeError\u001b[0m                                 Traceback (most recent call last)",
      "Input \u001b[1;32mIn [72]\u001b[0m, in \u001b[0;36m<cell line: 1>\u001b[1;34m()\u001b[0m\n\u001b[1;32m----> 1\u001b[0m t[\u001b[38;5;241m1\u001b[39m] \u001b[38;5;241m=\u001b[39m \u001b[38;5;241m3\u001b[39m\n",
      "\u001b[1;31mTypeError\u001b[0m: 'tuple' object does not support item assignment"
     ]
    }
   ],
   "source": [
    "t[1] = 3"
   ]
  },
  {
   "cell_type": "markdown",
   "metadata": {},
   "source": [
    "## Funciones"
   ]
  },
  {
   "cell_type": "markdown",
   "metadata": {},
   "source": [
    "Las funciones de Python se definen mediante la palabra clave `def`. Esta es la sintaxis básica:\n",
    "\n",
    "```python\n",
    "\n",
    "def NombreFuncion(arg1, arg2,... argN):\n",
    "\n",
    "    ''' Documentación'''\n",
    "\n",
    "    sentencias\n",
    "\n",
    "    return <valor>\n",
    "```"
   ]
  },
  {
   "cell_type": "markdown",
   "metadata": {},
   "source": []
  },
  {
   "cell_type": "code",
   "execution_count": 73,
   "metadata": {},
   "outputs": [
    {
     "name": "stdout",
     "output_type": "stream",
     "text": [
      "negativo\n",
      "cero\n",
      "positivo\n"
     ]
    }
   ],
   "source": [
    "def signo(x):\n",
    "    if x > 0:\n",
    "        return 'positivo'\n",
    "    elif x < 0:\n",
    "        return 'negativo'\n",
    "    else:\n",
    "        return 'cero'\n",
    "\n",
    "for x in [-1, 0, 1]:\n",
    "    print (signo(x))"
   ]
  },
  {
   "cell_type": "markdown",
   "metadata": {},
   "source": [
    "Definiremos a menudo las funciones para que tomen argumentos opcionales, como esto:"
   ]
  },
  {
   "cell_type": "code",
   "execution_count": 74,
   "metadata": {},
   "outputs": [
    {
     "name": "stdout",
     "output_type": "stream",
     "text": [
      "Hola, Juan!\n",
      "HOLA, MANUEL\n"
     ]
    }
   ],
   "source": [
    "def hola(nombre, gritar=False):\n",
    "    if gritar:\n",
    "        print ('HOLA, %s' % nombre.upper())\n",
    "    else:\n",
    "        print ('Hola, %s!' % nombre)\n",
    "\n",
    "hola('Juan')\n",
    "hola('Manuel', gritar=True)"
   ]
  },
  {
   "cell_type": "markdown",
   "metadata": {},
   "source": [
    "Si no se conoce el número de argumentos que una función debe aceptar, entonces se usa un símbolo de asterisco antes del argumento"
   ]
  },
  {
   "cell_type": "code",
   "execution_count": 2,
   "metadata": {},
   "outputs": [],
   "source": [
    "def sumar_n(*args):\n",
    "    res = 0\n",
    "    reslist = []\n",
    "    for i in args:\n",
    "        reslist.append(i)\n",
    "    print(reslist)\n",
    "    return sum(reslist)"
   ]
  },
  {
   "cell_type": "code",
   "execution_count": 3,
   "metadata": {},
   "outputs": [
    {
     "name": "stdout",
     "output_type": "stream",
     "text": [
      "[1, 2, 3, 4, 5]\n"
     ]
    },
    {
     "data": {
      "text/plain": [
       "15"
      ]
     },
     "execution_count": 3,
     "metadata": {},
     "output_type": "execute_result"
    }
   ],
   "source": [
    "sumar_n(1,2,3,4,5)"
   ]
  },
  {
   "cell_type": "markdown",
   "metadata": {},
   "source": [
    "#### Funciones lambda\n",
    "\n",
    "Estas son funciones pequeñas que no están definidas con ningún nombre y llevan una sola expresión cuyo resultado se devuelve. Las funciones de Lambda son muy útiles cuando se opera con listas. Estas funciones están definidas por la palabra clave lambda seguida de las variables, dos puntos y la expresión respectiva."
   ]
  },
  {
   "cell_type": "code",
   "execution_count": 4,
   "metadata": {},
   "outputs": [
    {
     "data": {
      "text/plain": [
       "<function __main__.<lambda>(x)>"
      ]
     },
     "execution_count": 4,
     "metadata": {},
     "output_type": "execute_result"
    }
   ],
   "source": [
    "lambda x: x * x"
   ]
  },
  {
   "cell_type": "markdown",
   "metadata": {},
   "source": [
    "Las funciones lambda se pueden invocar en el momento de definirlas:"
   ]
  },
  {
   "cell_type": "code",
   "execution_count": 6,
   "metadata": {},
   "outputs": [
    {
     "data": {
      "text/plain": [
       "25"
      ]
     },
     "execution_count": 6,
     "metadata": {},
     "output_type": "execute_result"
    }
   ],
   "source": [
    "(lambda x: x * x) (5)"
   ]
  },
  {
   "cell_type": "markdown",
   "metadata": {},
   "source": [
    "Tambien se pueden asignar a una variable:"
   ]
  },
  {
   "cell_type": "code",
   "execution_count": 8,
   "metadata": {},
   "outputs": [
    {
     "data": {
      "text/plain": [
       "64"
      ]
     },
     "execution_count": 8,
     "metadata": {},
     "output_type": "execute_result"
    }
   ],
   "source": [
    "z = lambda x: x * x\n",
    "z(8)"
   ]
  },
  {
   "cell_type": "markdown",
   "metadata": {},
   "source": [
    "### Función `map`\n",
    "\n",
    "La función `map()` básicamente ejecuta la función que se define para cada elemento de la lista por separado."
   ]
  },
  {
   "cell_type": "code",
   "execution_count": 12,
   "metadata": {},
   "outputs": [
    {
     "data": {
      "text/plain": [
       "[3, 4, 5, 6, 7, 8, 9, 10, 11]"
      ]
     },
     "execution_count": 12,
     "metadata": {},
     "output_type": "execute_result"
    }
   ],
   "source": [
    "lista1 = [1,2,3,4,5,6,7,8,9]\n",
    "eg = map(lambda x:x+2, lista1)\n",
    "list(eg)"
   ]
  },
  {
   "cell_type": "code",
   "execution_count": 13,
   "metadata": {},
   "outputs": [
    {
     "data": {
      "text/plain": [
       "[10, 10, 10, 10, 10, 10, 10, 10, 10]"
      ]
     },
     "execution_count": 13,
     "metadata": {},
     "output_type": "execute_result"
    }
   ],
   "source": [
    "lista2 = [9,8,7,6,5,4,3,2,1]\n",
    "eg2 = map(lambda x,y:x+y, lista1,lista2)\n",
    "list(eg2)"
   ]
  },
  {
   "cell_type": "markdown",
   "metadata": {},
   "source": [
    "### Función `filter`\n",
    "\n",
    "La función `filter()` se utiliza para filtrar los valores en una lista. Tenga en cuenta que la función `filter()` devuelve el resultado como un objeto `filter`."
   ]
  },
  {
   "cell_type": "markdown",
   "metadata": {},
   "source": [
    "Obtener los elementos menores que 5:"
   ]
  },
  {
   "cell_type": "code",
   "execution_count": 19,
   "metadata": {},
   "outputs": [
    {
     "data": {
      "text/plain": [
       "<filter at 0x11495cf28>"
      ]
     },
     "execution_count": 19,
     "metadata": {},
     "output_type": "execute_result"
    }
   ],
   "source": [
    "filter(lambda x:x<5,lista1)"
   ]
  },
  {
   "cell_type": "markdown",
   "metadata": {},
   "source": [
    "Para obtener la lista se debe pasar el objeto `filter` a la función `list()`"
   ]
  },
  {
   "cell_type": "code",
   "execution_count": 20,
   "metadata": {},
   "outputs": [
    {
     "data": {
      "text/plain": [
       "[1, 2, 3, 4]"
      ]
     },
     "execution_count": 20,
     "metadata": {},
     "output_type": "execute_result"
    }
   ],
   "source": [
    "list(filter(lambda x:x<5,lista1))"
   ]
  },
  {
   "cell_type": "markdown",
   "metadata": {},
   "source": [
    "## Iteradores y Generadores"
   ]
  },
  {
   "cell_type": "markdown",
   "metadata": {},
   "source": [
    "En Python, todo sobre lo que se puede iterar se llama iterable:"
   ]
  },
  {
   "cell_type": "code",
   "execution_count": 21,
   "metadata": {},
   "outputs": [
    {
     "name": "stdout",
     "output_type": "stream",
     "text": [
      "MANZANA\n",
      "CAMBUR\n",
      "NARANJA\n"
     ]
    }
   ],
   "source": [
    "tazon = {\n",
    "    \"manzana\": 5,\n",
    "    \"cambur\": 3,\n",
    "    \"naranja\": 7\n",
    "}\n",
    "\n",
    "for fruta in tazon:\n",
    "    print(fruta.upper())"
   ]
  },
  {
   "cell_type": "markdown",
   "metadata": {},
   "source": [
    "Muy a menudo, queremos iterar sobre algo que requiere una cantidad moderadamente grande de memoria para almacenar"
   ]
  },
  {
   "cell_type": "markdown",
   "metadata": {},
   "source": [
    "### Iterador"
   ]
  },
  {
   "cell_type": "markdown",
   "metadata": {},
   "source": [
    "Considere la función básica `range` de Python:"
   ]
  },
  {
   "cell_type": "code",
   "execution_count": 22,
   "metadata": {},
   "outputs": [
    {
     "data": {
      "text/plain": [
       "499999500000"
      ]
     },
     "execution_count": 22,
     "metadata": {},
     "output_type": "execute_result"
    }
   ],
   "source": [
    "range(10)\n",
    "range(0, 10)\n",
    "total = 0\n",
    "for x in range(int(1e6)):\n",
    "    total += x\n",
    "\n",
    "total"
   ]
  },
  {
   "cell_type": "markdown",
   "metadata": {},
   "source": [
    "Para evitar la asignación de un millón de enteros, `range` realmente utiliza un iterador.\n",
    "\n",
    "En realidad, no necesitamos un millón de números enteros a la vez, solo cada número entero a su vez hasta un millón.\n",
    "\n",
    "Debido a que podemos obtener un iterador, decimos que un rango es iterable.\n",
    "\n",
    "Entonces podemos hacer un bucle sobre él:"
   ]
  },
  {
   "cell_type": "code",
   "execution_count": 23,
   "metadata": {},
   "outputs": [
    {
     "name": "stdout",
     "output_type": "stream",
     "text": [
      "0\n",
      "1\n",
      "2\n"
     ]
    }
   ],
   "source": [
    "for i in range(3): \n",
    "    print(i)"
   ]
  },
  {
   "cell_type": "markdown",
   "metadata": {},
   "source": [
    "Una vez que tenemos un objeto iterador, podemos pasarlo a la función `next`. Esto mueve el iterador hacia adelante y nos da su siguiente elemento:"
   ]
  },
  {
   "cell_type": "code",
   "execution_count": 25,
   "metadata": {},
   "outputs": [],
   "source": [
    "a = iter(range(3))"
   ]
  },
  {
   "cell_type": "code",
   "execution_count": 26,
   "metadata": {},
   "outputs": [
    {
     "data": {
      "text/plain": [
       "range_iterator"
      ]
     },
     "execution_count": 26,
     "metadata": {},
     "output_type": "execute_result"
    }
   ],
   "source": [
    "type(a)"
   ]
  },
  {
   "cell_type": "code",
   "execution_count": 27,
   "metadata": {},
   "outputs": [
    {
     "data": {
      "text/plain": [
       "0"
      ]
     },
     "execution_count": 27,
     "metadata": {},
     "output_type": "execute_result"
    }
   ],
   "source": [
    "next(a)"
   ]
  },
  {
   "cell_type": "code",
   "execution_count": 28,
   "metadata": {},
   "outputs": [
    {
     "data": {
      "text/plain": [
       "1"
      ]
     },
     "execution_count": 28,
     "metadata": {},
     "output_type": "execute_result"
    }
   ],
   "source": [
    "next(a)"
   ]
  },
  {
   "cell_type": "code",
   "execution_count": 29,
   "metadata": {},
   "outputs": [
    {
     "data": {
      "text/plain": [
       "2"
      ]
     },
     "execution_count": 29,
     "metadata": {},
     "output_type": "execute_result"
    }
   ],
   "source": [
    "next(a)"
   ]
  },
  {
   "cell_type": "code",
   "execution_count": 30,
   "metadata": {},
   "outputs": [
    {
     "ename": "StopIteration",
     "evalue": "",
     "output_type": "error",
     "traceback": [
      "\u001b[0;31m---------------------------------------------------------------------------\u001b[0m",
      "\u001b[0;31mStopIteration\u001b[0m                             Traceback (most recent call last)",
      "\u001b[0;32m<ipython-input-30-15841f3f11d4>\u001b[0m in \u001b[0;36m<module>\u001b[0;34m\u001b[0m\n\u001b[0;32m----> 1\u001b[0;31m \u001b[0mnext\u001b[0m\u001b[0;34m(\u001b[0m\u001b[0ma\u001b[0m\u001b[0;34m)\u001b[0m\u001b[0;34m\u001b[0m\u001b[0;34m\u001b[0m\u001b[0m\n\u001b[0m",
      "\u001b[0;31mStopIteration\u001b[0m: "
     ]
    }
   ],
   "source": [
    "next(a)"
   ]
  },
  {
   "cell_type": "markdown",
   "metadata": {},
   "source": [
    "Esto le dice a Python que la iteración ha terminado. Por ejemplo, si estamos en un bucle `for i in range(3)` , esto nos permite saber cuándo debemos salir del bucle.\n",
    "\n",
    "Podemos convertir un iterable o iterador en una lista con el constructor de listas `list()`:"
   ]
  },
  {
   "cell_type": "code",
   "execution_count": 31,
   "metadata": {},
   "outputs": [
    {
     "data": {
      "text/plain": [
       "[0, 1, 2, 3, 4]"
      ]
     },
     "execution_count": 31,
     "metadata": {},
     "output_type": "execute_result"
    }
   ],
   "source": [
    "list(range(5))"
   ]
  },
  {
   "cell_type": "markdown",
   "metadata": {},
   "source": [
    "### Definir nuestro propio iterable"
   ]
  },
  {
   "cell_type": "markdown",
   "metadata": {},
   "source": [
    "Cuando escribimos el  `next(a)`, internamente Python intenta llamar al método `__next__ ()` de a. Del mismo modo, `iter(a)` llama `a.__iter__ ()`.\n",
    "\n",
    "Podemos hacer nuestros propios iteradores definiendo clases que se puedan usar con las funciones `next()` e `iter()`: este es el protocolo del iterador.\n",
    "\n",
    "Para cada uno de los conceptos en Python, como secuencia, contenedor, iterable, el lenguaje define un protocolo, un conjunto de métodos que una clase debe implementar para ser tratado como un miembro de ese concepto.\n",
    "\n",
    "Para definir un iterador, los métodos que deben admitirse son `__next__ ()` y `__iter__()`.\n",
    "\n",
    "`__next__ ()` debe actualizar el iterador.\n",
    "\n",
    "Veremos por qué necesitamos definir `__iter__` en un momento.\n",
    "\n",
    "Aquí hay un ejemplo de cómo definir una clase de iterador personalizado:"
   ]
  },
  {
   "cell_type": "code",
   "execution_count": 39,
   "metadata": {},
   "outputs": [],
   "source": [
    "class fib_iterator:\n",
    "    \"\"\"Un iterador sobre una parte de la secuencia de Fibonacci.\"\"\"\n",
    "\n",
    "    def __init__(self, limite, semilla1=1, semilla2=1):\n",
    "        self.limite = limite\n",
    "        self.previo = semilla1\n",
    "        self.actual = semilla2\n",
    "\n",
    "    def __iter__(self):\n",
    "        return self\n",
    "\n",
    "    def __next__(self):\n",
    "        (self.previo, self.actual) = (self.actual, self.previo + self.actual)\n",
    "        self.limite -= 1\n",
    "        if self.limite < 0:\n",
    "            raise StopIteration()\n",
    "        return self.actual"
   ]
  },
  {
   "cell_type": "code",
   "execution_count": 40,
   "metadata": {},
   "outputs": [
    {
     "data": {
      "text/plain": [
       "2"
      ]
     },
     "execution_count": 40,
     "metadata": {},
     "output_type": "execute_result"
    }
   ],
   "source": [
    "x = fib_iterator(5)\n",
    "next(x)"
   ]
  },
  {
   "cell_type": "code",
   "execution_count": 41,
   "metadata": {},
   "outputs": [
    {
     "data": {
      "text/plain": [
       "3"
      ]
     },
     "execution_count": 41,
     "metadata": {},
     "output_type": "execute_result"
    }
   ],
   "source": [
    "next(x)"
   ]
  },
  {
   "cell_type": "code",
   "execution_count": 42,
   "metadata": {},
   "outputs": [
    {
     "data": {
      "text/plain": [
       "5"
      ]
     },
     "execution_count": 42,
     "metadata": {},
     "output_type": "execute_result"
    }
   ],
   "source": [
    "next(x)"
   ]
  },
  {
   "cell_type": "code",
   "execution_count": 43,
   "metadata": {},
   "outputs": [
    {
     "name": "stdout",
     "output_type": "stream",
     "text": [
      "2\n",
      "3\n",
      "5\n",
      "8\n",
      "13\n"
     ]
    }
   ],
   "source": [
    "for x in fib_iterator(5):\n",
    "    print(x)"
   ]
  },
  {
   "cell_type": "code",
   "execution_count": 44,
   "metadata": {},
   "outputs": [
    {
     "data": {
      "text/plain": [
       "297924218508143360336882819981631900915673130543819759032778173440536722190488904520034508163846345539055096533885943242814978469042830417586260359446115245634668393210192357419233828310479227982326069668668250"
      ]
     },
     "execution_count": 44,
     "metadata": {},
     "output_type": "execute_result"
    }
   ],
   "source": [
    "sum(fib_iterator(1000))"
   ]
  },
  {
   "cell_type": "markdown",
   "metadata": {},
   "source": [
    "### Generadores"
   ]
  },
  {
   "cell_type": "markdown",
   "metadata": {},
   "source": [
    "Hay una buena cantidad de código repetitivo en la definición basada en la clase anterior de un iterable.\n",
    "\n",
    "Python proporciona otra forma de especificar algo que cumple con el protocolo `iterator`: generadores."
   ]
  },
  {
   "cell_type": "code",
   "execution_count": 45,
   "metadata": {},
   "outputs": [],
   "source": [
    "def mi_generador():\n",
    "    yield 5\n",
    "    yield 10"
   ]
  },
  {
   "cell_type": "code",
   "execution_count": 46,
   "metadata": {},
   "outputs": [
    {
     "data": {
      "text/plain": [
       "5"
      ]
     },
     "execution_count": 46,
     "metadata": {},
     "output_type": "execute_result"
    }
   ],
   "source": [
    "x = mi_generador()\n",
    "next(x)"
   ]
  },
  {
   "cell_type": "code",
   "execution_count": 47,
   "metadata": {},
   "outputs": [
    {
     "data": {
      "text/plain": [
       "10"
      ]
     },
     "execution_count": 47,
     "metadata": {},
     "output_type": "execute_result"
    }
   ],
   "source": [
    "next(x)"
   ]
  },
  {
   "cell_type": "code",
   "execution_count": 48,
   "metadata": {},
   "outputs": [
    {
     "ename": "StopIteration",
     "evalue": "",
     "output_type": "error",
     "traceback": [
      "\u001b[0;31m---------------------------------------------------------------------------\u001b[0m",
      "\u001b[0;31mStopIteration\u001b[0m                             Traceback (most recent call last)",
      "\u001b[0;32m<ipython-input-48-92de4e9f6b1e>\u001b[0m in \u001b[0;36m<module>\u001b[0;34m\u001b[0m\n\u001b[0;32m----> 1\u001b[0;31m \u001b[0mnext\u001b[0m\u001b[0;34m(\u001b[0m\u001b[0mx\u001b[0m\u001b[0;34m)\u001b[0m\u001b[0;34m\u001b[0m\u001b[0;34m\u001b[0m\u001b[0m\n\u001b[0m",
      "\u001b[0;31mStopIteration\u001b[0m: "
     ]
    }
   ],
   "source": [
    "next(x)"
   ]
  },
  {
   "cell_type": "code",
   "execution_count": 49,
   "metadata": {},
   "outputs": [
    {
     "name": "stdout",
     "output_type": "stream",
     "text": [
      "5\n",
      "10\n"
     ]
    }
   ],
   "source": [
    "for a in mi_generador():\n",
    "    print(a)"
   ]
  },
  {
   "cell_type": "code",
   "execution_count": 50,
   "metadata": {},
   "outputs": [
    {
     "data": {
      "text/plain": [
       "15"
      ]
     },
     "execution_count": 50,
     "metadata": {},
     "output_type": "execute_result"
    }
   ],
   "source": [
    "sum(mi_generador())"
   ]
  },
  {
   "cell_type": "markdown",
   "metadata": {},
   "source": [
    "Una función que tiene sentencias `yield` en lugar de una sentencia de `return` regresa temporalmente: se convierte automáticamente en algo que implementa `__next__`.\n",
    "\n",
    "Cada llamada de `next()` devuelve el control a la función donde la dejó.\n",
    "\n",
    "El control pasa de un lado a otro entre el generador y la persona que llama. Nuestro ejemplo de Fibonacci, por lo tanto, se convierte en una función más que en una clase."
   ]
  },
  {
   "cell_type": "code",
   "execution_count": 51,
   "metadata": {},
   "outputs": [],
   "source": [
    "def generador_fibs(limite, semilla1=1, semilla2=1):\n",
    "    actual = semilla1\n",
    "    previo = semilla2\n",
    "\n",
    "    while limite > 0:\n",
    "        limite -= 1\n",
    "        actual, previo = actual + previo, actual\n",
    "        yield actual"
   ]
  },
  {
   "cell_type": "code",
   "execution_count": 52,
   "metadata": {},
   "outputs": [
    {
     "data": {
      "text/plain": [
       "31"
      ]
     },
     "execution_count": 52,
     "metadata": {},
     "output_type": "execute_result"
    }
   ],
   "source": [
    "sum(generador_fibs(5))"
   ]
  },
  {
   "cell_type": "code",
   "execution_count": 53,
   "metadata": {},
   "outputs": [
    {
     "name": "stdout",
     "output_type": "stream",
     "text": [
      "2\n",
      "8\n",
      "34\n",
      "144\n"
     ]
    }
   ],
   "source": [
    "for a in generador_fibs(10):\n",
    "    if a % 2 == 0:\n",
    "        print(a)"
   ]
  },
  {
   "cell_type": "markdown",
   "metadata": {},
   "source": [
    "A veces es posible que necesitemos reunir todos los valores de un generador en una lista, como antes de pasarlos a una función que espera una lista:"
   ]
  },
  {
   "cell_type": "code",
   "execution_count": 54,
   "metadata": {},
   "outputs": [
    {
     "data": {
      "text/plain": [
       "[2, 3, 5, 8, 13, 21, 34, 55, 89, 144]"
      ]
     },
     "execution_count": 54,
     "metadata": {},
     "output_type": "execute_result"
    }
   ],
   "source": [
    "list(generador_fibs(10))"
   ]
  },
  {
   "cell_type": "code",
   "execution_count": 58,
   "metadata": {},
   "outputs": [
    {
     "data": {
      "text/plain": [
       "[<matplotlib.lines.Line2D at 0x11c141a90>]"
      ]
     },
     "execution_count": 58,
     "metadata": {},
     "output_type": "execute_result"
    },
    {
     "data": {
      "image/png": "[encoded data removed]",
      "text/plain": [
       "<Figure size 432x288 with 1 Axes>"
      ]
     },
     "metadata": {
      "needs_background": "light"
     },
     "output_type": "display_data"
    }
   ],
   "source": [
    "%matplotlib inline\n",
    "import matplotlib.pyplot as plt\n",
    "\n",
    "plt.plot(list(generador_fibs(20)))"
   ]
  },
  {
   "cell_type": "markdown",
   "metadata": {},
   "source": [
    "### Clases"
   ]
  },
  {
   "cell_type": "markdown",
   "metadata": {},
   "source": [
    "Para definir una clase en la programación de Python, utilizamos la palabra clave `class`. Es como si usáramos `def` para definir una función en Python. Y como una función, una clase Python3 también puede tener una cadena de documentación."
   ]
  },
  {
   "cell_type": "code",
   "execution_count": 59,
   "metadata": {},
   "outputs": [],
   "source": [
    "class fruta:\n",
    "    '''Esta clase crea instancias de frutas'''\n",
    "    pass"
   ]
  },
  {
   "cell_type": "code",
   "execution_count": 60,
   "metadata": {},
   "outputs": [
    {
     "data": {
      "text/plain": [
       "__main__.fruta"
      ]
     },
     "execution_count": 60,
     "metadata": {},
     "output_type": "execute_result"
    }
   ],
   "source": [
    "fruta"
   ]
  },
  {
   "cell_type": "markdown",
   "metadata": {},
   "source": [
    "Una clase Python3 puede tener atributos y métodos para ejecutarse en esos datos."
   ]
  },
  {
   "cell_type": "code",
   "execution_count": 61,
   "metadata": {},
   "outputs": [],
   "source": [
    "class fruta:\n",
    "    '''Esta clase crea instancias de frutas'''\n",
    "    color = ''\n",
    "    def decir_hola(self):\n",
    "        print('Hola')"
   ]
  },
  {
   "cell_type": "code",
   "execution_count": 63,
   "metadata": {},
   "outputs": [
    {
     "data": {
      "text/plain": [
       "<__main__.fruta at 0x11c092ef0>"
      ]
     },
     "execution_count": 63,
     "metadata": {},
     "output_type": "execute_result"
    }
   ],
   "source": [
    "naranja = fruta()\n",
    "naranja"
   ]
  },
  {
   "cell_type": "markdown",
   "metadata": {},
   "source": [
    "También puede crear un atributo sobre la marcha."
   ]
  },
  {
   "cell_type": "code",
   "execution_count": 64,
   "metadata": {},
   "outputs": [
    {
     "data": {
      "text/plain": [
       "'Redonda'"
      ]
     },
     "execution_count": 64,
     "metadata": {},
     "output_type": "execute_result"
    }
   ],
   "source": [
    "naranja.forma = 'Redonda'\n",
    "naranja.forma"
   ]
  },
  {
   "cell_type": "markdown",
   "metadata": {},
   "source": [
    "Acceso a miembros de una clase en Python"
   ]
  },
  {
   "cell_type": "code",
   "execution_count": 65,
   "metadata": {},
   "outputs": [
    {
     "data": {
      "text/plain": [
       "''"
      ]
     },
     "execution_count": 65,
     "metadata": {},
     "output_type": "execute_result"
    }
   ],
   "source": [
    "naranja.color"
   ]
  },
  {
   "cell_type": "markdown",
   "metadata": {},
   "source": [
    "Esto devuelve una cadena vacía porque eso es lo que especificamos en la definición de clase."
   ]
  },
  {
   "cell_type": "code",
   "execution_count": 66,
   "metadata": {},
   "outputs": [
    {
     "name": "stdout",
     "output_type": "stream",
     "text": [
      "Hola\n"
     ]
    }
   ],
   "source": [
    "naranja.decir_hola()"
   ]
  },
  {
   "cell_type": "markdown",
   "metadata": {},
   "source": [
    "Aquí, llamamos al método `decir_hola()` en naranja. Un método puede tomar argumentos, si se define de esa manera."
   ]
  },
  {
   "cell_type": "code",
   "execution_count": 67,
   "metadata": {},
   "outputs": [],
   "source": [
    "class fruta:\n",
    "    '''Esta clase crea instancias de frutas'''\n",
    "    color = ''\n",
    "    def decir_hola(self):\n",
    "        print('Hola')\n",
    "        \n",
    "    def tamaño(self, x):\n",
    "        print(f'Mi tamaño es {x}')"
   ]
  },
  {
   "cell_type": "code",
   "execution_count": 68,
   "metadata": {},
   "outputs": [
    {
     "name": "stdout",
     "output_type": "stream",
     "text": [
      "Mi tamaño es 7\n"
     ]
    }
   ],
   "source": [
    "naranja = fruta()\n",
    "naranja.tamaño(7)"
   ]
  },
  {
   "cell_type": "markdown",
   "metadata": {},
   "source": [
    "Una clase de Python también puede tener algunos atributos especiales, como `__doc__` para la cadena de documentación."
   ]
  },
  {
   "cell_type": "code",
   "execution_count": 69,
   "metadata": {},
   "outputs": [
    {
     "data": {
      "text/plain": [
       "'Esta clase crea instancias de frutas'"
      ]
     },
     "execution_count": 69,
     "metadata": {},
     "output_type": "execute_result"
    }
   ],
   "source": [
    "fruta.__doc__"
   ]
  },
  {
   "cell_type": "markdown",
   "metadata": {},
   "source": [
    "Constructor se define con el metodo `__init__()`"
   ]
  },
  {
   "cell_type": "code",
   "execution_count": 71,
   "metadata": {},
   "outputs": [],
   "source": [
    "class fruta:\n",
    "    '''Esta clase crea instancias de frutas'''\n",
    "    def __init__(self, color, tamaño):\n",
    "        self.color = color\n",
    "        self.tamaño = tamaño\n",
    "        \n",
    "    def saludo(self):\n",
    "        print(f'Mi color es {self.color} y mi tamaño es {self.tamaño}')"
   ]
  },
  {
   "cell_type": "code",
   "execution_count": 72,
   "metadata": {},
   "outputs": [
    {
     "name": "stdout",
     "output_type": "stream",
     "text": [
      "Mi color es anaranjado y mi tamaño es 7\n"
     ]
    }
   ],
   "source": [
    "naranja = fruta('anaranjado', 7)\n",
    "naranja.saludo()"
   ]
  },
  {
   "cell_type": "markdown",
   "metadata": {},
   "source": [
    "Atributos de la clase"
   ]
  },
  {
   "cell_type": "code",
   "execution_count": 73,
   "metadata": {},
   "outputs": [],
   "source": [
    "class fruta:\n",
    "    '''Esta clase crea instancias de frutas'''\n",
    "    forma = 'Redonda'\n",
    "    def __init__(self, color, tamaño):\n",
    "        self.color = color\n",
    "        self.tamaño = tamaño\n",
    "        \n",
    "    def saludo(self):\n",
    "        print(f'Mi color es {self.color} y mi tamaño es {self.tamaño}')"
   ]
  },
  {
   "cell_type": "code",
   "execution_count": 74,
   "metadata": {},
   "outputs": [
    {
     "data": {
      "text/plain": [
       "'Redonda'"
      ]
     },
     "execution_count": 74,
     "metadata": {},
     "output_type": "execute_result"
    }
   ],
   "source": [
    "fruta.forma"
   ]
  },
  {
   "cell_type": "markdown",
   "metadata": {},
   "source": [
    "Otro ejemplo"
   ]
  },
  {
   "cell_type": "code",
   "execution_count": 75,
   "metadata": {},
   "outputs": [
    {
     "name": "stdout",
     "output_type": "stream",
     "text": [
      "Hola, Fred\n",
      "HOLA, FRED!\n"
     ]
    }
   ],
   "source": [
    "class Saludo:\n",
    "\n",
    "    # Constructor\n",
    "    def __init__(self, nombre):\n",
    "        self.nombre = nombre  # Crear una variable de instancia\n",
    "\n",
    "    # Método de instancia\n",
    "    def saludar(self, gritar=False):\n",
    "        if gritar:\n",
    "            print ('HOLA, %s!' % self.nombre.upper())\n",
    "        else:\n",
    "            print ('Hola, %s' % self.nombre)\n",
    "\n",
    "s = Saludo('Fred')  # Construct an instance of the Greeter class\n",
    "s.saludar()            # Call an instance method; prints \"Hello, Fred\"\n",
    "s.saludar(gritar=True)   # Call an instance method; prints \"HELLO, FRED!\""
   ]
  },
  {
   "cell_type": "markdown",
   "metadata": {},
   "source": [
    "## Ejercicio\n",
    "\n",
    "Desarrolle un programa en Phyton 3 que implemente el juego de adivinar un número entre 1 y 100:\n",
    "\n",
    "- Pida al jugador que ingrese su nombre. Utilice su nombre para imprimir un saludo.\n",
    "- Genere un número aleatorio de 1 a 100 y guárdelo como un número objetivo para que el jugador lo adivine.\n",
    "- Lleve un registro de cuántas suposiciones ha hecho el jugador. Antes de cada suposición, hágales saber cuántas suposiciones (de 10) que han dejado.\n",
    "- Pida al jugador que adivine cuál es el número objetivo.\n",
    "- Si la suposición del jugador es menor que el número objetivo, diga \"Oops. Su conjetura fue baja\". Si la suposición del jugador es mayor que el número objetivo, diga \"Oops. Su conjetura fue alta\".\n",
    "- Si la suposición del jugador es igual al número objetivo, dígales \"Buen trabajo, [nombre]! ¿Adivinaste mi número en [número de conjeturas] conjeturas!\"\n",
    "- Si el jugador se queda sin turnos sin adivinar correctamente, diga \"Lo siento, no obtuvo mi número, mi número fue [objetivo]\".\n",
    "- Sigue permitiendo que el jugador adivine hasta que lo logren, o se quedan sin turnos."
   ]
  },
  {
   "cell_type": "markdown",
   "metadata": {},
   "source": [
    "## __Referencias__\n",
    "\n",
    "* Tutorial de Python oficial actualizado y traducido al español http://docs.python.org.ar/tutorial/\n",
    "* Curso de introducción a Python para científicos e ingenieros de la Universidad de Alicante en Youtube https://www.youtube.com/playlist?list=PLoGFizEtm_6iheDXw2-8onKClyxgstBO1\n",
    "* Introducción a la programación con Python, Universitat Jaume I http://repositori.uji.es/xmlui/bitstream/10234/102653/1/s93.pdf"
   ]
  }
 ],
 "metadata": {
  "anaconda-cloud": {},
  "kernelspec": {
   "display_name": "Python 3 (ipykernel)",
   "language": "python",
   "name": "python3"
  },
  "language_info": {
   "codemirror_mode": {
    "name": "ipython",
    "version": 3
   },
   "file_extension": ".py",
   "mimetype": "text/x-python",
   "name": "python",
   "nbconvert_exporter": "python",
   "pygments_lexer": "ipython3",
   "version": "3.8.13"
  }
 },
 "nbformat": 4,
 "nbformat_minor": 4
}
