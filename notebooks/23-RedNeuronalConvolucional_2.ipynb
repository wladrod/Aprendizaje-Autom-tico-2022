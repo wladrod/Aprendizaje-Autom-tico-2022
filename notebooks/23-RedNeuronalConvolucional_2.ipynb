{
 "cells": [
  {
   "cell_type": "markdown",
   "metadata": {},
   "source": [
    "# Clasificar dígitos escritos a mano MNIST usando una Red Neuronal Convolucional"
   ]
  },
  {
   "cell_type": "markdown",
   "metadata": {},
   "source": [
    "### Arquitectura de la Red Neuronal Convolucional"
   ]
  },
  {
   "cell_type": "markdown",
   "metadata": {},
   "source": [
    "<img src=\"../figuras/ArquitecturaRNC_MNIST.png\" width=\"100%\">\n",
    "\n",
    "Como se puede observar, comenzamos con las imágenes de dígitos en escala de grises MNIST 28 × 28. Luego creamos 32, 5 × 5 filtros convolucionales/canales más activaciones de nodos ReLU. Después de esto, tenemos una altura y un ancho de 24. A continuación, realizamos una reducción  aplicando una operación de reducción por valor máximo de 2 × 2 con una paso de 2, resultando en una altura y un ancho de 12. La capa segunda capa consiste en la misma estructura, pero ahora con 64 filtros/canales (altura y ancho de 8) y otra reducción por valor máximo con paso de 2 (altura y ancho de 4). A continuación, aplanamos la salida para obtener una capa completamente conectada con 1024 nodos (4 * 4 * 64), seguida de otra capa oculta de 100 nodos. Estas capas usarán activaciones de nodo ReLU. Finalmente, usamos una capa de clasificación de softmax para dar salida a las probabilidades de los 10 dígitos."
   ]
  },
  {
   "cell_type": "markdown",
   "metadata": {},
   "source": [
    "### Formulas para calcular los tamaños de salida de las capas de convolución y *pooling* (agregación o reducción)"
   ]
  },
  {
   "cell_type": "markdown",
   "metadata": {},
   "source": [
    "La formula que relaciona el tamaño de salida de la convolución con el tamaño de la entrada es:\n",
    "\n",
    "$$ W = \\lfloor \\frac{W_{prev} - f + 2 \\times relleno}{paso} \\rfloor +1 $$\n",
    "\n",
    "$$f = \\text{número de filtros usados en la convolución}$$\n",
    "\n",
    "La formula que relaciona el tamaño de salida del *pooling* con el tamaño de la entrada es:\n",
    "\n",
    "$$ W = \\lfloor \\frac{W_{prev} - f}{paso} \\rfloor +1 $$\n",
    "\n",
    "$$f = \\text{tamaño de la ventana de pooling}$$"
   ]
  },
  {
   "cell_type": "markdown",
   "metadata": {
    "tags": []
   },
   "source": [
    "### Importar librerías"
   ]
  },
  {
   "cell_type": "code",
   "execution_count": 1,
   "metadata": {},
   "outputs": [],
   "source": [
    "import torch, torchvision\n",
    "from torchvision import datasets, transforms\n",
    "from torch import nn, optim\n",
    "from torch.nn import functional as F\n",
    "\n",
    "import numpy as np"
   ]
  },
  {
   "cell_type": "markdown",
   "metadata": {},
   "source": [
    "### Cargar los datos"
   ]
  },
  {
   "cell_type": "code",
   "execution_count": 2,
   "metadata": {},
   "outputs": [],
   "source": [
    "dispositivo = 'cuda' if torch.cuda.is_available() else 'cpu'\n",
    "# Definir una transformación para normalizaz la data\n",
    "transformacion = transforms.Compose([transforms.ToTensor(),\n",
    "                              transforms.Normalize((0.5,), (0.5,)),\n",
    "                              ])\n",
    "\n",
    "# Bajar y cargar la data de entrenamiento \n",
    "datos_entrenamiento = datasets.MNIST('../datos/MNIST_data/', download=True, train=True, transform=transformacion)\n",
    "datos_validacion = datasets.MNIST('../datos/MNIST_data/', download=True, train=False, transform=transformacion)\n",
    "cargador_entrenamiento = torch.utils.data.DataLoader(datos_entrenamiento, batch_size=64, shuffle=True)\n",
    "cargador_validacion = torch.utils.data.DataLoader(datos_validacion, batch_size=64, shuffle=True)"
   ]
  },
  {
   "cell_type": "markdown",
   "metadata": {},
   "source": [
    "### Definir el modelo en PyTorch"
   ]
  },
  {
   "cell_type": "code",
   "execution_count": 3,
   "metadata": {},
   "outputs": [],
   "source": [
    "class RedConvolucional(nn.Module):\n",
    "    def __init__(self):\n",
    "        super(RedConvolucional, self).__init__()\n",
    "\n",
    "        self.conv_layers = nn.Sequential(\n",
    "            nn.Conv2d(1, 32, kernel_size=5),\n",
    "            nn.MaxPool2d(2),\n",
    "            nn.ReLU(),\n",
    "            nn.Conv2d(32, 64, kernel_size=5),\n",
    "            nn.Dropout(),\n",
    "            nn.MaxPool2d(2),\n",
    "            nn.ReLU(),\n",
    "        )\n",
    "        self.fc_layers = nn.Sequential(\n",
    "            nn.Linear(1024, 100),\n",
    "            nn.ReLU(),\n",
    "            nn.Dropout(),\n",
    "            nn.Linear(100, 10),\n",
    "            nn.Softmax(dim=1)\n",
    "        )\n",
    "\n",
    "    def forward(self, x):\n",
    "        x = self.conv_layers(x)\n",
    "        x = x.view(-1, 1024)\n",
    "        x = self.fc_layers(x)\n",
    "        return x"
   ]
  },
  {
   "cell_type": "markdown",
   "metadata": {},
   "source": [
    "### Definir funciones de entrenamiento y de prueba"
   ]
  },
  {
   "cell_type": "code",
   "execution_count": 10,
   "metadata": {},
   "outputs": [],
   "source": [
    "def entrenar(modelo, dispositivo, cargador_entrenamiento, optimizador, perdida_fn, epoca):\n",
    "    modelo.train()\n",
    "    \n",
    "    perdida_actual = 0\n",
    "    for imagenes, etiquetas in cargador_entrenamiento:\n",
    "        # Enviar datos al dispositivo\n",
    "        imagenes, etiquetas = imagenes.to(dispositivo), etiquetas.to(dispositivo)\n",
    "        \n",
    "        # 1. Propagar hacia adelante los datos de entrenamiento usando el método forward()\n",
    "        salida = modelo(imagenes)\n",
    "        \n",
    "        # 2. Calcule la pérdida (qué tan diferentes son las predicciones de nuestros modelos con respecto a la verdad del terreno)\n",
    "        perdida = perdida_fn(salida.log(), etiquetas)\n",
    "        \n",
    "        # 3. Colocar a cero los gradientes del optimizador\n",
    "        optimizador.zero_grad()\n",
    "        \n",
    "        # 4. Propagación hacia atrás\n",
    "        perdida.backward()\n",
    "        \n",
    "        # 5. Realizar paso de optimización\n",
    "        optimizador.step()\n",
    "        \n",
    "        perdida_actual += perdida\n",
    "    \n",
    "    print(f'Epoca: {epoca} | Perdida Entrenamiento: {perdida_actual/len(cargador_entrenamiento):.6f}')\n",
    "    \n",
    "def validar(modelo, dispositivo, cargador_validacion, perdida_fn):\n",
    "      ### Prueba\n",
    "\n",
    "    # Colocar el modelo en modo evaluación\n",
    "    modelo.eval()\n",
    "\n",
    "    with torch.inference_mode():\n",
    "        perdida_actual = 0\n",
    "        for imagenes, etiquetas in cargador_validacion:\n",
    "            # Enviar datos al dispositivo\n",
    "            imagenes, etiquetas = imagenes.to(dispositivo), etiquetas.to(dispositivo)\n",
    "            \n",
    "            # 1. Propagar hacia adelante los datos de entrenamiento usando el método forward()\n",
    "            salida = modelo(imagenes)\n",
    "             # 2. Calcule la pérdida (qué tan diferentes son las predicciones de nuestros modelos con respecto a la verdad del terreno)\n",
    "            perdida = perdida_fn(salida.log(), etiquetas)\n",
    "            \n",
    "            perdida_actual += perdida\n",
    "            \n",
    "        print(f'Epoca: {epoca} | Perdida Validación: {perdida_actual/len(cargador_validacion):.6f}')   \n",
    "            \n",
    "def probar(modelo, dispositivo, cargador_validacion):\n",
    "    modelo.eval()\n",
    "    conteo_correcto, conteo_total = 0, 0\n",
    "    for imagenes,etiquetas in cargador_validacion:\n",
    "        # Enviar datos al dispositivo\n",
    "        imagenes, etiquetas = imagenes.to(dispositivo), etiquetas.to(dispositivo)\n",
    "        for i in range(len(etiquetas)):\n",
    "            imagen = imagenes[i]\n",
    "            # Apagar gradientes para acelerar esta parte\n",
    "            with torch.inference_mode():\n",
    "                logps = modelo(imagen)\n",
    "\n",
    "            # Salida de la red son probabilidades logarítmicas, \n",
    "            # se necesita tomar el exponente para obtener probabilidades\n",
    "            ps = torch.exp(logps)\n",
    "            probab = list(ps.numpy()[0])\n",
    "            etiqueta_predicha = probab.index(max(probab))\n",
    "            etiqueta_verdadera = etiquetas.numpy()[i]\n",
    "            if(etiqueta_verdadera == etiqueta_predicha):\n",
    "                conteo_correcto += 1\n",
    "            conteo_total += 1\n",
    "\n",
    "    print(\"Número de Imágenes Probadas =\", conteo_total)\n",
    "    print('Número de Imágenes Correctas =', conteo_correcto)\n",
    "    print(\"\\nExactitud del Modelo =\", (conteo_correcto/conteo_total))\n",
    "\n"
   ]
  },
  {
   "cell_type": "markdown",
   "metadata": {},
   "source": [
    "### Instanciar modelo, definir la funcion de perdida y el optimizador"
   ]
  },
  {
   "cell_type": "code",
   "execution_count": 11,
   "metadata": {},
   "outputs": [],
   "source": [
    "epocas = 10\n",
    "modelo = RedConvolucional().to(dispositivo)\n",
    "perdida_fn = nn.NLLLoss(reduction='mean')\n",
    "optimizador = optim.SGD(modelo.parameters(), lr=0.01, momentum=0.5)"
   ]
  },
  {
   "cell_type": "code",
   "execution_count": 12,
   "metadata": {},
   "outputs": [
    {
     "name": "stdout",
     "output_type": "stream",
     "text": [
      "Epoca: 1 | Perdida Entrenamiento: 0.521513\n",
      "Epoca: 1 | Perdida Validación: 0.163169\n",
      "--------------------------------------------\n",
      "Epoca: 2 | Perdida Entrenamiento: 0.165811\n",
      "Epoca: 2 | Perdida Validación: 0.095199\n",
      "--------------------------------------------\n",
      "Epoca: 3 | Perdida Entrenamiento: 0.122940\n",
      "Epoca: 3 | Perdida Validación: 0.076494\n",
      "--------------------------------------------\n",
      "Epoca: 4 | Perdida Entrenamiento: 0.101993\n",
      "Epoca: 4 | Perdida Validación: 0.058770\n",
      "--------------------------------------------\n",
      "Epoca: 5 | Perdida Entrenamiento: 0.088693\n",
      "Epoca: 5 | Perdida Validación: 0.048650\n",
      "--------------------------------------------\n",
      "Epoca: 6 | Perdida Entrenamiento: 0.079083\n",
      "Epoca: 6 | Perdida Validación: 0.049575\n",
      "--------------------------------------------\n",
      "Epoca: 7 | Perdida Entrenamiento: 0.071980\n",
      "Epoca: 7 | Perdida Validación: 0.042948\n",
      "--------------------------------------------\n",
      "Epoca: 8 | Perdida Entrenamiento: 0.066949\n",
      "Epoca: 8 | Perdida Validación: 0.040246\n",
      "--------------------------------------------\n",
      "Epoca: 9 | Perdida Entrenamiento: 0.061834\n",
      "Epoca: 9 | Perdida Validación: 0.037604\n",
      "--------------------------------------------\n",
      "Epoca: 10 | Perdida Entrenamiento: 0.058775\n",
      "Epoca: 10 | Perdida Validación: 0.034641\n",
      "--------------------------------------------\n",
      "Número de Imágenes Probadas = 10000\n",
      "Número de Imágenes Correctas = 9918\n",
      "\n",
      "Exactitud del Modelo = 0.9918\n"
     ]
    }
   ],
   "source": [
    "for epoca in range(1, epocas + 1):\n",
    "    entrenar(modelo, dispositivo, cargador_entrenamiento, optimizador, perdida_fn, epoca)\n",
    "    validar(modelo, dispositivo, cargador_validacion, perdida_fn)\n",
    "    print('--------------------------------------------')\n",
    "    \n",
    "probar(modelo, dispositivo, cargador_validacion)"
   ]
  },
  {
   "cell_type": "markdown",
   "metadata": {},
   "source": [
    "### Guardar el modelo\n",
    "\n",
    "Estamos contentos con las predicciones de nuestros modelos, así que guardémoslo en un archivo para que pueda usarse más tarde."
   ]
  },
  {
   "cell_type": "code",
   "execution_count": 13,
   "metadata": {},
   "outputs": [
    {
     "name": "stdout",
     "output_type": "stream",
     "text": [
      "Guardando modelo en: ..\\modelos\\22-RNC_modelo.pth\n"
     ]
    }
   ],
   "source": [
    "from pathlib import Path\n",
    "\n",
    "# 1. Crear un directorio para los modelos \n",
    "MODELOS_PATH = Path('../modelos')\n",
    "MODELOS_PATH.mkdir(parents=True, exist_ok=True)\n",
    "\n",
    "# 2. Crear path para el modelo \n",
    "MODELO_NOMBRE = \"22-RNC_modelo.pth\"\n",
    "MODELO_DIRECCION = MODELOS_PATH / MODELO_NOMBRE\n",
    "\n",
    "# 3. Guardar el state_dict del modelo\n",
    "print(f\"Guardando modelo en: {MODELO_DIRECCION}\")\n",
    "torch.save(obj=modelo.state_dict(), # guardando state_dict() solo guarda los parámetros del modelo\n",
    "           f=MODELO_DIRECCION)"
   ]
  },
  {
   "cell_type": "markdown",
   "metadata": {},
   "source": [
    "### Cargar modelo y continuar entrenamiento"
   ]
  },
  {
   "cell_type": "code",
   "execution_count": 14,
   "metadata": {},
   "outputs": [
    {
     "name": "stdout",
     "output_type": "stream",
     "text": [
      "Modelo cargado:\n",
      "RedConvolucional(\n",
      "  (conv_layers): Sequential(\n",
      "    (0): Conv2d(1, 32, kernel_size=(5, 5), stride=(1, 1))\n",
      "    (1): MaxPool2d(kernel_size=2, stride=2, padding=0, dilation=1, ceil_mode=False)\n",
      "    (2): ReLU()\n",
      "    (3): Conv2d(32, 64, kernel_size=(5, 5), stride=(1, 1))\n",
      "    (4): Dropout(p=0.5, inplace=False)\n",
      "    (5): MaxPool2d(kernel_size=2, stride=2, padding=0, dilation=1, ceil_mode=False)\n",
      "    (6): ReLU()\n",
      "  )\n",
      "  (fc_layers): Sequential(\n",
      "    (0): Linear(in_features=1024, out_features=100, bias=True)\n",
      "    (1): ReLU()\n",
      "    (2): Dropout(p=0.5, inplace=False)\n",
      "    (3): Linear(in_features=100, out_features=10, bias=True)\n",
      "    (4): Softmax(dim=1)\n",
      "  )\n",
      ")\n"
     ]
    }
   ],
   "source": [
    "# Instanciar una nueva instancia del modelo \n",
    "modelo = RedConvolucional()\n",
    "\n",
    "# Cargar el state dict del modelo\n",
    "modelo.load_state_dict(torch.load(MODELO_DIRECCION))\n",
    "\n",
    "# Colocar el modelo en el dispositivo destino (si los datos estan en el GPU, el modelo tiene que estar en el GPU para hacer predicciones)\n",
    "modelo.to(dispositivo)\n",
    "\n",
    "print(f\"Modelo cargado:\\n{modelo}\")"
   ]
  },
  {
   "cell_type": "code",
   "execution_count": 15,
   "metadata": {},
   "outputs": [
    {
     "name": "stdout",
     "output_type": "stream",
     "text": [
      "Epoca: 1 | Perdida Entrenamiento: 0.051815\n",
      "Epoca: 1 | Perdida Validación: 0.034446\n",
      "--------------------------------------------\n",
      "Epoca: 2 | Perdida Entrenamiento: 0.052512\n",
      "Epoca: 2 | Perdida Validación: 0.034436\n",
      "--------------------------------------------\n",
      "Epoca: 3 | Perdida Entrenamiento: 0.054210\n",
      "Epoca: 3 | Perdida Validación: 0.034523\n",
      "--------------------------------------------\n",
      "Epoca: 4 | Perdida Entrenamiento: 0.053778\n",
      "Epoca: 4 | Perdida Validación: 0.034577\n",
      "--------------------------------------------\n",
      "Epoca: 5 | Perdida Entrenamiento: 0.054417\n",
      "Epoca: 5 | Perdida Validación: 0.035247\n",
      "--------------------------------------------\n",
      "Número de Imágenes Probadas = 10000\n",
      "Número de Imágenes Correctas = 9918\n",
      "\n",
      "Exactitud del Modelo = 0.9918\n"
     ]
    }
   ],
   "source": [
    "epocas = 5\n",
    "for epoca in range(1, epocas + 1):\n",
    "    entrenar(modelo, dispositivo, cargador_entrenamiento, optimizador, perdida_fn, epoca)\n",
    "    validar(modelo, dispositivo, cargador_validacion, perdida_fn)\n",
    "    print('--------------------------------------------')\n",
    "    \n",
    "probar(modelo, dispositivo, cargador_validacion)"
   ]
  },
  {
   "cell_type": "code",
   "execution_count": null,
   "metadata": {},
   "outputs": [],
   "source": []
  }
 ],
 "metadata": {
  "kernelspec": {
   "display_name": "Python 3 (ipykernel)",
   "language": "python",
   "name": "python3"
  },
  "language_info": {
   "codemirror_mode": {
    "name": "ipython",
    "version": 3
   },
   "file_extension": ".py",
   "mimetype": "text/x-python",
   "name": "python",
   "nbconvert_exporter": "python",
   "pygments_lexer": "ipython3",
   "version": "3.8.13"
  }
 },
 "nbformat": 4,
 "nbformat_minor": 4
}
